{
 "cells": [
  {
   "cell_type": "markdown",
   "metadata": {},
   "source": [
    "## StartUp ML Challenge: On-time arrival data for Airlines\n",
    "    by MITHU EMILINE JAMES"
   ]
  },
  {
   "cell_type": "markdown",
   "metadata": {},
   "source": [
    "### Task: \n",
    "Build a binary classification model for predicting arrival delays > 15minutes without using departure delay as an input feature."
   ]
  },
  {
   "cell_type": "markdown",
   "metadata": {},
   "source": [
    "### Dataset: \n",
    "US Dept. of Transportation on-time performance data for non-stop domestic flights\n",
    "    - Link: https://transtats.bts.gov/DL_SelectFields.asp?Table_ID=236&DB_Short_Name=On-Time\n",
    "    - Data range: [Geography = All of America], [Period = Jan-Apr 2017, May-Jul 2016 and Nov-Dec 2016]"
   ]
  },
  {
   "cell_type": "markdown",
   "metadata": {},
   "source": [
    "### Approach: \n",
    "    1) Load data\n",
    "    2) Wrangle data: Check for class imbalances and handle it by sampling from the dataset\n",
    "    3) Wrangle data: Check for sparse columns to remove them\n",
    "    4) Wrangle data: Check for columns with a few missing values to impute with zero, mean or median\n",
    "    5) Wrangle data: Encode categorical values to numerical values\n",
    "    6) Exploratory analyss: Infer distribution of data using histograms\n",
    "    7) Exploratory analyss: Use measures of central tendency and IQR to understand data at various positions\n",
    "    8) Variable interdependence: Infer multicollinearity of data through correlation matrix\n",
    "    9) Feature selection: Remove redundant variables (i.e. columns that refer to the same thing e.g. ID)\n",
    "    10) Feature engineering: Remove highly collinear variables (i.e. correlation > 0.8)\n",
    "    11) Feature engineering: Reduce data dimension to the variables that most explain variation in target variable\n",
    "    12) Modeling building: Random forest is chosen for machine learning modeling\n",
    "    13) Model comparison: Random forest modeling with original raw data (PART 2) and PCA transformed data (PART 3)\n",
    "    14) Machine learning process:\n",
    "        (a) Train/test data: Split data for training and testing\n",
    "        (b) Model creation: Create models in a grid search for a combination of parameters\n",
    "        (c) Model selection: Use 10-fold cross validation to evaluate model performance and select the best one\n",
    "        (c) Final Model training: Use parameters of the best model from above to train on entire train set\n",
    "        (d) Final Model evaluation: Use 10-fold cross validation for average error on 10 folds of training data\n",
    "        (e) Final Model performance evaluation: Use confusion matrix, Precision, Recall, ROC to evaluate performance"
   ]
  },
  {
   "cell_type": "markdown",
   "metadata": {},
   "source": [
    "## PART 1"
   ]
  },
  {
   "cell_type": "markdown",
   "metadata": {},
   "source": [
    "### Environment set up"
   ]
  },
  {
   "cell_type": "code",
   "execution_count": 4,
   "metadata": {},
   "outputs": [],
   "source": [
    "import numpy as np\n",
    "import pandas as pd\n",
    "import csv\n",
    "import os\n",
    "#import tabulate\n",
    "from sklearn.preprocessing import LabelEncoder\n",
    "import matplotlib\n",
    "from matplotlib import pyplot as plt\n",
    "import matplotlib.pyplot as plt\n",
    "from datetime import datetime\n",
    "#from sklearn.preprocessing import Imputer\n",
    "from sklearn.decomposition import PCA\n",
    "from sklearn import linear_model, decomposition, datasets\n",
    "from sklearn.pipeline import Pipeline\n",
    "from sklearn.model_selection import train_test_split, cross_val_score, GridSearchCV\n",
    "from sklearn.ensemble import RandomForestClassifier\n",
    "#from sklearn import cross_validation\n",
    "from sklearn.metrics import confusion_matrix, roc_curve\n",
    "import warnings\n",
    "warnings.filterwarnings('ignore')\n",
    "%matplotlib inline\n",
    "get_ipython().magic('matplotlib inline')\n",
    "matplotlib.rcParams.update({'font.size': 12})\n",
    "matplotlib.rc('xtick', labelsize=8) \n",
    "matplotlib.rc('ytick', labelsize=8)"
   ]
  },
  {
   "cell_type": "markdown",
   "metadata": {},
   "source": [
    "### Data Set Up"
   ]
  },
  {
   "cell_type": "code",
   "execution_count": 35,
   "metadata": {},
   "outputs": [],
   "source": [
    "pd.set_option('display.max_columns', 500)"
   ]
  },
  {
   "cell_type": "code",
   "execution_count": 13,
   "metadata": {},
   "outputs": [],
   "source": [
    "fdata = pd.read_csv(r'C:\\Users\\hp\\Desktop\\Flight_status_up1.csv')"
   ]
  },
  {
   "cell_type": "markdown",
   "metadata": {},
   "source": [
    "startTime = datetime.now()\n",
    "folderPath = \"C:/Users/homeuser/Documents/MEJ/DS Challenge/StartUpML/Flight Delay/dataFiles\"\n",
    "os.chdir(folderPath)\n",
    "fdata = pd.DataFrame()\n",
    "for filename in os.listdir(os.getcwd()):#Reads all data files from above location\n",
    "    temp = pd.read_csv(filename)\n",
    "    fdata = fdata.append(temp)"
   ]
  },
  {
   "cell_type": "markdown",
   "metadata": {},
   "source": [
    "folderPath = \"C:/Users/homeuser/Documents/MEJ/DS Challenge/StartUpML/Flight Delay\"\n",
    "os.chdir(folderPath)#Setting working directory\n",
    "#fileName = \"On_Time_On_Time_Performance_2017_1.csv\"\n",
    "#fdata = pd.read_csv(fileName)\n",
    "#fdata.shape"
   ]
  },
  {
   "cell_type": "markdown",
   "metadata": {},
   "source": [
    "### Data Wrangling"
   ]
  },
  {
   "cell_type": "markdown",
   "metadata": {},
   "source": [
    "Target variable is 'ArrDel15' and there was substantial class imbalances as seen below. In order to avoid the classifier learning one class better than the other, sampling was done to even out the class imbalance."
   ]
  },
  {
   "cell_type": "code",
   "execution_count": 27,
   "metadata": {},
   "outputs": [
    {
     "name": "stdout",
     "output_type": "stream",
     "text": [
      "Class imbalance:\n",
      "0.0    852986\n",
      "1.0    176028\n",
      "Name: ArrDel15, dtype: int64\n",
      "Class imbalance evened out:\n",
      "0.0    176028\n",
      "1.0    176028\n",
      "Name: ArrDel15, dtype: int64\n"
     ]
    },
    {
     "data": {
      "text/plain": [
       "61"
      ]
     },
     "execution_count": 27,
     "metadata": {},
     "output_type": "execute_result"
    }
   ],
   "source": [
    "#Handles class imbalance through sampling\n",
    "classDistribution = fdata['ArrDel15'].value_counts()\n",
    "print('Class imbalance:')\n",
    "print(classDistribution)\n",
    "zero = fdata[fdata['ArrDel15']==0].tail(classDistribution.min())\n",
    "one = fdata[fdata['ArrDel15']==1]\n",
    "data = zero.append(one)\n",
    "del zero, one\n",
    "data.sort_values(['Year','Month','DayofMonth','DayOfWeek'], ascending=[False,False,False,False])\n",
    "#del fdata\n",
    "print('Class imbalance evened out:')\n",
    "print(data['ArrDel15'].value_counts())\n",
    "len(data.columns)"
   ]
  },
  {
   "cell_type": "code",
   "execution_count": 36,
   "metadata": {},
   "outputs": [
    {
     "data": {
      "text/html": [
       "<div>\n",
       "<style scoped>\n",
       "    .dataframe tbody tr th:only-of-type {\n",
       "        vertical-align: middle;\n",
       "    }\n",
       "\n",
       "    .dataframe tbody tr th {\n",
       "        vertical-align: top;\n",
       "    }\n",
       "\n",
       "    .dataframe thead th {\n",
       "        text-align: right;\n",
       "    }\n",
       "</style>\n",
       "<table border=\"1\" class=\"dataframe\">\n",
       "  <thead>\n",
       "    <tr style=\"text-align: right;\">\n",
       "      <th></th>\n",
       "      <th>FlightDate</th>\n",
       "      <th>Airline</th>\n",
       "      <th>Origin</th>\n",
       "      <th>Dest</th>\n",
       "      <th>Diverted</th>\n",
       "      <th>CRSDepTime</th>\n",
       "      <th>DepTime</th>\n",
       "      <th>DepDelayMinutes</th>\n",
       "      <th>DepDelay</th>\n",
       "      <th>ArrTime</th>\n",
       "      <th>ArrDelayMinutes</th>\n",
       "      <th>AirTime</th>\n",
       "      <th>CRSElapsedTime</th>\n",
       "      <th>ActualElapsedTime</th>\n",
       "      <th>Distance</th>\n",
       "      <th>Year</th>\n",
       "      <th>Quarter</th>\n",
       "      <th>Month</th>\n",
       "      <th>DayofMonth</th>\n",
       "      <th>DayOfWeek</th>\n",
       "      <th>Marketing_Airline_Network</th>\n",
       "      <th>Operated_or_Branded_Code_Share_Partners</th>\n",
       "      <th>DOT_ID_Marketing_Airline</th>\n",
       "      <th>IATA_Code_Marketing_Airline</th>\n",
       "      <th>Flight_Number_Marketing_Airline</th>\n",
       "      <th>Operating_Airline</th>\n",
       "      <th>DOT_ID_Operating_Airline</th>\n",
       "      <th>IATA_Code_Operating_Airline</th>\n",
       "      <th>Tail_Number</th>\n",
       "      <th>Flight_Number_Operating_Airline</th>\n",
       "      <th>OriginAirportID</th>\n",
       "      <th>OriginAirportSeqID</th>\n",
       "      <th>OriginCityMarketID</th>\n",
       "      <th>OriginCityName</th>\n",
       "      <th>OriginState</th>\n",
       "      <th>OriginStateFips</th>\n",
       "      <th>OriginStateName</th>\n",
       "      <th>OriginWac</th>\n",
       "      <th>DestAirportID</th>\n",
       "      <th>DestAirportSeqID</th>\n",
       "      <th>DestCityMarketID</th>\n",
       "      <th>DestCityName</th>\n",
       "      <th>DestState</th>\n",
       "      <th>DestStateFips</th>\n",
       "      <th>DestStateName</th>\n",
       "      <th>DestWac</th>\n",
       "      <th>DepDel15</th>\n",
       "      <th>DepartureDelayGroups</th>\n",
       "      <th>DepTimeBlk</th>\n",
       "      <th>TaxiOut</th>\n",
       "      <th>WheelsOff</th>\n",
       "      <th>WheelsOn</th>\n",
       "      <th>TaxiIn</th>\n",
       "      <th>CRSArrTime</th>\n",
       "      <th>ArrDelay</th>\n",
       "      <th>ArrDel15</th>\n",
       "      <th>ArrivalDelayGroups</th>\n",
       "      <th>ArrTimeBlk</th>\n",
       "      <th>DistanceGroup</th>\n",
       "      <th>DivAirportLandings</th>\n",
       "    </tr>\n",
       "  </thead>\n",
       "  <tbody>\n",
       "    <tr>\n",
       "      <th>836035</th>\n",
       "      <td>23-10-2018</td>\n",
       "      <td>Republic Airlines</td>\n",
       "      <td>BOS</td>\n",
       "      <td>BUF</td>\n",
       "      <td>False</td>\n",
       "      <td>1400</td>\n",
       "      <td>1411.0</td>\n",
       "      <td>11.0</td>\n",
       "      <td>11.0</td>\n",
       "      <td>1552.0</td>\n",
       "      <td>11.0</td>\n",
       "      <td>74.0</td>\n",
       "      <td>101</td>\n",
       "      <td>101.0</td>\n",
       "      <td>395</td>\n",
       "      <td>2018</td>\n",
       "      <td>4</td>\n",
       "      <td>10</td>\n",
       "      <td>23</td>\n",
       "      <td>2</td>\n",
       "      <td>DL</td>\n",
       "      <td>DL_CODESHARE</td>\n",
       "      <td>19790</td>\n",
       "      <td>DL</td>\n",
       "      <td>6080</td>\n",
       "      <td>YX</td>\n",
       "      <td>20452</td>\n",
       "      <td>YX</td>\n",
       "      <td>N875RW</td>\n",
       "      <td>6080</td>\n",
       "      <td>10721</td>\n",
       "      <td>1072102</td>\n",
       "      <td>30721</td>\n",
       "      <td>Boston, MA</td>\n",
       "      <td>MA</td>\n",
       "      <td>25</td>\n",
       "      <td>Massachusetts</td>\n",
       "      <td>13</td>\n",
       "      <td>10792</td>\n",
       "      <td>1079206</td>\n",
       "      <td>30792</td>\n",
       "      <td>Buffalo, NY</td>\n",
       "      <td>NY</td>\n",
       "      <td>36</td>\n",
       "      <td>New York</td>\n",
       "      <td>22</td>\n",
       "      <td>0.0</td>\n",
       "      <td>0.0</td>\n",
       "      <td>1400-1459</td>\n",
       "      <td>19.0</td>\n",
       "      <td>1430.0</td>\n",
       "      <td>1544.0</td>\n",
       "      <td>8.0</td>\n",
       "      <td>1541</td>\n",
       "      <td>11.0</td>\n",
       "      <td>0.0</td>\n",
       "      <td>0.0</td>\n",
       "      <td>1500-1559</td>\n",
       "      <td>2</td>\n",
       "      <td>0</td>\n",
       "    </tr>\n",
       "    <tr>\n",
       "      <th>836036</th>\n",
       "      <td>23-10-2018</td>\n",
       "      <td>Republic Airlines</td>\n",
       "      <td>BUF</td>\n",
       "      <td>BOS</td>\n",
       "      <td>False</td>\n",
       "      <td>1140</td>\n",
       "      <td>1159.0</td>\n",
       "      <td>19.0</td>\n",
       "      <td>19.0</td>\n",
       "      <td>1315.0</td>\n",
       "      <td>1.0</td>\n",
       "      <td>56.0</td>\n",
       "      <td>94</td>\n",
       "      <td>76.0</td>\n",
       "      <td>395</td>\n",
       "      <td>2018</td>\n",
       "      <td>4</td>\n",
       "      <td>10</td>\n",
       "      <td>23</td>\n",
       "      <td>2</td>\n",
       "      <td>DL</td>\n",
       "      <td>DL_CODESHARE</td>\n",
       "      <td>19790</td>\n",
       "      <td>DL</td>\n",
       "      <td>6081</td>\n",
       "      <td>YX</td>\n",
       "      <td>20452</td>\n",
       "      <td>YX</td>\n",
       "      <td>N867RW</td>\n",
       "      <td>6081</td>\n",
       "      <td>10792</td>\n",
       "      <td>1079206</td>\n",
       "      <td>30792</td>\n",
       "      <td>Buffalo, NY</td>\n",
       "      <td>NY</td>\n",
       "      <td>36</td>\n",
       "      <td>New York</td>\n",
       "      <td>22</td>\n",
       "      <td>10721</td>\n",
       "      <td>1072102</td>\n",
       "      <td>30721</td>\n",
       "      <td>Boston, MA</td>\n",
       "      <td>MA</td>\n",
       "      <td>25</td>\n",
       "      <td>Massachusetts</td>\n",
       "      <td>13</td>\n",
       "      <td>1.0</td>\n",
       "      <td>1.0</td>\n",
       "      <td>1100-1159</td>\n",
       "      <td>14.0</td>\n",
       "      <td>1213.0</td>\n",
       "      <td>1309.0</td>\n",
       "      <td>6.0</td>\n",
       "      <td>1314</td>\n",
       "      <td>1.0</td>\n",
       "      <td>0.0</td>\n",
       "      <td>0.0</td>\n",
       "      <td>1300-1359</td>\n",
       "      <td>2</td>\n",
       "      <td>0</td>\n",
       "    </tr>\n",
       "  </tbody>\n",
       "</table>\n",
       "</div>"
      ],
      "text/plain": [
       "        FlightDate            Airline Origin Dest  Diverted  CRSDepTime  \\\n",
       "836035  23-10-2018  Republic Airlines    BOS  BUF     False        1400   \n",
       "836036  23-10-2018  Republic Airlines    BUF  BOS     False        1140   \n",
       "\n",
       "        DepTime  DepDelayMinutes  DepDelay  ArrTime  ArrDelayMinutes  AirTime  \\\n",
       "836035   1411.0             11.0      11.0   1552.0             11.0     74.0   \n",
       "836036   1159.0             19.0      19.0   1315.0              1.0     56.0   \n",
       "\n",
       "        CRSElapsedTime  ActualElapsedTime  Distance  Year  Quarter  Month  \\\n",
       "836035             101              101.0       395  2018        4     10   \n",
       "836036              94               76.0       395  2018        4     10   \n",
       "\n",
       "        DayofMonth  DayOfWeek Marketing_Airline_Network  \\\n",
       "836035          23          2                        DL   \n",
       "836036          23          2                        DL   \n",
       "\n",
       "       Operated_or_Branded_Code_Share_Partners  DOT_ID_Marketing_Airline  \\\n",
       "836035                            DL_CODESHARE                     19790   \n",
       "836036                            DL_CODESHARE                     19790   \n",
       "\n",
       "       IATA_Code_Marketing_Airline  Flight_Number_Marketing_Airline  \\\n",
       "836035                          DL                             6080   \n",
       "836036                          DL                             6081   \n",
       "\n",
       "       Operating_Airline  DOT_ID_Operating_Airline  \\\n",
       "836035                YX                     20452   \n",
       "836036                YX                     20452   \n",
       "\n",
       "       IATA_Code_Operating_Airline Tail_Number  \\\n",
       "836035                          YX      N875RW   \n",
       "836036                          YX      N867RW   \n",
       "\n",
       "        Flight_Number_Operating_Airline  OriginAirportID  OriginAirportSeqID  \\\n",
       "836035                             6080            10721             1072102   \n",
       "836036                             6081            10792             1079206   \n",
       "\n",
       "        OriginCityMarketID OriginCityName OriginState  OriginStateFips  \\\n",
       "836035               30721     Boston, MA          MA               25   \n",
       "836036               30792    Buffalo, NY          NY               36   \n",
       "\n",
       "       OriginStateName  OriginWac  DestAirportID  DestAirportSeqID  \\\n",
       "836035   Massachusetts         13          10792           1079206   \n",
       "836036        New York         22          10721           1072102   \n",
       "\n",
       "        DestCityMarketID DestCityName DestState  DestStateFips  DestStateName  \\\n",
       "836035             30792  Buffalo, NY        NY             36       New York   \n",
       "836036             30721   Boston, MA        MA             25  Massachusetts   \n",
       "\n",
       "        DestWac  DepDel15  DepartureDelayGroups DepTimeBlk  TaxiOut  \\\n",
       "836035       22       0.0                   0.0  1400-1459     19.0   \n",
       "836036       13       1.0                   1.0  1100-1159     14.0   \n",
       "\n",
       "        WheelsOff  WheelsOn  TaxiIn  CRSArrTime  ArrDelay  ArrDel15  \\\n",
       "836035     1430.0    1544.0     8.0        1541      11.0       0.0   \n",
       "836036     1213.0    1309.0     6.0        1314       1.0       0.0   \n",
       "\n",
       "        ArrivalDelayGroups ArrTimeBlk  DistanceGroup  DivAirportLandings  \n",
       "836035                 0.0  1500-1559              2                   0  \n",
       "836036                 0.0  1300-1359              2                   0  "
      ]
     },
     "execution_count": 36,
     "metadata": {},
     "output_type": "execute_result"
    }
   ],
   "source": [
    "data.head(2)#Showing top 2 rows as sampled data is ordered by time with older data at the top"
   ]
  },
  {
   "cell_type": "code",
   "execution_count": 29,
   "metadata": {},
   "outputs": [
    {
     "data": {
      "text/html": [
       "<div>\n",
       "<style scoped>\n",
       "    .dataframe tbody tr th:only-of-type {\n",
       "        vertical-align: middle;\n",
       "    }\n",
       "\n",
       "    .dataframe tbody tr th {\n",
       "        vertical-align: top;\n",
       "    }\n",
       "\n",
       "    .dataframe thead th {\n",
       "        text-align: right;\n",
       "    }\n",
       "</style>\n",
       "<table border=\"1\" class=\"dataframe\">\n",
       "  <thead>\n",
       "    <tr style=\"text-align: right;\">\n",
       "      <th></th>\n",
       "      <th>FlightDate</th>\n",
       "      <th>Airline</th>\n",
       "      <th>Origin</th>\n",
       "      <th>Dest</th>\n",
       "      <th>Cancelled</th>\n",
       "      <th>Diverted</th>\n",
       "      <th>CRSDepTime</th>\n",
       "      <th>DepTime</th>\n",
       "      <th>DepDelayMinutes</th>\n",
       "      <th>DepDelay</th>\n",
       "      <th>...</th>\n",
       "      <th>WheelsOff</th>\n",
       "      <th>WheelsOn</th>\n",
       "      <th>TaxiIn</th>\n",
       "      <th>CRSArrTime</th>\n",
       "      <th>ArrDelay</th>\n",
       "      <th>ArrDel15</th>\n",
       "      <th>ArrivalDelayGroups</th>\n",
       "      <th>ArrTimeBlk</th>\n",
       "      <th>DistanceGroup</th>\n",
       "      <th>DivAirportLandings</th>\n",
       "    </tr>\n",
       "  </thead>\n",
       "  <tbody>\n",
       "    <tr>\n",
       "      <th>1048073</th>\n",
       "      <td>06-10-2018</td>\n",
       "      <td>United Air Lines Inc.</td>\n",
       "      <td>BTV</td>\n",
       "      <td>ORD</td>\n",
       "      <td>False</td>\n",
       "      <td>False</td>\n",
       "      <td>1320</td>\n",
       "      <td>1613.0</td>\n",
       "      <td>173.0</td>\n",
       "      <td>173.0</td>\n",
       "      <td>...</td>\n",
       "      <td>1623.0</td>\n",
       "      <td>1727.0</td>\n",
       "      <td>10.0</td>\n",
       "      <td>1437</td>\n",
       "      <td>180.0</td>\n",
       "      <td>1.0</td>\n",
       "      <td>12.0</td>\n",
       "      <td>1400-1459</td>\n",
       "      <td>4</td>\n",
       "      <td>0</td>\n",
       "    </tr>\n",
       "    <tr>\n",
       "      <th>1048081</th>\n",
       "      <td>06-10-2018</td>\n",
       "      <td>United Air Lines Inc.</td>\n",
       "      <td>HNL</td>\n",
       "      <td>LAX</td>\n",
       "      <td>False</td>\n",
       "      <td>False</td>\n",
       "      <td>2057</td>\n",
       "      <td>2212.0</td>\n",
       "      <td>75.0</td>\n",
       "      <td>75.0</td>\n",
       "      <td>...</td>\n",
       "      <td>2232.0</td>\n",
       "      <td>627.0</td>\n",
       "      <td>10.0</td>\n",
       "      <td>516</td>\n",
       "      <td>81.0</td>\n",
       "      <td>1.0</td>\n",
       "      <td>5.0</td>\n",
       "      <td>0001-0559</td>\n",
       "      <td>11</td>\n",
       "      <td>0</td>\n",
       "    </tr>\n",
       "  </tbody>\n",
       "</table>\n",
       "<p>2 rows × 61 columns</p>\n",
       "</div>"
      ],
      "text/plain": [
       "         FlightDate                Airline Origin Dest  Cancelled  Diverted  \\\n",
       "1048073  06-10-2018  United Air Lines Inc.    BTV  ORD      False     False   \n",
       "1048081  06-10-2018  United Air Lines Inc.    HNL  LAX      False     False   \n",
       "\n",
       "         CRSDepTime  DepTime  DepDelayMinutes  DepDelay  ...  WheelsOff  \\\n",
       "1048073        1320   1613.0            173.0     173.0  ...     1623.0   \n",
       "1048081        2057   2212.0             75.0      75.0  ...     2232.0   \n",
       "\n",
       "         WheelsOn  TaxiIn  CRSArrTime  ArrDelay  ArrDel15  ArrivalDelayGroups  \\\n",
       "1048073    1727.0    10.0        1437     180.0       1.0                12.0   \n",
       "1048081     627.0    10.0         516      81.0       1.0                 5.0   \n",
       "\n",
       "         ArrTimeBlk  DistanceGroup  DivAirportLandings  \n",
       "1048073   1400-1459              4                   0  \n",
       "1048081   0001-0559             11                   0  \n",
       "\n",
       "[2 rows x 61 columns]"
      ]
     },
     "execution_count": 29,
     "metadata": {},
     "output_type": "execute_result"
    }
   ],
   "source": [
    "data.tail(2)#Showing bottom 2 rows as sampled data is ordered by time with latest data at the bottom"
   ]
  },
  {
   "cell_type": "code",
   "execution_count": 30,
   "metadata": {},
   "outputs": [],
   "source": [
    "data = data[data.Cancelled != True]\n",
    "data.drop('Cancelled', axis = 1, inplace = True)"
   ]
  },
  {
   "cell_type": "code",
   "execution_count": 31,
   "metadata": {},
   "outputs": [
    {
     "data": {
      "text/plain": [
       "(352056, 60)"
      ]
     },
     "execution_count": 31,
     "metadata": {},
     "output_type": "execute_result"
    }
   ],
   "source": [
    "data.shape"
   ]
  },
  {
   "cell_type": "markdown",
   "metadata": {},
   "source": [
    "###### Sparsity: \n",
    "Columns with >80% missing values are worth not pursuing for analysis and cannot be imputed sensibly as well"
   ]
  },
  {
   "cell_type": "markdown",
   "metadata": {},
   "source": [
    "data = data.iloc[:,0:56]#Removing sparse columns based on the information given in DOT website\n",
    "print('Dimension reduced to:')\n",
    "len(data.columns)"
   ]
  },
  {
   "cell_type": "code",
   "execution_count": 32,
   "metadata": {
    "scrolled": true
   },
   "outputs": [
    {
     "name": "stdout",
     "output_type": "stream",
     "text": [
      "Dimension reduced to:\n",
      "60\n",
      "Sparsity per variable:\n"
     ]
    },
    {
     "data": {
      "text/plain": [
       "FlightDate                                 0.000000\n",
       "Airline                                    0.000000\n",
       "Origin                                     0.000000\n",
       "Dest                                       0.000000\n",
       "Diverted                                   0.000000\n",
       "CRSDepTime                                 0.000000\n",
       "DepTime                                    0.000000\n",
       "DepDelayMinutes                            0.000000\n",
       "DepDelay                                   0.000000\n",
       "ArrTime                                    0.000000\n",
       "ArrDelayMinutes                            0.000000\n",
       "AirTime                                    0.000247\n",
       "CRSElapsedTime                             0.000000\n",
       "ActualElapsedTime                          0.000000\n",
       "Distance                                   0.000000\n",
       "Year                                       0.000000\n",
       "Quarter                                    0.000000\n",
       "Month                                      0.000000\n",
       "DayofMonth                                 0.000000\n",
       "DayOfWeek                                  0.000000\n",
       "Marketing_Airline_Network                  0.000000\n",
       "Operated_or_Branded_Code_Share_Partners    0.000000\n",
       "DOT_ID_Marketing_Airline                   0.000000\n",
       "IATA_Code_Marketing_Airline                0.000000\n",
       "Flight_Number_Marketing_Airline            0.000000\n",
       "Operating_Airline                          0.000000\n",
       "DOT_ID_Operating_Airline                   0.000000\n",
       "IATA_Code_Operating_Airline                0.000000\n",
       "Tail_Number                                0.000000\n",
       "Flight_Number_Operating_Airline            0.000000\n",
       "OriginAirportID                            0.000000\n",
       "OriginAirportSeqID                         0.000000\n",
       "OriginCityMarketID                         0.000000\n",
       "OriginCityName                             0.000000\n",
       "OriginState                                0.000000\n",
       "OriginStateFips                            0.000000\n",
       "OriginStateName                            0.000000\n",
       "OriginWac                                  0.000000\n",
       "DestAirportID                              0.000000\n",
       "DestAirportSeqID                           0.000000\n",
       "DestCityMarketID                           0.000000\n",
       "DestCityName                               0.000000\n",
       "DestState                                  0.000000\n",
       "DestStateFips                              0.000000\n",
       "DestStateName                              0.000000\n",
       "DestWac                                    0.000000\n",
       "DepDel15                                   0.000099\n",
       "DepartureDelayGroups                       0.000099\n",
       "DepTimeBlk                                 0.000000\n",
       "TaxiOut                                    0.000247\n",
       "WheelsOff                                  0.000247\n",
       "WheelsOn                                   0.000247\n",
       "TaxiIn                                     0.000247\n",
       "CRSArrTime                                 0.000000\n",
       "ArrDelay                                   0.000000\n",
       "ArrDel15                                   0.000000\n",
       "ArrivalDelayGroups                         0.000000\n",
       "ArrTimeBlk                                 0.000000\n",
       "DistanceGroup                              0.000000\n",
       "DivAirportLandings                         0.000000\n",
       "dtype: float64"
      ]
     },
     "execution_count": 32,
     "metadata": {},
     "output_type": "execute_result"
    }
   ],
   "source": [
    "print('Dimension reduced to:')\n",
    "print(len(data.columns))\n",
    "print('Sparsity per variable:')\n",
    "((len(data.index) - data.count())/len(data.index))#Sparsity per variable retained"
   ]
  },
  {
   "cell_type": "code",
   "execution_count": 23,
   "metadata": {
    "scrolled": true
   },
   "outputs": [
    {
     "ename": "KeyError",
     "evalue": "\"[('DepDelay', 'DepDel15', 'ArrDelay', 'DepDelayMinutes', 'ArrDelayMinutes')] not found in axis\"",
     "output_type": "error",
     "traceback": [
      "\u001b[1;31m---------------------------------------------------------------------------\u001b[0m",
      "\u001b[1;31mKeyError\u001b[0m                                  Traceback (most recent call last)",
      "\u001b[1;32m~\\AppData\\Local\\Temp/ipykernel_23680/480545376.py\u001b[0m in \u001b[0;36m<module>\u001b[1;34m\u001b[0m\n\u001b[1;32m----> 1\u001b[1;33m data.drop([['DepDelay','DepDel15','ArrDelay','DepDelayMinutes','ArrDelayMinutes']],\n\u001b[0m\u001b[0;32m      2\u001b[0m           axis=1, inplace=True)#To be excluded as per the task\n\u001b[0;32m      3\u001b[0m \u001b[1;31m#data.drop(['CancellationCode'], axis=1, inplace=True)#Removed due to 100% sparsity as seen in above cell\u001b[0m\u001b[1;33m\u001b[0m\u001b[1;33m\u001b[0m\u001b[0m\n\u001b[0;32m      4\u001b[0m \u001b[0mdata\u001b[0m\u001b[1;33m[\u001b[0m\u001b[1;34m\"FlightDate\"\u001b[0m\u001b[1;33m]\u001b[0m \u001b[1;33m=\u001b[0m \u001b[0mdata\u001b[0m\u001b[1;33m[\u001b[0m\u001b[1;34m\"FlightDate\"\u001b[0m\u001b[1;33m]\u001b[0m\u001b[1;33m.\u001b[0m\u001b[0mapply\u001b[0m\u001b[1;33m(\u001b[0m\u001b[1;32mlambda\u001b[0m \u001b[0mx\u001b[0m\u001b[1;33m:\u001b[0m \u001b[0mint\u001b[0m\u001b[1;33m(\u001b[0m\u001b[1;34m''\u001b[0m\u001b[1;33m.\u001b[0m\u001b[0mjoin\u001b[0m\u001b[1;33m(\u001b[0m\u001b[0mx\u001b[0m\u001b[1;33m.\u001b[0m\u001b[0msplit\u001b[0m\u001b[1;33m(\u001b[0m\u001b[1;34m\"-\"\u001b[0m\u001b[1;33m)\u001b[0m\u001b[1;33m)\u001b[0m\u001b[1;33m)\u001b[0m\u001b[1;33m)\u001b[0m\u001b[1;31m#Formatting date for convinience\u001b[0m\u001b[1;33m\u001b[0m\u001b[1;33m\u001b[0m\u001b[0m\n",
      "\u001b[1;32m~\\anaconda3\\lib\\site-packages\\pandas\\util\\_decorators.py\u001b[0m in \u001b[0;36mwrapper\u001b[1;34m(*args, **kwargs)\u001b[0m\n\u001b[0;32m    309\u001b[0m                     \u001b[0mstacklevel\u001b[0m\u001b[1;33m=\u001b[0m\u001b[0mstacklevel\u001b[0m\u001b[1;33m,\u001b[0m\u001b[1;33m\u001b[0m\u001b[1;33m\u001b[0m\u001b[0m\n\u001b[0;32m    310\u001b[0m                 )\n\u001b[1;32m--> 311\u001b[1;33m             \u001b[1;32mreturn\u001b[0m \u001b[0mfunc\u001b[0m\u001b[1;33m(\u001b[0m\u001b[1;33m*\u001b[0m\u001b[0margs\u001b[0m\u001b[1;33m,\u001b[0m \u001b[1;33m**\u001b[0m\u001b[0mkwargs\u001b[0m\u001b[1;33m)\u001b[0m\u001b[1;33m\u001b[0m\u001b[1;33m\u001b[0m\u001b[0m\n\u001b[0m\u001b[0;32m    312\u001b[0m \u001b[1;33m\u001b[0m\u001b[0m\n\u001b[0;32m    313\u001b[0m         \u001b[1;32mreturn\u001b[0m \u001b[0mwrapper\u001b[0m\u001b[1;33m\u001b[0m\u001b[1;33m\u001b[0m\u001b[0m\n",
      "\u001b[1;32m~\\anaconda3\\lib\\site-packages\\pandas\\core\\frame.py\u001b[0m in \u001b[0;36mdrop\u001b[1;34m(self, labels, axis, index, columns, level, inplace, errors)\u001b[0m\n\u001b[0;32m   4904\u001b[0m                 \u001b[0mweight\u001b[0m  \u001b[1;36m1.0\u001b[0m     \u001b[1;36m0.8\u001b[0m\u001b[1;33m\u001b[0m\u001b[1;33m\u001b[0m\u001b[0m\n\u001b[0;32m   4905\u001b[0m         \"\"\"\n\u001b[1;32m-> 4906\u001b[1;33m         return super().drop(\n\u001b[0m\u001b[0;32m   4907\u001b[0m             \u001b[0mlabels\u001b[0m\u001b[1;33m=\u001b[0m\u001b[0mlabels\u001b[0m\u001b[1;33m,\u001b[0m\u001b[1;33m\u001b[0m\u001b[1;33m\u001b[0m\u001b[0m\n\u001b[0;32m   4908\u001b[0m             \u001b[0maxis\u001b[0m\u001b[1;33m=\u001b[0m\u001b[0maxis\u001b[0m\u001b[1;33m,\u001b[0m\u001b[1;33m\u001b[0m\u001b[1;33m\u001b[0m\u001b[0m\n",
      "\u001b[1;32m~\\anaconda3\\lib\\site-packages\\pandas\\core\\generic.py\u001b[0m in \u001b[0;36mdrop\u001b[1;34m(self, labels, axis, index, columns, level, inplace, errors)\u001b[0m\n\u001b[0;32m   4148\u001b[0m         \u001b[1;32mfor\u001b[0m \u001b[0maxis\u001b[0m\u001b[1;33m,\u001b[0m \u001b[0mlabels\u001b[0m \u001b[1;32min\u001b[0m \u001b[0maxes\u001b[0m\u001b[1;33m.\u001b[0m\u001b[0mitems\u001b[0m\u001b[1;33m(\u001b[0m\u001b[1;33m)\u001b[0m\u001b[1;33m:\u001b[0m\u001b[1;33m\u001b[0m\u001b[1;33m\u001b[0m\u001b[0m\n\u001b[0;32m   4149\u001b[0m             \u001b[1;32mif\u001b[0m \u001b[0mlabels\u001b[0m \u001b[1;32mis\u001b[0m \u001b[1;32mnot\u001b[0m \u001b[1;32mNone\u001b[0m\u001b[1;33m:\u001b[0m\u001b[1;33m\u001b[0m\u001b[1;33m\u001b[0m\u001b[0m\n\u001b[1;32m-> 4150\u001b[1;33m                 \u001b[0mobj\u001b[0m \u001b[1;33m=\u001b[0m \u001b[0mobj\u001b[0m\u001b[1;33m.\u001b[0m\u001b[0m_drop_axis\u001b[0m\u001b[1;33m(\u001b[0m\u001b[0mlabels\u001b[0m\u001b[1;33m,\u001b[0m \u001b[0maxis\u001b[0m\u001b[1;33m,\u001b[0m \u001b[0mlevel\u001b[0m\u001b[1;33m=\u001b[0m\u001b[0mlevel\u001b[0m\u001b[1;33m,\u001b[0m \u001b[0merrors\u001b[0m\u001b[1;33m=\u001b[0m\u001b[0merrors\u001b[0m\u001b[1;33m)\u001b[0m\u001b[1;33m\u001b[0m\u001b[1;33m\u001b[0m\u001b[0m\n\u001b[0m\u001b[0;32m   4151\u001b[0m \u001b[1;33m\u001b[0m\u001b[0m\n\u001b[0;32m   4152\u001b[0m         \u001b[1;32mif\u001b[0m \u001b[0minplace\u001b[0m\u001b[1;33m:\u001b[0m\u001b[1;33m\u001b[0m\u001b[1;33m\u001b[0m\u001b[0m\n",
      "\u001b[1;32m~\\anaconda3\\lib\\site-packages\\pandas\\core\\generic.py\u001b[0m in \u001b[0;36m_drop_axis\u001b[1;34m(self, labels, axis, level, errors)\u001b[0m\n\u001b[0;32m   4183\u001b[0m                 \u001b[0mnew_axis\u001b[0m \u001b[1;33m=\u001b[0m \u001b[0maxis\u001b[0m\u001b[1;33m.\u001b[0m\u001b[0mdrop\u001b[0m\u001b[1;33m(\u001b[0m\u001b[0mlabels\u001b[0m\u001b[1;33m,\u001b[0m \u001b[0mlevel\u001b[0m\u001b[1;33m=\u001b[0m\u001b[0mlevel\u001b[0m\u001b[1;33m,\u001b[0m \u001b[0merrors\u001b[0m\u001b[1;33m=\u001b[0m\u001b[0merrors\u001b[0m\u001b[1;33m)\u001b[0m\u001b[1;33m\u001b[0m\u001b[1;33m\u001b[0m\u001b[0m\n\u001b[0;32m   4184\u001b[0m             \u001b[1;32melse\u001b[0m\u001b[1;33m:\u001b[0m\u001b[1;33m\u001b[0m\u001b[1;33m\u001b[0m\u001b[0m\n\u001b[1;32m-> 4185\u001b[1;33m                 \u001b[0mnew_axis\u001b[0m \u001b[1;33m=\u001b[0m \u001b[0maxis\u001b[0m\u001b[1;33m.\u001b[0m\u001b[0mdrop\u001b[0m\u001b[1;33m(\u001b[0m\u001b[0mlabels\u001b[0m\u001b[1;33m,\u001b[0m \u001b[0merrors\u001b[0m\u001b[1;33m=\u001b[0m\u001b[0merrors\u001b[0m\u001b[1;33m)\u001b[0m\u001b[1;33m\u001b[0m\u001b[1;33m\u001b[0m\u001b[0m\n\u001b[0m\u001b[0;32m   4186\u001b[0m             \u001b[0mresult\u001b[0m \u001b[1;33m=\u001b[0m \u001b[0mself\u001b[0m\u001b[1;33m.\u001b[0m\u001b[0mreindex\u001b[0m\u001b[1;33m(\u001b[0m\u001b[1;33m**\u001b[0m\u001b[1;33m{\u001b[0m\u001b[0maxis_name\u001b[0m\u001b[1;33m:\u001b[0m \u001b[0mnew_axis\u001b[0m\u001b[1;33m}\u001b[0m\u001b[1;33m)\u001b[0m\u001b[1;33m\u001b[0m\u001b[1;33m\u001b[0m\u001b[0m\n\u001b[0;32m   4187\u001b[0m \u001b[1;33m\u001b[0m\u001b[0m\n",
      "\u001b[1;32m~\\anaconda3\\lib\\site-packages\\pandas\\core\\indexes\\base.py\u001b[0m in \u001b[0;36mdrop\u001b[1;34m(self, labels, errors)\u001b[0m\n\u001b[0;32m   6015\u001b[0m         \u001b[1;32mif\u001b[0m \u001b[0mmask\u001b[0m\u001b[1;33m.\u001b[0m\u001b[0many\u001b[0m\u001b[1;33m(\u001b[0m\u001b[1;33m)\u001b[0m\u001b[1;33m:\u001b[0m\u001b[1;33m\u001b[0m\u001b[1;33m\u001b[0m\u001b[0m\n\u001b[0;32m   6016\u001b[0m             \u001b[1;32mif\u001b[0m \u001b[0merrors\u001b[0m \u001b[1;33m!=\u001b[0m \u001b[1;34m\"ignore\"\u001b[0m\u001b[1;33m:\u001b[0m\u001b[1;33m\u001b[0m\u001b[1;33m\u001b[0m\u001b[0m\n\u001b[1;32m-> 6017\u001b[1;33m                 \u001b[1;32mraise\u001b[0m \u001b[0mKeyError\u001b[0m\u001b[1;33m(\u001b[0m\u001b[1;34mf\"{labels[mask]} not found in axis\"\u001b[0m\u001b[1;33m)\u001b[0m\u001b[1;33m\u001b[0m\u001b[1;33m\u001b[0m\u001b[0m\n\u001b[0m\u001b[0;32m   6018\u001b[0m             \u001b[0mindexer\u001b[0m \u001b[1;33m=\u001b[0m \u001b[0mindexer\u001b[0m\u001b[1;33m[\u001b[0m\u001b[1;33m~\u001b[0m\u001b[0mmask\u001b[0m\u001b[1;33m]\u001b[0m\u001b[1;33m\u001b[0m\u001b[1;33m\u001b[0m\u001b[0m\n\u001b[0;32m   6019\u001b[0m         \u001b[1;32mreturn\u001b[0m \u001b[0mself\u001b[0m\u001b[1;33m.\u001b[0m\u001b[0mdelete\u001b[0m\u001b[1;33m(\u001b[0m\u001b[0mindexer\u001b[0m\u001b[1;33m)\u001b[0m\u001b[1;33m\u001b[0m\u001b[1;33m\u001b[0m\u001b[0m\n",
      "\u001b[1;31mKeyError\u001b[0m: \"[('DepDelay', 'DepDel15', 'ArrDelay', 'DepDelayMinutes', 'ArrDelayMinutes')] not found in axis\""
     ]
    }
   ],
   "source": [
    "data.drop(['DepDelay','DepDel15','ArrDelay','DepDelayMinutes','ArrDelayMinutes'],\n",
    "          axis=1, inplace=True)#To be excluded as per the task\n",
    "#data.drop(['CancellationCode'], axis=1, inplace=True)#Removed due to 100% sparsity as seen in above cell\n",
    "data[\"FlightDate\"] = data[\"FlightDate\"].apply(lambda x: int(''.join(x.split(\"-\"))))#Formatting date for convinience"
   ]
  },
  {
   "cell_type": "code",
   "execution_count": 33,
   "metadata": {
    "scrolled": true
   },
   "outputs": [
    {
     "name": "stdout",
     "output_type": "stream",
     "text": [
      "Datatype of variables:\n"
     ]
    },
    {
     "data": {
      "text/plain": [
       "FlightDate                                  object\n",
       "Airline                                     object\n",
       "Origin                                      object\n",
       "Dest                                        object\n",
       "Diverted                                      bool\n",
       "CRSDepTime                                   int64\n",
       "DepTime                                    float64\n",
       "DepDelayMinutes                            float64\n",
       "DepDelay                                   float64\n",
       "ArrTime                                    float64\n",
       "ArrDelayMinutes                            float64\n",
       "AirTime                                    float64\n",
       "CRSElapsedTime                               int64\n",
       "ActualElapsedTime                          float64\n",
       "Distance                                     int64\n",
       "Year                                         int64\n",
       "Quarter                                      int64\n",
       "Month                                        int64\n",
       "DayofMonth                                   int64\n",
       "DayOfWeek                                    int64\n",
       "Marketing_Airline_Network                   object\n",
       "Operated_or_Branded_Code_Share_Partners     object\n",
       "DOT_ID_Marketing_Airline                     int64\n",
       "IATA_Code_Marketing_Airline                 object\n",
       "Flight_Number_Marketing_Airline              int64\n",
       "Operating_Airline                           object\n",
       "DOT_ID_Operating_Airline                     int64\n",
       "IATA_Code_Operating_Airline                 object\n",
       "Tail_Number                                 object\n",
       "Flight_Number_Operating_Airline              int64\n",
       "OriginAirportID                              int64\n",
       "OriginAirportSeqID                           int64\n",
       "OriginCityMarketID                           int64\n",
       "OriginCityName                              object\n",
       "OriginState                                 object\n",
       "OriginStateFips                              int64\n",
       "OriginStateName                             object\n",
       "OriginWac                                    int64\n",
       "DestAirportID                                int64\n",
       "DestAirportSeqID                             int64\n",
       "DestCityMarketID                             int64\n",
       "DestCityName                                object\n",
       "DestState                                   object\n",
       "DestStateFips                                int64\n",
       "DestStateName                               object\n",
       "DestWac                                      int64\n",
       "DepDel15                                   float64\n",
       "DepartureDelayGroups                       float64\n",
       "DepTimeBlk                                  object\n",
       "TaxiOut                                    float64\n",
       "WheelsOff                                  float64\n",
       "WheelsOn                                   float64\n",
       "TaxiIn                                     float64\n",
       "CRSArrTime                                   int64\n",
       "ArrDelay                                   float64\n",
       "ArrDel15                                   float64\n",
       "ArrivalDelayGroups                         float64\n",
       "ArrTimeBlk                                  object\n",
       "DistanceGroup                                int64\n",
       "DivAirportLandings                           int64\n",
       "dtype: object"
      ]
     },
     "execution_count": 33,
     "metadata": {},
     "output_type": "execute_result"
    }
   ],
   "source": [
    "print('Datatype of variables:')\n",
    "data.dtypes#Checking variable data type as numeric type is most easy to deal with"
   ]
  },
  {
   "cell_type": "markdown",
   "metadata": {},
   "source": [
    "### Exploratory Analysis"
   ]
  },
  {
   "cell_type": "code",
   "execution_count": 39,
   "metadata": {
    "scrolled": true
   },
   "outputs": [
    {
     "data": {
      "text/plain": [
       "<Figure size 1080x360 with 0 Axes>"
      ]
     },
     "metadata": {},
     "output_type": "display_data"
    },
    {
     "data": {
      "image/png": "[encoded data removed]",
      "text/plain": [
       "<Figure size 432x288 with 1 Axes>"
      ]
     },
     "metadata": {
      "needs_background": "light"
     },
     "output_type": "display_data"
    },
    {
     "data": {
      "image/png": "[encoded data removed]",
      "text/plain": [
       "<Figure size 432x288 with 1 Axes>"
      ]
     },
     "metadata": {
      "needs_background": "light"
     },
     "output_type": "display_data"
    },
    {
     "data": {
      "image/png": "[encoded data removed]",
      "text/plain": [
       "<Figure size 432x288 with 1 Axes>"
      ]
     },
     "metadata": {
      "needs_background": "light"
     },
     "output_type": "display_data"
    },
    {
     "data": {
      "image/png": "[encoded data removed]",
      "text/plain": [
       "<Figure size 432x288 with 1 Axes>"
      ]
     },
     "metadata": {
      "needs_background": "light"
     },
     "output_type": "display_data"
    },
    {
     "data": {
      "image/png": "[encoded data removed]",
      "text/plain": [
       "<Figure size 432x288 with 1 Axes>"
      ]
     },
     "metadata": {
      "needs_background": "light"
     },
     "output_type": "display_data"
    },
    {
     "data": {
      "image/png": "[encoded data removed]",
      "text/plain": [
       "<Figure size 432x288 with 1 Axes>"
      ]
     },
     "metadata": {
      "needs_background": "light"
     },
     "output_type": "display_data"
    },
    {
     "data": {
      "image/png": "[encoded data removed]",
      "text/plain": [
       "<Figure size 432x288 with 1 Axes>"
      ]
     },
     "metadata": {
      "needs_background": "light"
     },
     "output_type": "display_data"
    },
    {
     "data": {
      "image/png": "[encoded data removed]",
      "text/plain": [
       "<Figure size 432x288 with 1 Axes>"
      ]
     },
     "metadata": {
      "needs_background": "light"
     },
     "output_type": "display_data"
    }
   ],
   "source": [
    "# Proportion of late flights per category based on all other flights\n",
    "\n",
    "avgLate = np.sum(data['ArrDel15'])/len(data['ArrDel15'])\n",
    "attributes = ['Month','DayOfWeek', 'DayofMonth', 'DepTimeBlk','ArrTimeBlk','Operating_Airline',\n",
    "             'ArrivalDelayGroups','DepartureDelayGroups']\n",
    "for i,pred in enumerate(attributes):\n",
    "    plt.figure(i, figsize=(15, 5))\n",
    "    group = data.groupby([pred], as_index=False).aggregate(np.mean)[[pred, 'ArrDel15']]\n",
    "    group.sort_values(by=pred, inplace=True)    \n",
    "    group.plot.bar(x=pred, y='ArrDel15')\n",
    "    plt.axhline(y=avgLate, label='Average')\n",
    "    plt.ylabel('Percent of Flights that Arrive Late')\n",
    "    plt.title(pred)\n",
    "    plt.legend().remove()"
   ]
  },
  {
   "cell_type": "markdown",
   "metadata": {},
   "source": [
    "###### Exploratory analysis reveals:\n",
    "\n",
    "    (1) Delay changes substantially with Month e.g. lower delays in Autumn months   \n",
    "    (2) Not much variation within week and day of month    \n",
    "    (3) Higher delays for flights with departure and arrival time blocks from 3pm until midnight   \n",
    "        (a) There seems to be a lag in the pattern for arrival time block   \n",
    "        (b) Pattern starts with departure time block around 2pm and lasts until midnight    \n",
    "        (c) Pattern starts with arrival time block around 4pm and lasts until 1am (with a lag of 1-2hrs)   \n",
    "    (5)Similar pattern is observed for arrival and departure delay groups    "
   ]
  },
  {
   "cell_type": "markdown",
   "metadata": {},
   "source": [
    "###### Label encoding:\n",
    "Conversion of categorical values to numericals"
   ]
  },
  {
   "cell_type": "code",
   "execution_count": 40,
   "metadata": {},
   "outputs": [
    {
     "data": {
      "text/plain": [
       "Index(['FlightDate', 'Airline', 'Origin', 'Dest', 'Diverted', 'CRSDepTime',\n",
       "       'DepTime', 'DepDelayMinutes', 'DepDelay', 'ArrTime', 'ArrDelayMinutes',\n",
       "       'AirTime', 'CRSElapsedTime', 'ActualElapsedTime', 'Distance', 'Year',\n",
       "       'Quarter', 'Month', 'DayofMonth', 'DayOfWeek',\n",
       "       'Marketing_Airline_Network', 'Operated_or_Branded_Code_Share_Partners',\n",
       "       'DOT_ID_Marketing_Airline', 'IATA_Code_Marketing_Airline',\n",
       "       'Flight_Number_Marketing_Airline', 'Operating_Airline',\n",
       "       'DOT_ID_Operating_Airline', 'IATA_Code_Operating_Airline',\n",
       "       'Tail_Number', 'Flight_Number_Operating_Airline', 'OriginAirportID',\n",
       "       'OriginAirportSeqID', 'OriginCityMarketID', 'OriginCityName',\n",
       "       'OriginState', 'OriginStateFips', 'OriginStateName', 'OriginWac',\n",
       "       'DestAirportID', 'DestAirportSeqID', 'DestCityMarketID', 'DestCityName',\n",
       "       'DestState', 'DestStateFips', 'DestStateName', 'DestWac', 'DepDel15',\n",
       "       'DepartureDelayGroups', 'DepTimeBlk', 'TaxiOut', 'WheelsOff',\n",
       "       'WheelsOn', 'TaxiIn', 'CRSArrTime', 'ArrDelay', 'ArrDel15',\n",
       "       'ArrivalDelayGroups', 'ArrTimeBlk', 'DistanceGroup',\n",
       "       'DivAirportLandings'],\n",
       "      dtype='object')"
      ]
     },
     "execution_count": 40,
     "metadata": {},
     "output_type": "execute_result"
    }
   ],
   "source": [
    "data.columns"
   ]
  },
  {
   "cell_type": "code",
   "execution_count": 41,
   "metadata": {},
   "outputs": [],
   "source": [
    "le = LabelEncoder()\n",
    "\n",
    "data[\"Operating Airline\"] = le.fit_transform(data[\"Operating_Airline\"])\n",
    "UniqueCarrier = list(le.classes_)\n",
    "#data[\"Carrier_Name\"] = le.fit_transform(data[\"Carrier\"])\n",
    "Carrier = list(le.classes_)\n",
    "data[\"Tail_Number\"] = le.fit_transform(data[\"Tail_Number\"])\n",
    "TailNum = list(le.classes_)\n",
    "\n",
    "data[\"Origin_Point\"] = le.fit_transform(data[\"Origin\"])\n",
    "Origin = list(le.classes_)\n",
    "data[\"Origin_CityName\"] = le.fit_transform(data[\"OriginCityName\"])\n",
    "OriginCityName = list(le.classes_)\n",
    "data[\"Origin_State\"] = le.fit_transform(data[\"OriginState\"])\n",
    "OriginState = list(le.classes_)\n",
    "data[\"OriginState_Name\"] = le.fit_transform(data[\"OriginStateName\"])\n",
    "OriginStateName = list(le.classes_)\n",
    "\n",
    "data[\"Destination\"] = le.fit_transform(data[\"Dest\"])\n",
    "Dest = list(le.classes_)\n",
    "data[\"Dest_CityName\"] = le.fit_transform(data[\"DestCityName\"])\n",
    "DestCityName = list(le.classes_)\n",
    "data[\"Dest_State\"] = le.fit_transform(data[\"DestState\"])\n",
    "DestState = list(le.classes_)\n",
    "data[\"Dest_StateName\"] = le.fit_transform(data[\"DestStateName\"])\n",
    "DestStateName = list(le.classes_)\n",
    "\n",
    "data[\"DepTime_Blk\"] = le.fit_transform(data[\"DepTimeBlk\"])\n",
    "DepTimeBlk = list(le.classes_)\n",
    "data[\"ArrTime_Blk\"] = le.fit_transform(data[\"ArrTimeBlk\"])\n",
    "ArrTimeBlk = list(le.classes_)"
   ]
  },
  {
   "cell_type": "code",
   "execution_count": 43,
   "metadata": {},
   "outputs": [],
   "source": [
    "data.drop(['Operating_Airline',\n",
    "           'Origin','OriginCityName','OriginState','OriginStateName',\n",
    "          'Dest','DestCityName','DestState','DestStateName',\n",
    "          'DepTimeBlk','ArrTimeBlk'], axis=1, inplace=True)#Removing original encoded columns"
   ]
  },
  {
   "cell_type": "code",
   "execution_count": 44,
   "metadata": {},
   "outputs": [],
   "source": [
    "data.drop(['DepartureDelayGroups','ArrivalDelayGroups'], axis=1, inplace=True)#Removing delay details as per the task"
   ]
  },
  {
   "cell_type": "code",
   "execution_count": 45,
   "metadata": {},
   "outputs": [
    {
     "name": "stdout",
     "output_type": "stream",
     "text": [
      "Dimension reduced to:\n",
      "57\n"
     ]
    },
    {
     "data": {
      "text/html": [
       "<div>\n",
       "<style scoped>\n",
       "    .dataframe tbody tr th:only-of-type {\n",
       "        vertical-align: middle;\n",
       "    }\n",
       "\n",
       "    .dataframe tbody tr th {\n",
       "        vertical-align: top;\n",
       "    }\n",
       "\n",
       "    .dataframe thead th {\n",
       "        text-align: right;\n",
       "    }\n",
       "</style>\n",
       "<table border=\"1\" class=\"dataframe\">\n",
       "  <thead>\n",
       "    <tr style=\"text-align: right;\">\n",
       "      <th></th>\n",
       "      <th>CRSDepTime</th>\n",
       "      <th>DepTime</th>\n",
       "      <th>DepDelayMinutes</th>\n",
       "      <th>DepDelay</th>\n",
       "      <th>ArrTime</th>\n",
       "      <th>ArrDelayMinutes</th>\n",
       "      <th>AirTime</th>\n",
       "      <th>CRSElapsedTime</th>\n",
       "      <th>ActualElapsedTime</th>\n",
       "      <th>Distance</th>\n",
       "      <th>Year</th>\n",
       "      <th>Quarter</th>\n",
       "      <th>Month</th>\n",
       "      <th>DayofMonth</th>\n",
       "      <th>DayOfWeek</th>\n",
       "      <th>DOT_ID_Marketing_Airline</th>\n",
       "      <th>Flight_Number_Marketing_Airline</th>\n",
       "      <th>DOT_ID_Operating_Airline</th>\n",
       "      <th>Tail_Number</th>\n",
       "      <th>Flight_Number_Operating_Airline</th>\n",
       "      <th>OriginAirportID</th>\n",
       "      <th>OriginAirportSeqID</th>\n",
       "      <th>OriginCityMarketID</th>\n",
       "      <th>OriginStateFips</th>\n",
       "      <th>OriginWac</th>\n",
       "      <th>DestAirportID</th>\n",
       "      <th>DestAirportSeqID</th>\n",
       "      <th>DestCityMarketID</th>\n",
       "      <th>DestStateFips</th>\n",
       "      <th>DestWac</th>\n",
       "      <th>DepDel15</th>\n",
       "      <th>TaxiOut</th>\n",
       "      <th>WheelsOff</th>\n",
       "      <th>WheelsOn</th>\n",
       "      <th>TaxiIn</th>\n",
       "      <th>CRSArrTime</th>\n",
       "      <th>ArrDelay</th>\n",
       "      <th>ArrDel15</th>\n",
       "      <th>DistanceGroup</th>\n",
       "      <th>DivAirportLandings</th>\n",
       "      <th>Origin_Point</th>\n",
       "      <th>Origin_CityName</th>\n",
       "      <th>Origin_State</th>\n",
       "      <th>OriginState_Name</th>\n",
       "      <th>Destination</th>\n",
       "      <th>Dest_CityName</th>\n",
       "      <th>Dest_State</th>\n",
       "      <th>Dest_StateName</th>\n",
       "      <th>DepTime_Blk</th>\n",
       "      <th>ArrTime_Blk</th>\n",
       "    </tr>\n",
       "  </thead>\n",
       "  <tbody>\n",
       "    <tr>\n",
       "      <th>count</th>\n",
       "      <td>352056.000000</td>\n",
       "      <td>352056.000000</td>\n",
       "      <td>352056.000000</td>\n",
       "      <td>352056.000000</td>\n",
       "      <td>352056.000000</td>\n",
       "      <td>352056.000000</td>\n",
       "      <td>351969.000000</td>\n",
       "      <td>352056.000000</td>\n",
       "      <td>352056.000000</td>\n",
       "      <td>352056.000000</td>\n",
       "      <td>352056.0</td>\n",
       "      <td>352056.000000</td>\n",
       "      <td>352056.000000</td>\n",
       "      <td>352056.000000</td>\n",
       "      <td>352056.000000</td>\n",
       "      <td>352056.000000</td>\n",
       "      <td>352056.000000</td>\n",
       "      <td>352056.000000</td>\n",
       "      <td>352056.000000</td>\n",
       "      <td>352056.000000</td>\n",
       "      <td>352056.000000</td>\n",
       "      <td>3.520560e+05</td>\n",
       "      <td>352056.000000</td>\n",
       "      <td>352056.000000</td>\n",
       "      <td>352056.000000</td>\n",
       "      <td>352056.000000</td>\n",
       "      <td>3.520560e+05</td>\n",
       "      <td>352056.000000</td>\n",
       "      <td>352056.000000</td>\n",
       "      <td>352056.000000</td>\n",
       "      <td>352021.000000</td>\n",
       "      <td>351969.000000</td>\n",
       "      <td>351969.000000</td>\n",
       "      <td>351969.000000</td>\n",
       "      <td>351969.000000</td>\n",
       "      <td>352056.000000</td>\n",
       "      <td>352056.000000</td>\n",
       "      <td>352056.000000</td>\n",
       "      <td>352056.000000</td>\n",
       "      <td>352056.0</td>\n",
       "      <td>352056.000000</td>\n",
       "      <td>352056.000000</td>\n",
       "      <td>352056.000000</td>\n",
       "      <td>352056.000000</td>\n",
       "      <td>352056.000000</td>\n",
       "      <td>352056.000000</td>\n",
       "      <td>352056.000000</td>\n",
       "      <td>352056.000000</td>\n",
       "      <td>352056.000000</td>\n",
       "      <td>352056.000000</td>\n",
       "    </tr>\n",
       "    <tr>\n",
       "      <th>mean</th>\n",
       "      <td>1361.420183</td>\n",
       "      <td>1389.092678</td>\n",
       "      <td>30.820784</td>\n",
       "      <td>28.426069</td>\n",
       "      <td>1507.700497</td>\n",
       "      <td>32.664525</td>\n",
       "      <td>109.089894</td>\n",
       "      <td>137.512169</td>\n",
       "      <td>136.642736</td>\n",
       "      <td>771.507073</td>\n",
       "      <td>2018.0</td>\n",
       "      <td>3.337736</td>\n",
       "      <td>8.013208</td>\n",
       "      <td>15.529643</td>\n",
       "      <td>3.720255</td>\n",
       "      <td>19852.095209</td>\n",
       "      <td>2645.833998</td>\n",
       "      <td>20020.127889</td>\n",
       "      <td>2972.882192</td>\n",
       "      <td>2645.970471</td>\n",
       "      <td>12650.558735</td>\n",
       "      <td>1.265060e+06</td>\n",
       "      <td>31755.923612</td>\n",
       "      <td>27.326863</td>\n",
       "      <td>53.901621</td>\n",
       "      <td>12686.883121</td>\n",
       "      <td>1.268692e+06</td>\n",
       "      <td>31773.975734</td>\n",
       "      <td>27.230426</td>\n",
       "      <td>53.966434</td>\n",
       "      <td>0.398880</td>\n",
       "      <td>19.600843</td>\n",
       "      <td>1415.719740</td>\n",
       "      <td>1505.529808</td>\n",
       "      <td>7.976586</td>\n",
       "      <td>1524.820494</td>\n",
       "      <td>27.576102</td>\n",
       "      <td>0.500000</td>\n",
       "      <td>3.560581</td>\n",
       "      <td>0.0</td>\n",
       "      <td>173.365144</td>\n",
       "      <td>166.487215</td>\n",
       "      <td>22.241587</td>\n",
       "      <td>22.224601</td>\n",
       "      <td>174.685968</td>\n",
       "      <td>169.569486</td>\n",
       "      <td>22.158958</td>\n",
       "      <td>22.129661</td>\n",
       "      <td>8.356546</td>\n",
       "      <td>10.029924</td>\n",
       "    </tr>\n",
       "    <tr>\n",
       "      <th>std</th>\n",
       "      <td>479.024988</td>\n",
       "      <td>499.094763</td>\n",
       "      <td>68.704098</td>\n",
       "      <td>69.859173</td>\n",
       "      <td>550.209735</td>\n",
       "      <td>67.954517</td>\n",
       "      <td>70.155212</td>\n",
       "      <td>71.587013</td>\n",
       "      <td>72.538455</td>\n",
       "      <td>586.787057</td>\n",
       "      <td>0.0</td>\n",
       "      <td>1.244268</td>\n",
       "      <td>3.732804</td>\n",
       "      <td>8.776937</td>\n",
       "      <td>1.980098</td>\n",
       "      <td>289.484311</td>\n",
       "      <td>1845.654782</td>\n",
       "      <td>411.945773</td>\n",
       "      <td>1671.856332</td>\n",
       "      <td>1846.351977</td>\n",
       "      <td>1534.937586</td>\n",
       "      <td>1.534936e+05</td>\n",
       "      <td>1305.247462</td>\n",
       "      <td>16.206969</td>\n",
       "      <td>26.564077</td>\n",
       "      <td>1540.992733</td>\n",
       "      <td>1.540991e+05</td>\n",
       "      <td>1311.782004</td>\n",
       "      <td>16.325393</td>\n",
       "      <td>26.720910</td>\n",
       "      <td>0.489669</td>\n",
       "      <td>12.879188</td>\n",
       "      <td>500.764859</td>\n",
       "      <td>543.591415</td>\n",
       "      <td>6.902930</td>\n",
       "      <td>507.784389</td>\n",
       "      <td>70.832464</td>\n",
       "      <td>0.500001</td>\n",
       "      <td>2.321965</td>\n",
       "      <td>0.0</td>\n",
       "      <td>98.431208</td>\n",
       "      <td>101.740660</td>\n",
       "      <td>15.142604</td>\n",
       "      <td>15.204973</td>\n",
       "      <td>98.815949</td>\n",
       "      <td>101.830650</td>\n",
       "      <td>15.200069</td>\n",
       "      <td>15.263110</td>\n",
       "      <td>4.746682</td>\n",
       "      <td>4.893963</td>\n",
       "    </tr>\n",
       "    <tr>\n",
       "      <th>min</th>\n",
       "      <td>4.000000</td>\n",
       "      <td>1.000000</td>\n",
       "      <td>0.000000</td>\n",
       "      <td>-39.000000</td>\n",
       "      <td>1.000000</td>\n",
       "      <td>0.000000</td>\n",
       "      <td>8.000000</td>\n",
       "      <td>-99.000000</td>\n",
       "      <td>17.000000</td>\n",
       "      <td>16.000000</td>\n",
       "      <td>2018.0</td>\n",
       "      <td>1.000000</td>\n",
       "      <td>1.000000</td>\n",
       "      <td>1.000000</td>\n",
       "      <td>1.000000</td>\n",
       "      <td>19393.000000</td>\n",
       "      <td>1.000000</td>\n",
       "      <td>19393.000000</td>\n",
       "      <td>0.000000</td>\n",
       "      <td>1.000000</td>\n",
       "      <td>10135.000000</td>\n",
       "      <td>1.013505e+06</td>\n",
       "      <td>30070.000000</td>\n",
       "      <td>1.000000</td>\n",
       "      <td>1.000000</td>\n",
       "      <td>10135.000000</td>\n",
       "      <td>1.013505e+06</td>\n",
       "      <td>30070.000000</td>\n",
       "      <td>1.000000</td>\n",
       "      <td>1.000000</td>\n",
       "      <td>0.000000</td>\n",
       "      <td>1.000000</td>\n",
       "      <td>1.000000</td>\n",
       "      <td>1.000000</td>\n",
       "      <td>1.000000</td>\n",
       "      <td>1.000000</td>\n",
       "      <td>-80.000000</td>\n",
       "      <td>0.000000</td>\n",
       "      <td>1.000000</td>\n",
       "      <td>0.0</td>\n",
       "      <td>0.000000</td>\n",
       "      <td>0.000000</td>\n",
       "      <td>0.000000</td>\n",
       "      <td>0.000000</td>\n",
       "      <td>0.000000</td>\n",
       "      <td>0.000000</td>\n",
       "      <td>0.000000</td>\n",
       "      <td>0.000000</td>\n",
       "      <td>0.000000</td>\n",
       "      <td>0.000000</td>\n",
       "    </tr>\n",
       "    <tr>\n",
       "      <th>25%</th>\n",
       "      <td>945.000000</td>\n",
       "      <td>959.000000</td>\n",
       "      <td>0.000000</td>\n",
       "      <td>-4.000000</td>\n",
       "      <td>1124.000000</td>\n",
       "      <td>0.000000</td>\n",
       "      <td>58.000000</td>\n",
       "      <td>86.000000</td>\n",
       "      <td>84.000000</td>\n",
       "      <td>337.000000</td>\n",
       "      <td>2018.0</td>\n",
       "      <td>4.000000</td>\n",
       "      <td>10.000000</td>\n",
       "      <td>8.000000</td>\n",
       "      <td>2.000000</td>\n",
       "      <td>19790.000000</td>\n",
       "      <td>1112.000000</td>\n",
       "      <td>19790.000000</td>\n",
       "      <td>1533.000000</td>\n",
       "      <td>1112.000000</td>\n",
       "      <td>11278.000000</td>\n",
       "      <td>1.127805e+06</td>\n",
       "      <td>30721.000000</td>\n",
       "      <td>12.000000</td>\n",
       "      <td>34.000000</td>\n",
       "      <td>11292.000000</td>\n",
       "      <td>1.129202e+06</td>\n",
       "      <td>30721.000000</td>\n",
       "      <td>12.000000</td>\n",
       "      <td>34.000000</td>\n",
       "      <td>0.000000</td>\n",
       "      <td>12.000000</td>\n",
       "      <td>1018.000000</td>\n",
       "      <td>1122.000000</td>\n",
       "      <td>4.000000</td>\n",
       "      <td>1130.000000</td>\n",
       "      <td>-9.000000</td>\n",
       "      <td>0.000000</td>\n",
       "      <td>2.000000</td>\n",
       "      <td>0.0</td>\n",
       "      <td>89.000000</td>\n",
       "      <td>65.000000</td>\n",
       "      <td>7.000000</td>\n",
       "      <td>7.000000</td>\n",
       "      <td>89.000000</td>\n",
       "      <td>70.000000</td>\n",
       "      <td>7.000000</td>\n",
       "      <td>7.000000</td>\n",
       "      <td>4.000000</td>\n",
       "      <td>6.000000</td>\n",
       "    </tr>\n",
       "    <tr>\n",
       "      <th>50%</th>\n",
       "      <td>1355.000000</td>\n",
       "      <td>1417.000000</td>\n",
       "      <td>2.000000</td>\n",
       "      <td>2.000000</td>\n",
       "      <td>1550.000000</td>\n",
       "      <td>14.500000</td>\n",
       "      <td>90.000000</td>\n",
       "      <td>118.000000</td>\n",
       "      <td>118.000000</td>\n",
       "      <td>606.000000</td>\n",
       "      <td>2018.0</td>\n",
       "      <td>4.000000</td>\n",
       "      <td>10.000000</td>\n",
       "      <td>15.000000</td>\n",
       "      <td>4.000000</td>\n",
       "      <td>19805.000000</td>\n",
       "      <td>2199.000000</td>\n",
       "      <td>19977.000000</td>\n",
       "      <td>2948.000000</td>\n",
       "      <td>2199.000000</td>\n",
       "      <td>12889.000000</td>\n",
       "      <td>1.288903e+06</td>\n",
       "      <td>31453.000000</td>\n",
       "      <td>26.000000</td>\n",
       "      <td>43.000000</td>\n",
       "      <td>12889.000000</td>\n",
       "      <td>1.288903e+06</td>\n",
       "      <td>31454.000000</td>\n",
       "      <td>26.000000</td>\n",
       "      <td>43.000000</td>\n",
       "      <td>0.000000</td>\n",
       "      <td>16.000000</td>\n",
       "      <td>1432.000000</td>\n",
       "      <td>1547.000000</td>\n",
       "      <td>6.000000</td>\n",
       "      <td>1550.000000</td>\n",
       "      <td>14.500000</td>\n",
       "      <td>0.500000</td>\n",
       "      <td>3.000000</td>\n",
       "      <td>0.0</td>\n",
       "      <td>184.000000</td>\n",
       "      <td>176.000000</td>\n",
       "      <td>20.000000</td>\n",
       "      <td>20.000000</td>\n",
       "      <td>183.000000</td>\n",
       "      <td>188.000000</td>\n",
       "      <td>20.000000</td>\n",
       "      <td>20.000000</td>\n",
       "      <td>8.000000</td>\n",
       "      <td>10.000000</td>\n",
       "    </tr>\n",
       "    <tr>\n",
       "      <th>75%</th>\n",
       "      <td>1745.000000</td>\n",
       "      <td>1811.000000</td>\n",
       "      <td>37.000000</td>\n",
       "      <td>37.000000</td>\n",
       "      <td>1943.000000</td>\n",
       "      <td>38.000000</td>\n",
       "      <td>138.000000</td>\n",
       "      <td>167.000000</td>\n",
       "      <td>168.000000</td>\n",
       "      <td>1010.000000</td>\n",
       "      <td>2018.0</td>\n",
       "      <td>4.000000</td>\n",
       "      <td>10.000000</td>\n",
       "      <td>23.000000</td>\n",
       "      <td>5.000000</td>\n",
       "      <td>19977.000000</td>\n",
       "      <td>4089.000000</td>\n",
       "      <td>20397.000000</td>\n",
       "      <td>4431.000000</td>\n",
       "      <td>4087.000000</td>\n",
       "      <td>14057.000000</td>\n",
       "      <td>1.405702e+06</td>\n",
       "      <td>32544.000000</td>\n",
       "      <td>41.000000</td>\n",
       "      <td>82.000000</td>\n",
       "      <td>14100.000000</td>\n",
       "      <td>1.410005e+06</td>\n",
       "      <td>32575.000000</td>\n",
       "      <td>41.000000</td>\n",
       "      <td>82.000000</td>\n",
       "      <td>1.000000</td>\n",
       "      <td>23.000000</td>\n",
       "      <td>1829.000000</td>\n",
       "      <td>1939.000000</td>\n",
       "      <td>9.000000</td>\n",
       "      <td>1935.000000</td>\n",
       "      <td>38.000000</td>\n",
       "      <td>1.000000</td>\n",
       "      <td>5.000000</td>\n",
       "      <td>0.0</td>\n",
       "      <td>256.000000</td>\n",
       "      <td>251.000000</td>\n",
       "      <td>35.000000</td>\n",
       "      <td>35.000000</td>\n",
       "      <td>259.000000</td>\n",
       "      <td>251.000000</td>\n",
       "      <td>35.000000</td>\n",
       "      <td>35.000000</td>\n",
       "      <td>12.000000</td>\n",
       "      <td>14.000000</td>\n",
       "    </tr>\n",
       "    <tr>\n",
       "      <th>max</th>\n",
       "      <td>2359.000000</td>\n",
       "      <td>2400.000000</td>\n",
       "      <td>2109.000000</td>\n",
       "      <td>2109.000000</td>\n",
       "      <td>2400.000000</td>\n",
       "      <td>2153.000000</td>\n",
       "      <td>683.000000</td>\n",
       "      <td>1645.000000</td>\n",
       "      <td>728.000000</td>\n",
       "      <td>4983.000000</td>\n",
       "      <td>2018.0</td>\n",
       "      <td>4.000000</td>\n",
       "      <td>10.000000</td>\n",
       "      <td>31.000000</td>\n",
       "      <td>7.000000</td>\n",
       "      <td>21171.000000</td>\n",
       "      <td>9376.000000</td>\n",
       "      <td>21171.000000</td>\n",
       "      <td>5866.000000</td>\n",
       "      <td>9376.000000</td>\n",
       "      <td>16218.000000</td>\n",
       "      <td>1.621802e+06</td>\n",
       "      <td>36133.000000</td>\n",
       "      <td>78.000000</td>\n",
       "      <td>93.000000</td>\n",
       "      <td>16218.000000</td>\n",
       "      <td>1.621802e+06</td>\n",
       "      <td>36133.000000</td>\n",
       "      <td>78.000000</td>\n",
       "      <td>93.000000</td>\n",
       "      <td>1.000000</td>\n",
       "      <td>170.000000</td>\n",
       "      <td>2400.000000</td>\n",
       "      <td>2400.000000</td>\n",
       "      <td>258.000000</td>\n",
       "      <td>2400.000000</td>\n",
       "      <td>2153.000000</td>\n",
       "      <td>1.000000</td>\n",
       "      <td>11.000000</td>\n",
       "      <td>0.0</td>\n",
       "      <td>361.000000</td>\n",
       "      <td>355.000000</td>\n",
       "      <td>51.000000</td>\n",
       "      <td>51.000000</td>\n",
       "      <td>360.000000</td>\n",
       "      <td>354.000000</td>\n",
       "      <td>51.000000</td>\n",
       "      <td>51.000000</td>\n",
       "      <td>18.000000</td>\n",
       "      <td>18.000000</td>\n",
       "    </tr>\n",
       "  </tbody>\n",
       "</table>\n",
       "</div>"
      ],
      "text/plain": [
       "          CRSDepTime        DepTime  DepDelayMinutes       DepDelay  \\\n",
       "count  352056.000000  352056.000000    352056.000000  352056.000000   \n",
       "mean     1361.420183    1389.092678        30.820784      28.426069   \n",
       "std       479.024988     499.094763        68.704098      69.859173   \n",
       "min         4.000000       1.000000         0.000000     -39.000000   \n",
       "25%       945.000000     959.000000         0.000000      -4.000000   \n",
       "50%      1355.000000    1417.000000         2.000000       2.000000   \n",
       "75%      1745.000000    1811.000000        37.000000      37.000000   \n",
       "max      2359.000000    2400.000000      2109.000000    2109.000000   \n",
       "\n",
       "             ArrTime  ArrDelayMinutes        AirTime  CRSElapsedTime  \\\n",
       "count  352056.000000    352056.000000  351969.000000   352056.000000   \n",
       "mean     1507.700497        32.664525     109.089894      137.512169   \n",
       "std       550.209735        67.954517      70.155212       71.587013   \n",
       "min         1.000000         0.000000       8.000000      -99.000000   \n",
       "25%      1124.000000         0.000000      58.000000       86.000000   \n",
       "50%      1550.000000        14.500000      90.000000      118.000000   \n",
       "75%      1943.000000        38.000000     138.000000      167.000000   \n",
       "max      2400.000000      2153.000000     683.000000     1645.000000   \n",
       "\n",
       "       ActualElapsedTime       Distance      Year        Quarter  \\\n",
       "count      352056.000000  352056.000000  352056.0  352056.000000   \n",
       "mean          136.642736     771.507073    2018.0       3.337736   \n",
       "std            72.538455     586.787057       0.0       1.244268   \n",
       "min            17.000000      16.000000    2018.0       1.000000   \n",
       "25%            84.000000     337.000000    2018.0       4.000000   \n",
       "50%           118.000000     606.000000    2018.0       4.000000   \n",
       "75%           168.000000    1010.000000    2018.0       4.000000   \n",
       "max           728.000000    4983.000000    2018.0       4.000000   \n",
       "\n",
       "               Month     DayofMonth      DayOfWeek  DOT_ID_Marketing_Airline  \\\n",
       "count  352056.000000  352056.000000  352056.000000             352056.000000   \n",
       "mean        8.013208      15.529643       3.720255              19852.095209   \n",
       "std         3.732804       8.776937       1.980098                289.484311   \n",
       "min         1.000000       1.000000       1.000000              19393.000000   \n",
       "25%        10.000000       8.000000       2.000000              19790.000000   \n",
       "50%        10.000000      15.000000       4.000000              19805.000000   \n",
       "75%        10.000000      23.000000       5.000000              19977.000000   \n",
       "max        10.000000      31.000000       7.000000              21171.000000   \n",
       "\n",
       "       Flight_Number_Marketing_Airline  DOT_ID_Operating_Airline  \\\n",
       "count                    352056.000000             352056.000000   \n",
       "mean                       2645.833998              20020.127889   \n",
       "std                        1845.654782                411.945773   \n",
       "min                           1.000000              19393.000000   \n",
       "25%                        1112.000000              19790.000000   \n",
       "50%                        2199.000000              19977.000000   \n",
       "75%                        4089.000000              20397.000000   \n",
       "max                        9376.000000              21171.000000   \n",
       "\n",
       "         Tail_Number  Flight_Number_Operating_Airline  OriginAirportID  \\\n",
       "count  352056.000000                    352056.000000    352056.000000   \n",
       "mean     2972.882192                      2645.970471     12650.558735   \n",
       "std      1671.856332                      1846.351977      1534.937586   \n",
       "min         0.000000                         1.000000     10135.000000   \n",
       "25%      1533.000000                      1112.000000     11278.000000   \n",
       "50%      2948.000000                      2199.000000     12889.000000   \n",
       "75%      4431.000000                      4087.000000     14057.000000   \n",
       "max      5866.000000                      9376.000000     16218.000000   \n",
       "\n",
       "       OriginAirportSeqID  OriginCityMarketID  OriginStateFips      OriginWac  \\\n",
       "count        3.520560e+05       352056.000000    352056.000000  352056.000000   \n",
       "mean         1.265060e+06        31755.923612        27.326863      53.901621   \n",
       "std          1.534936e+05         1305.247462        16.206969      26.564077   \n",
       "min          1.013505e+06        30070.000000         1.000000       1.000000   \n",
       "25%          1.127805e+06        30721.000000        12.000000      34.000000   \n",
       "50%          1.288903e+06        31453.000000        26.000000      43.000000   \n",
       "75%          1.405702e+06        32544.000000        41.000000      82.000000   \n",
       "max          1.621802e+06        36133.000000        78.000000      93.000000   \n",
       "\n",
       "       DestAirportID  DestAirportSeqID  DestCityMarketID  DestStateFips  \\\n",
       "count  352056.000000      3.520560e+05     352056.000000  352056.000000   \n",
       "mean    12686.883121      1.268692e+06      31773.975734      27.230426   \n",
       "std      1540.992733      1.540991e+05       1311.782004      16.325393   \n",
       "min     10135.000000      1.013505e+06      30070.000000       1.000000   \n",
       "25%     11292.000000      1.129202e+06      30721.000000      12.000000   \n",
       "50%     12889.000000      1.288903e+06      31454.000000      26.000000   \n",
       "75%     14100.000000      1.410005e+06      32575.000000      41.000000   \n",
       "max     16218.000000      1.621802e+06      36133.000000      78.000000   \n",
       "\n",
       "             DestWac       DepDel15        TaxiOut      WheelsOff  \\\n",
       "count  352056.000000  352021.000000  351969.000000  351969.000000   \n",
       "mean       53.966434       0.398880      19.600843    1415.719740   \n",
       "std        26.720910       0.489669      12.879188     500.764859   \n",
       "min         1.000000       0.000000       1.000000       1.000000   \n",
       "25%        34.000000       0.000000      12.000000    1018.000000   \n",
       "50%        43.000000       0.000000      16.000000    1432.000000   \n",
       "75%        82.000000       1.000000      23.000000    1829.000000   \n",
       "max        93.000000       1.000000     170.000000    2400.000000   \n",
       "\n",
       "            WheelsOn         TaxiIn     CRSArrTime       ArrDelay  \\\n",
       "count  351969.000000  351969.000000  352056.000000  352056.000000   \n",
       "mean     1505.529808       7.976586    1524.820494      27.576102   \n",
       "std       543.591415       6.902930     507.784389      70.832464   \n",
       "min         1.000000       1.000000       1.000000     -80.000000   \n",
       "25%      1122.000000       4.000000    1130.000000      -9.000000   \n",
       "50%      1547.000000       6.000000    1550.000000      14.500000   \n",
       "75%      1939.000000       9.000000    1935.000000      38.000000   \n",
       "max      2400.000000     258.000000    2400.000000    2153.000000   \n",
       "\n",
       "            ArrDel15  DistanceGroup  DivAirportLandings   Origin_Point  \\\n",
       "count  352056.000000  352056.000000            352056.0  352056.000000   \n",
       "mean        0.500000       3.560581                 0.0     173.365144   \n",
       "std         0.500001       2.321965                 0.0      98.431208   \n",
       "min         0.000000       1.000000                 0.0       0.000000   \n",
       "25%         0.000000       2.000000                 0.0      89.000000   \n",
       "50%         0.500000       3.000000                 0.0     184.000000   \n",
       "75%         1.000000       5.000000                 0.0     256.000000   \n",
       "max         1.000000      11.000000                 0.0     361.000000   \n",
       "\n",
       "       Origin_CityName   Origin_State  OriginState_Name    Destination  \\\n",
       "count    352056.000000  352056.000000     352056.000000  352056.000000   \n",
       "mean        166.487215      22.241587         22.224601     174.685968   \n",
       "std         101.740660      15.142604         15.204973      98.815949   \n",
       "min           0.000000       0.000000          0.000000       0.000000   \n",
       "25%          65.000000       7.000000          7.000000      89.000000   \n",
       "50%         176.000000      20.000000         20.000000     183.000000   \n",
       "75%         251.000000      35.000000         35.000000     259.000000   \n",
       "max         355.000000      51.000000         51.000000     360.000000   \n",
       "\n",
       "       Dest_CityName     Dest_State  Dest_StateName    DepTime_Blk  \\\n",
       "count  352056.000000  352056.000000   352056.000000  352056.000000   \n",
       "mean      169.569486      22.158958       22.129661       8.356546   \n",
       "std       101.830650      15.200069       15.263110       4.746682   \n",
       "min         0.000000       0.000000        0.000000       0.000000   \n",
       "25%        70.000000       7.000000        7.000000       4.000000   \n",
       "50%       188.000000      20.000000       20.000000       8.000000   \n",
       "75%       251.000000      35.000000       35.000000      12.000000   \n",
       "max       354.000000      51.000000       51.000000      18.000000   \n",
       "\n",
       "         ArrTime_Blk  \n",
       "count  352056.000000  \n",
       "mean       10.029924  \n",
       "std         4.893963  \n",
       "min         0.000000  \n",
       "25%         6.000000  \n",
       "50%        10.000000  \n",
       "75%        14.000000  \n",
       "max        18.000000  "
      ]
     },
     "execution_count": 45,
     "metadata": {},
     "output_type": "execute_result"
    }
   ],
   "source": [
    "print('Dimension reduced to:')\n",
    "print(len(data.columns))\n",
    "data.describe()"
   ]
  },
  {
   "cell_type": "markdown",
   "metadata": {},
   "source": [
    "All variables are now numeric. But above statistics makes sense only for originally numeric variables. For e.g. central tendency measures for Year, Airline ID etc. do not make much sense."
   ]
  },
  {
   "cell_type": "markdown",
   "metadata": {},
   "source": [
    "# Machine Learning Modeling"
   ]
  },
  {
   "cell_type": "markdown",
   "metadata": {},
   "source": [
    "### Random Forest is chosen for Machine Learning due to following reasons:\n",
    "(1) Large data size   \n",
    "(2) Categorical nature of many variables   \n",
    "(3) Non-linearity of dataset (LinearRegression was attempted but had high MSE; Linear relation doesn't exist for many variables)  \n",
    "(4) Underlying complex dependencies between variables"
   ]
  },
  {
   "cell_type": "markdown",
   "metadata": {},
   "source": [
    "## PART 2: Model creation with original raw data"
   ]
  },
  {
   "cell_type": "markdown",
   "metadata": {},
   "source": [
    "### Feature Selection to remove redundant variables"
   ]
  },
  {
   "cell_type": "markdown",
   "metadata": {},
   "source": [
    "###### Creation of data subset:\n",
    "Predictor and target variable columns along with some basic statistics"
   ]
  },
  {
   "cell_type": "code",
   "execution_count": 77,
   "metadata": {},
   "outputs": [
    {
     "name": "stdout",
     "output_type": "stream",
     "text": [
      "Dimension reduced to:\n",
      "56\n"
     ]
    },
    {
     "data": {
      "text/html": [
       "<div>\n",
       "<style scoped>\n",
       "    .dataframe tbody tr th:only-of-type {\n",
       "        vertical-align: middle;\n",
       "    }\n",
       "\n",
       "    .dataframe tbody tr th {\n",
       "        vertical-align: top;\n",
       "    }\n",
       "\n",
       "    .dataframe thead th {\n",
       "        text-align: right;\n",
       "    }\n",
       "</style>\n",
       "<table border=\"1\" class=\"dataframe\">\n",
       "  <thead>\n",
       "    <tr style=\"text-align: right;\">\n",
       "      <th></th>\n",
       "      <th>CRSDepTime</th>\n",
       "      <th>DepTime</th>\n",
       "      <th>DepDelayMinutes</th>\n",
       "      <th>DepDelay</th>\n",
       "      <th>ArrTime</th>\n",
       "      <th>ArrDelayMinutes</th>\n",
       "      <th>AirTime</th>\n",
       "      <th>CRSElapsedTime</th>\n",
       "      <th>ActualElapsedTime</th>\n",
       "      <th>Distance</th>\n",
       "      <th>Year</th>\n",
       "      <th>Quarter</th>\n",
       "      <th>Month</th>\n",
       "      <th>DayofMonth</th>\n",
       "      <th>DayOfWeek</th>\n",
       "      <th>DOT_ID_Marketing_Airline</th>\n",
       "      <th>Flight_Number_Marketing_Airline</th>\n",
       "      <th>DOT_ID_Operating_Airline</th>\n",
       "      <th>Tail_Number</th>\n",
       "      <th>Flight_Number_Operating_Airline</th>\n",
       "      <th>OriginAirportID</th>\n",
       "      <th>OriginAirportSeqID</th>\n",
       "      <th>OriginCityMarketID</th>\n",
       "      <th>OriginStateFips</th>\n",
       "      <th>OriginWac</th>\n",
       "      <th>DestAirportID</th>\n",
       "      <th>DestAirportSeqID</th>\n",
       "      <th>DestCityMarketID</th>\n",
       "      <th>DestStateFips</th>\n",
       "      <th>DestWac</th>\n",
       "      <th>DepDel15</th>\n",
       "      <th>TaxiOut</th>\n",
       "      <th>WheelsOff</th>\n",
       "      <th>WheelsOn</th>\n",
       "      <th>TaxiIn</th>\n",
       "      <th>CRSArrTime</th>\n",
       "      <th>ArrDelay</th>\n",
       "      <th>ArrDel15</th>\n",
       "      <th>DistanceGroup</th>\n",
       "      <th>DivAirportLandings</th>\n",
       "      <th>Origin_Point</th>\n",
       "      <th>Origin_CityName</th>\n",
       "      <th>Origin_State</th>\n",
       "      <th>OriginState_Name</th>\n",
       "      <th>Destination</th>\n",
       "      <th>Dest_CityName</th>\n",
       "      <th>Dest_State</th>\n",
       "      <th>Dest_StateName</th>\n",
       "      <th>DepTime_Blk</th>\n",
       "      <th>ArrTime_Blk</th>\n",
       "    </tr>\n",
       "  </thead>\n",
       "  <tbody>\n",
       "    <tr>\n",
       "      <th>count</th>\n",
       "      <td>352056.000000</td>\n",
       "      <td>352056.000000</td>\n",
       "      <td>352056.000000</td>\n",
       "      <td>352056.000000</td>\n",
       "      <td>352056.000000</td>\n",
       "      <td>352056.000000</td>\n",
       "      <td>351969.000000</td>\n",
       "      <td>352056.000000</td>\n",
       "      <td>352056.000000</td>\n",
       "      <td>352056.000000</td>\n",
       "      <td>352056.0</td>\n",
       "      <td>352056.000000</td>\n",
       "      <td>352056.000000</td>\n",
       "      <td>352056.000000</td>\n",
       "      <td>352056.000000</td>\n",
       "      <td>352056.000000</td>\n",
       "      <td>352056.000000</td>\n",
       "      <td>352056.000000</td>\n",
       "      <td>352056.000000</td>\n",
       "      <td>352056.000000</td>\n",
       "      <td>352056.000000</td>\n",
       "      <td>3.520560e+05</td>\n",
       "      <td>352056.000000</td>\n",
       "      <td>352056.000000</td>\n",
       "      <td>352056.000000</td>\n",
       "      <td>352056.000000</td>\n",
       "      <td>3.520560e+05</td>\n",
       "      <td>352056.000000</td>\n",
       "      <td>352056.000000</td>\n",
       "      <td>352056.000000</td>\n",
       "      <td>352021.000000</td>\n",
       "      <td>351969.000000</td>\n",
       "      <td>351969.000000</td>\n",
       "      <td>351969.000000</td>\n",
       "      <td>351969.000000</td>\n",
       "      <td>352056.000000</td>\n",
       "      <td>352056.000000</td>\n",
       "      <td>352056.000000</td>\n",
       "      <td>352056.000000</td>\n",
       "      <td>352056.0</td>\n",
       "      <td>352056.000000</td>\n",
       "      <td>352056.000000</td>\n",
       "      <td>352056.000000</td>\n",
       "      <td>352056.000000</td>\n",
       "      <td>352056.000000</td>\n",
       "      <td>352056.000000</td>\n",
       "      <td>352056.000000</td>\n",
       "      <td>352056.000000</td>\n",
       "      <td>352056.000000</td>\n",
       "      <td>352056.000000</td>\n",
       "    </tr>\n",
       "    <tr>\n",
       "      <th>mean</th>\n",
       "      <td>1361.420183</td>\n",
       "      <td>1389.092678</td>\n",
       "      <td>30.820784</td>\n",
       "      <td>28.426069</td>\n",
       "      <td>1507.700497</td>\n",
       "      <td>32.664525</td>\n",
       "      <td>109.089894</td>\n",
       "      <td>137.512169</td>\n",
       "      <td>136.642736</td>\n",
       "      <td>771.507073</td>\n",
       "      <td>2018.0</td>\n",
       "      <td>3.337736</td>\n",
       "      <td>8.013208</td>\n",
       "      <td>15.529643</td>\n",
       "      <td>3.720255</td>\n",
       "      <td>19852.095209</td>\n",
       "      <td>2645.833998</td>\n",
       "      <td>20020.127889</td>\n",
       "      <td>2972.882192</td>\n",
       "      <td>2645.970471</td>\n",
       "      <td>12650.558735</td>\n",
       "      <td>1.265060e+06</td>\n",
       "      <td>31755.923612</td>\n",
       "      <td>27.326863</td>\n",
       "      <td>53.901621</td>\n",
       "      <td>12686.883121</td>\n",
       "      <td>1.268692e+06</td>\n",
       "      <td>31773.975734</td>\n",
       "      <td>27.230426</td>\n",
       "      <td>53.966434</td>\n",
       "      <td>0.398880</td>\n",
       "      <td>19.600843</td>\n",
       "      <td>1415.719740</td>\n",
       "      <td>1505.529808</td>\n",
       "      <td>7.976586</td>\n",
       "      <td>1524.820494</td>\n",
       "      <td>27.576102</td>\n",
       "      <td>0.500000</td>\n",
       "      <td>3.560581</td>\n",
       "      <td>0.0</td>\n",
       "      <td>173.365144</td>\n",
       "      <td>166.487215</td>\n",
       "      <td>22.241587</td>\n",
       "      <td>22.224601</td>\n",
       "      <td>174.685968</td>\n",
       "      <td>169.569486</td>\n",
       "      <td>22.158958</td>\n",
       "      <td>22.129661</td>\n",
       "      <td>8.356546</td>\n",
       "      <td>10.029924</td>\n",
       "    </tr>\n",
       "    <tr>\n",
       "      <th>std</th>\n",
       "      <td>479.024988</td>\n",
       "      <td>499.094763</td>\n",
       "      <td>68.704098</td>\n",
       "      <td>69.859173</td>\n",
       "      <td>550.209735</td>\n",
       "      <td>67.954517</td>\n",
       "      <td>70.155212</td>\n",
       "      <td>71.587013</td>\n",
       "      <td>72.538455</td>\n",
       "      <td>586.787057</td>\n",
       "      <td>0.0</td>\n",
       "      <td>1.244268</td>\n",
       "      <td>3.732804</td>\n",
       "      <td>8.776937</td>\n",
       "      <td>1.980098</td>\n",
       "      <td>289.484311</td>\n",
       "      <td>1845.654782</td>\n",
       "      <td>411.945773</td>\n",
       "      <td>1671.856332</td>\n",
       "      <td>1846.351977</td>\n",
       "      <td>1534.937586</td>\n",
       "      <td>1.534936e+05</td>\n",
       "      <td>1305.247462</td>\n",
       "      <td>16.206969</td>\n",
       "      <td>26.564077</td>\n",
       "      <td>1540.992733</td>\n",
       "      <td>1.540991e+05</td>\n",
       "      <td>1311.782004</td>\n",
       "      <td>16.325393</td>\n",
       "      <td>26.720910</td>\n",
       "      <td>0.489669</td>\n",
       "      <td>12.879188</td>\n",
       "      <td>500.764859</td>\n",
       "      <td>543.591415</td>\n",
       "      <td>6.902930</td>\n",
       "      <td>507.784389</td>\n",
       "      <td>70.832464</td>\n",
       "      <td>0.500001</td>\n",
       "      <td>2.321965</td>\n",
       "      <td>0.0</td>\n",
       "      <td>98.431208</td>\n",
       "      <td>101.740660</td>\n",
       "      <td>15.142604</td>\n",
       "      <td>15.204973</td>\n",
       "      <td>98.815949</td>\n",
       "      <td>101.830650</td>\n",
       "      <td>15.200069</td>\n",
       "      <td>15.263110</td>\n",
       "      <td>4.746682</td>\n",
       "      <td>4.893963</td>\n",
       "    </tr>\n",
       "    <tr>\n",
       "      <th>min</th>\n",
       "      <td>4.000000</td>\n",
       "      <td>1.000000</td>\n",
       "      <td>0.000000</td>\n",
       "      <td>-39.000000</td>\n",
       "      <td>1.000000</td>\n",
       "      <td>0.000000</td>\n",
       "      <td>8.000000</td>\n",
       "      <td>-99.000000</td>\n",
       "      <td>17.000000</td>\n",
       "      <td>16.000000</td>\n",
       "      <td>2018.0</td>\n",
       "      <td>1.000000</td>\n",
       "      <td>1.000000</td>\n",
       "      <td>1.000000</td>\n",
       "      <td>1.000000</td>\n",
       "      <td>19393.000000</td>\n",
       "      <td>1.000000</td>\n",
       "      <td>19393.000000</td>\n",
       "      <td>0.000000</td>\n",
       "      <td>1.000000</td>\n",
       "      <td>10135.000000</td>\n",
       "      <td>1.013505e+06</td>\n",
       "      <td>30070.000000</td>\n",
       "      <td>1.000000</td>\n",
       "      <td>1.000000</td>\n",
       "      <td>10135.000000</td>\n",
       "      <td>1.013505e+06</td>\n",
       "      <td>30070.000000</td>\n",
       "      <td>1.000000</td>\n",
       "      <td>1.000000</td>\n",
       "      <td>0.000000</td>\n",
       "      <td>1.000000</td>\n",
       "      <td>1.000000</td>\n",
       "      <td>1.000000</td>\n",
       "      <td>1.000000</td>\n",
       "      <td>1.000000</td>\n",
       "      <td>-80.000000</td>\n",
       "      <td>0.000000</td>\n",
       "      <td>1.000000</td>\n",
       "      <td>0.0</td>\n",
       "      <td>0.000000</td>\n",
       "      <td>0.000000</td>\n",
       "      <td>0.000000</td>\n",
       "      <td>0.000000</td>\n",
       "      <td>0.000000</td>\n",
       "      <td>0.000000</td>\n",
       "      <td>0.000000</td>\n",
       "      <td>0.000000</td>\n",
       "      <td>0.000000</td>\n",
       "      <td>0.000000</td>\n",
       "    </tr>\n",
       "    <tr>\n",
       "      <th>25%</th>\n",
       "      <td>945.000000</td>\n",
       "      <td>959.000000</td>\n",
       "      <td>0.000000</td>\n",
       "      <td>-4.000000</td>\n",
       "      <td>1124.000000</td>\n",
       "      <td>0.000000</td>\n",
       "      <td>58.000000</td>\n",
       "      <td>86.000000</td>\n",
       "      <td>84.000000</td>\n",
       "      <td>337.000000</td>\n",
       "      <td>2018.0</td>\n",
       "      <td>4.000000</td>\n",
       "      <td>10.000000</td>\n",
       "      <td>8.000000</td>\n",
       "      <td>2.000000</td>\n",
       "      <td>19790.000000</td>\n",
       "      <td>1112.000000</td>\n",
       "      <td>19790.000000</td>\n",
       "      <td>1533.000000</td>\n",
       "      <td>1112.000000</td>\n",
       "      <td>11278.000000</td>\n",
       "      <td>1.127805e+06</td>\n",
       "      <td>30721.000000</td>\n",
       "      <td>12.000000</td>\n",
       "      <td>34.000000</td>\n",
       "      <td>11292.000000</td>\n",
       "      <td>1.129202e+06</td>\n",
       "      <td>30721.000000</td>\n",
       "      <td>12.000000</td>\n",
       "      <td>34.000000</td>\n",
       "      <td>0.000000</td>\n",
       "      <td>12.000000</td>\n",
       "      <td>1018.000000</td>\n",
       "      <td>1122.000000</td>\n",
       "      <td>4.000000</td>\n",
       "      <td>1130.000000</td>\n",
       "      <td>-9.000000</td>\n",
       "      <td>0.000000</td>\n",
       "      <td>2.000000</td>\n",
       "      <td>0.0</td>\n",
       "      <td>89.000000</td>\n",
       "      <td>65.000000</td>\n",
       "      <td>7.000000</td>\n",
       "      <td>7.000000</td>\n",
       "      <td>89.000000</td>\n",
       "      <td>70.000000</td>\n",
       "      <td>7.000000</td>\n",
       "      <td>7.000000</td>\n",
       "      <td>4.000000</td>\n",
       "      <td>6.000000</td>\n",
       "    </tr>\n",
       "    <tr>\n",
       "      <th>50%</th>\n",
       "      <td>1355.000000</td>\n",
       "      <td>1417.000000</td>\n",
       "      <td>2.000000</td>\n",
       "      <td>2.000000</td>\n",
       "      <td>1550.000000</td>\n",
       "      <td>14.500000</td>\n",
       "      <td>90.000000</td>\n",
       "      <td>118.000000</td>\n",
       "      <td>118.000000</td>\n",
       "      <td>606.000000</td>\n",
       "      <td>2018.0</td>\n",
       "      <td>4.000000</td>\n",
       "      <td>10.000000</td>\n",
       "      <td>15.000000</td>\n",
       "      <td>4.000000</td>\n",
       "      <td>19805.000000</td>\n",
       "      <td>2199.000000</td>\n",
       "      <td>19977.000000</td>\n",
       "      <td>2948.000000</td>\n",
       "      <td>2199.000000</td>\n",
       "      <td>12889.000000</td>\n",
       "      <td>1.288903e+06</td>\n",
       "      <td>31453.000000</td>\n",
       "      <td>26.000000</td>\n",
       "      <td>43.000000</td>\n",
       "      <td>12889.000000</td>\n",
       "      <td>1.288903e+06</td>\n",
       "      <td>31454.000000</td>\n",
       "      <td>26.000000</td>\n",
       "      <td>43.000000</td>\n",
       "      <td>0.000000</td>\n",
       "      <td>16.000000</td>\n",
       "      <td>1432.000000</td>\n",
       "      <td>1547.000000</td>\n",
       "      <td>6.000000</td>\n",
       "      <td>1550.000000</td>\n",
       "      <td>14.500000</td>\n",
       "      <td>0.500000</td>\n",
       "      <td>3.000000</td>\n",
       "      <td>0.0</td>\n",
       "      <td>184.000000</td>\n",
       "      <td>176.000000</td>\n",
       "      <td>20.000000</td>\n",
       "      <td>20.000000</td>\n",
       "      <td>183.000000</td>\n",
       "      <td>188.000000</td>\n",
       "      <td>20.000000</td>\n",
       "      <td>20.000000</td>\n",
       "      <td>8.000000</td>\n",
       "      <td>10.000000</td>\n",
       "    </tr>\n",
       "    <tr>\n",
       "      <th>75%</th>\n",
       "      <td>1745.000000</td>\n",
       "      <td>1811.000000</td>\n",
       "      <td>37.000000</td>\n",
       "      <td>37.000000</td>\n",
       "      <td>1943.000000</td>\n",
       "      <td>38.000000</td>\n",
       "      <td>138.000000</td>\n",
       "      <td>167.000000</td>\n",
       "      <td>168.000000</td>\n",
       "      <td>1010.000000</td>\n",
       "      <td>2018.0</td>\n",
       "      <td>4.000000</td>\n",
       "      <td>10.000000</td>\n",
       "      <td>23.000000</td>\n",
       "      <td>5.000000</td>\n",
       "      <td>19977.000000</td>\n",
       "      <td>4089.000000</td>\n",
       "      <td>20397.000000</td>\n",
       "      <td>4431.000000</td>\n",
       "      <td>4087.000000</td>\n",
       "      <td>14057.000000</td>\n",
       "      <td>1.405702e+06</td>\n",
       "      <td>32544.000000</td>\n",
       "      <td>41.000000</td>\n",
       "      <td>82.000000</td>\n",
       "      <td>14100.000000</td>\n",
       "      <td>1.410005e+06</td>\n",
       "      <td>32575.000000</td>\n",
       "      <td>41.000000</td>\n",
       "      <td>82.000000</td>\n",
       "      <td>1.000000</td>\n",
       "      <td>23.000000</td>\n",
       "      <td>1829.000000</td>\n",
       "      <td>1939.000000</td>\n",
       "      <td>9.000000</td>\n",
       "      <td>1935.000000</td>\n",
       "      <td>38.000000</td>\n",
       "      <td>1.000000</td>\n",
       "      <td>5.000000</td>\n",
       "      <td>0.0</td>\n",
       "      <td>256.000000</td>\n",
       "      <td>251.000000</td>\n",
       "      <td>35.000000</td>\n",
       "      <td>35.000000</td>\n",
       "      <td>259.000000</td>\n",
       "      <td>251.000000</td>\n",
       "      <td>35.000000</td>\n",
       "      <td>35.000000</td>\n",
       "      <td>12.000000</td>\n",
       "      <td>14.000000</td>\n",
       "    </tr>\n",
       "    <tr>\n",
       "      <th>max</th>\n",
       "      <td>2359.000000</td>\n",
       "      <td>2400.000000</td>\n",
       "      <td>2109.000000</td>\n",
       "      <td>2109.000000</td>\n",
       "      <td>2400.000000</td>\n",
       "      <td>2153.000000</td>\n",
       "      <td>683.000000</td>\n",
       "      <td>1645.000000</td>\n",
       "      <td>728.000000</td>\n",
       "      <td>4983.000000</td>\n",
       "      <td>2018.0</td>\n",
       "      <td>4.000000</td>\n",
       "      <td>10.000000</td>\n",
       "      <td>31.000000</td>\n",
       "      <td>7.000000</td>\n",
       "      <td>21171.000000</td>\n",
       "      <td>9376.000000</td>\n",
       "      <td>21171.000000</td>\n",
       "      <td>5866.000000</td>\n",
       "      <td>9376.000000</td>\n",
       "      <td>16218.000000</td>\n",
       "      <td>1.621802e+06</td>\n",
       "      <td>36133.000000</td>\n",
       "      <td>78.000000</td>\n",
       "      <td>93.000000</td>\n",
       "      <td>16218.000000</td>\n",
       "      <td>1.621802e+06</td>\n",
       "      <td>36133.000000</td>\n",
       "      <td>78.000000</td>\n",
       "      <td>93.000000</td>\n",
       "      <td>1.000000</td>\n",
       "      <td>170.000000</td>\n",
       "      <td>2400.000000</td>\n",
       "      <td>2400.000000</td>\n",
       "      <td>258.000000</td>\n",
       "      <td>2400.000000</td>\n",
       "      <td>2153.000000</td>\n",
       "      <td>1.000000</td>\n",
       "      <td>11.000000</td>\n",
       "      <td>0.0</td>\n",
       "      <td>361.000000</td>\n",
       "      <td>355.000000</td>\n",
       "      <td>51.000000</td>\n",
       "      <td>51.000000</td>\n",
       "      <td>360.000000</td>\n",
       "      <td>354.000000</td>\n",
       "      <td>51.000000</td>\n",
       "      <td>51.000000</td>\n",
       "      <td>18.000000</td>\n",
       "      <td>18.000000</td>\n",
       "    </tr>\n",
       "  </tbody>\n",
       "</table>\n",
       "</div>"
      ],
      "text/plain": [
       "          CRSDepTime        DepTime  DepDelayMinutes       DepDelay  \\\n",
       "count  352056.000000  352056.000000    352056.000000  352056.000000   \n",
       "mean     1361.420183    1389.092678        30.820784      28.426069   \n",
       "std       479.024988     499.094763        68.704098      69.859173   \n",
       "min         4.000000       1.000000         0.000000     -39.000000   \n",
       "25%       945.000000     959.000000         0.000000      -4.000000   \n",
       "50%      1355.000000    1417.000000         2.000000       2.000000   \n",
       "75%      1745.000000    1811.000000        37.000000      37.000000   \n",
       "max      2359.000000    2400.000000      2109.000000    2109.000000   \n",
       "\n",
       "             ArrTime  ArrDelayMinutes        AirTime  CRSElapsedTime  \\\n",
       "count  352056.000000    352056.000000  351969.000000   352056.000000   \n",
       "mean     1507.700497        32.664525     109.089894      137.512169   \n",
       "std       550.209735        67.954517      70.155212       71.587013   \n",
       "min         1.000000         0.000000       8.000000      -99.000000   \n",
       "25%      1124.000000         0.000000      58.000000       86.000000   \n",
       "50%      1550.000000        14.500000      90.000000      118.000000   \n",
       "75%      1943.000000        38.000000     138.000000      167.000000   \n",
       "max      2400.000000      2153.000000     683.000000     1645.000000   \n",
       "\n",
       "       ActualElapsedTime       Distance      Year        Quarter  \\\n",
       "count      352056.000000  352056.000000  352056.0  352056.000000   \n",
       "mean          136.642736     771.507073    2018.0       3.337736   \n",
       "std            72.538455     586.787057       0.0       1.244268   \n",
       "min            17.000000      16.000000    2018.0       1.000000   \n",
       "25%            84.000000     337.000000    2018.0       4.000000   \n",
       "50%           118.000000     606.000000    2018.0       4.000000   \n",
       "75%           168.000000    1010.000000    2018.0       4.000000   \n",
       "max           728.000000    4983.000000    2018.0       4.000000   \n",
       "\n",
       "               Month     DayofMonth      DayOfWeek  DOT_ID_Marketing_Airline  \\\n",
       "count  352056.000000  352056.000000  352056.000000             352056.000000   \n",
       "mean        8.013208      15.529643       3.720255              19852.095209   \n",
       "std         3.732804       8.776937       1.980098                289.484311   \n",
       "min         1.000000       1.000000       1.000000              19393.000000   \n",
       "25%        10.000000       8.000000       2.000000              19790.000000   \n",
       "50%        10.000000      15.000000       4.000000              19805.000000   \n",
       "75%        10.000000      23.000000       5.000000              19977.000000   \n",
       "max        10.000000      31.000000       7.000000              21171.000000   \n",
       "\n",
       "       Flight_Number_Marketing_Airline  DOT_ID_Operating_Airline  \\\n",
       "count                    352056.000000             352056.000000   \n",
       "mean                       2645.833998              20020.127889   \n",
       "std                        1845.654782                411.945773   \n",
       "min                           1.000000              19393.000000   \n",
       "25%                        1112.000000              19790.000000   \n",
       "50%                        2199.000000              19977.000000   \n",
       "75%                        4089.000000              20397.000000   \n",
       "max                        9376.000000              21171.000000   \n",
       "\n",
       "         Tail_Number  Flight_Number_Operating_Airline  OriginAirportID  \\\n",
       "count  352056.000000                    352056.000000    352056.000000   \n",
       "mean     2972.882192                      2645.970471     12650.558735   \n",
       "std      1671.856332                      1846.351977      1534.937586   \n",
       "min         0.000000                         1.000000     10135.000000   \n",
       "25%      1533.000000                      1112.000000     11278.000000   \n",
       "50%      2948.000000                      2199.000000     12889.000000   \n",
       "75%      4431.000000                      4087.000000     14057.000000   \n",
       "max      5866.000000                      9376.000000     16218.000000   \n",
       "\n",
       "       OriginAirportSeqID  OriginCityMarketID  OriginStateFips      OriginWac  \\\n",
       "count        3.520560e+05       352056.000000    352056.000000  352056.000000   \n",
       "mean         1.265060e+06        31755.923612        27.326863      53.901621   \n",
       "std          1.534936e+05         1305.247462        16.206969      26.564077   \n",
       "min          1.013505e+06        30070.000000         1.000000       1.000000   \n",
       "25%          1.127805e+06        30721.000000        12.000000      34.000000   \n",
       "50%          1.288903e+06        31453.000000        26.000000      43.000000   \n",
       "75%          1.405702e+06        32544.000000        41.000000      82.000000   \n",
       "max          1.621802e+06        36133.000000        78.000000      93.000000   \n",
       "\n",
       "       DestAirportID  DestAirportSeqID  DestCityMarketID  DestStateFips  \\\n",
       "count  352056.000000      3.520560e+05     352056.000000  352056.000000   \n",
       "mean    12686.883121      1.268692e+06      31773.975734      27.230426   \n",
       "std      1540.992733      1.540991e+05       1311.782004      16.325393   \n",
       "min     10135.000000      1.013505e+06      30070.000000       1.000000   \n",
       "25%     11292.000000      1.129202e+06      30721.000000      12.000000   \n",
       "50%     12889.000000      1.288903e+06      31454.000000      26.000000   \n",
       "75%     14100.000000      1.410005e+06      32575.000000      41.000000   \n",
       "max     16218.000000      1.621802e+06      36133.000000      78.000000   \n",
       "\n",
       "             DestWac       DepDel15        TaxiOut      WheelsOff  \\\n",
       "count  352056.000000  352021.000000  351969.000000  351969.000000   \n",
       "mean       53.966434       0.398880      19.600843    1415.719740   \n",
       "std        26.720910       0.489669      12.879188     500.764859   \n",
       "min         1.000000       0.000000       1.000000       1.000000   \n",
       "25%        34.000000       0.000000      12.000000    1018.000000   \n",
       "50%        43.000000       0.000000      16.000000    1432.000000   \n",
       "75%        82.000000       1.000000      23.000000    1829.000000   \n",
       "max        93.000000       1.000000     170.000000    2400.000000   \n",
       "\n",
       "            WheelsOn         TaxiIn     CRSArrTime       ArrDelay  \\\n",
       "count  351969.000000  351969.000000  352056.000000  352056.000000   \n",
       "mean     1505.529808       7.976586    1524.820494      27.576102   \n",
       "std       543.591415       6.902930     507.784389      70.832464   \n",
       "min         1.000000       1.000000       1.000000     -80.000000   \n",
       "25%      1122.000000       4.000000    1130.000000      -9.000000   \n",
       "50%      1547.000000       6.000000    1550.000000      14.500000   \n",
       "75%      1939.000000       9.000000    1935.000000      38.000000   \n",
       "max      2400.000000     258.000000    2400.000000    2153.000000   \n",
       "\n",
       "            ArrDel15  DistanceGroup  DivAirportLandings   Origin_Point  \\\n",
       "count  352056.000000  352056.000000            352056.0  352056.000000   \n",
       "mean        0.500000       3.560581                 0.0     173.365144   \n",
       "std         0.500001       2.321965                 0.0      98.431208   \n",
       "min         0.000000       1.000000                 0.0       0.000000   \n",
       "25%         0.000000       2.000000                 0.0      89.000000   \n",
       "50%         0.500000       3.000000                 0.0     184.000000   \n",
       "75%         1.000000       5.000000                 0.0     256.000000   \n",
       "max         1.000000      11.000000                 0.0     361.000000   \n",
       "\n",
       "       Origin_CityName   Origin_State  OriginState_Name    Destination  \\\n",
       "count    352056.000000  352056.000000     352056.000000  352056.000000   \n",
       "mean        166.487215      22.241587         22.224601     174.685968   \n",
       "std         101.740660      15.142604         15.204973      98.815949   \n",
       "min           0.000000       0.000000          0.000000       0.000000   \n",
       "25%          65.000000       7.000000          7.000000      89.000000   \n",
       "50%         176.000000      20.000000         20.000000     183.000000   \n",
       "75%         251.000000      35.000000         35.000000     259.000000   \n",
       "max         355.000000      51.000000         51.000000     360.000000   \n",
       "\n",
       "       Dest_CityName     Dest_State  Dest_StateName    DepTime_Blk  \\\n",
       "count  352056.000000  352056.000000   352056.000000  352056.000000   \n",
       "mean      169.569486      22.158958       22.129661       8.356546   \n",
       "std       101.830650      15.200069       15.263110       4.746682   \n",
       "min         0.000000       0.000000        0.000000       0.000000   \n",
       "25%        70.000000       7.000000        7.000000       4.000000   \n",
       "50%       188.000000      20.000000       20.000000       8.000000   \n",
       "75%       251.000000      35.000000       35.000000      12.000000   \n",
       "max       354.000000      51.000000       51.000000      18.000000   \n",
       "\n",
       "         ArrTime_Blk  \n",
       "count  352056.000000  \n",
       "mean       10.029924  \n",
       "std         4.893963  \n",
       "min         0.000000  \n",
       "25%         6.000000  \n",
       "50%        10.000000  \n",
       "75%        14.000000  \n",
       "max        18.000000  "
      ]
     },
     "execution_count": 77,
     "metadata": {},
     "output_type": "execute_result"
    }
   ],
   "source": [
    "#Data set up as predictors and target\n",
    "rfDataOriginal = pd.DataFrame(data)\n",
    "Delay_YesNo = rfDataOriginal['ArrDel15']\n",
    "rfDataOriginal.drop(['ArrDel15'], axis=1, inplace=True)#Removing target variable\n",
    "print('Dimension reduced to:')\n",
    "print(len(rfDataOriginal.columns))\n",
    "data.describe()"
   ]
  },
  {
   "cell_type": "markdown",
   "metadata": {},
   "source": [
    "###### Check for multi-collinearity of variables"
   ]
  },
  {
   "cell_type": "code",
   "execution_count": 78,
   "metadata": {},
   "outputs": [
    {
     "data": {
      "image/png": "[encoded data removed]",
      "text/plain": [
       "<Figure size 288x288 with 1 Axes>"
      ]
     },
     "metadata": {
      "needs_background": "light"
     },
     "output_type": "display_data"
    }
   ],
   "source": [
    "plt.matshow(rfDataOriginal.corr())\n",
    "plt.title('Correlation matrix for MULTI-COLLINEAR data')\n",
    "corr = rfDataOriginal.corr()\n",
    "#corr"
   ]
  },
  {
   "cell_type": "markdown",
   "metadata": {},
   "source": [
    "Note: Darker cells indicate high collinearity"
   ]
  },
  {
   "cell_type": "code",
   "execution_count": 79,
   "metadata": {
    "scrolled": true
   },
   "outputs": [
    {
     "data": {
      "text/plain": [
       "[('CRSDepTime', 'DepTime'),\n",
       " ('CRSDepTime', 'WheelsOff'),\n",
       " ('CRSDepTime', 'DepTime_Blk'),\n",
       " ('DepTime', 'WheelsOff'),\n",
       " ('DepTime', 'DepTime_Blk'),\n",
       " ('DepDelayMinutes', 'DepDelay'),\n",
       " ('DepDelayMinutes', 'ArrDelayMinutes'),\n",
       " ('DepDelayMinutes', 'ArrDelay'),\n",
       " ('DepDelay', 'ArrDelayMinutes'),\n",
       " ('DepDelay', 'ArrDelay'),\n",
       " ('ArrTime', 'WheelsOn'),\n",
       " ('ArrDelayMinutes', 'ArrDelay'),\n",
       " ('AirTime', 'CRSElapsedTime'),\n",
       " ('AirTime', 'ActualElapsedTime'),\n",
       " ('AirTime', 'Distance'),\n",
       " ('AirTime', 'DistanceGroup'),\n",
       " ('CRSElapsedTime', 'ActualElapsedTime'),\n",
       " ('CRSElapsedTime', 'Distance'),\n",
       " ('CRSElapsedTime', 'DistanceGroup'),\n",
       " ('ActualElapsedTime', 'Distance'),\n",
       " ('ActualElapsedTime', 'DistanceGroup'),\n",
       " ('Distance', 'DistanceGroup'),\n",
       " ('Quarter', 'Month'),\n",
       " ('Flight_Number_Marketing_Airline', 'Flight_Number_Operating_Airline'),\n",
       " ('OriginAirportID', 'OriginAirportSeqID'),\n",
       " ('OriginAirportID', 'Origin_Point'),\n",
       " ('OriginAirportSeqID', 'Origin_Point'),\n",
       " ('OriginStateFips', 'Origin_State'),\n",
       " ('OriginStateFips', 'OriginState_Name'),\n",
       " ('DestAirportID', 'DestAirportSeqID'),\n",
       " ('DestAirportID', 'Destination'),\n",
       " ('DestAirportSeqID', 'Destination'),\n",
       " ('DestStateFips', 'Dest_State'),\n",
       " ('DestStateFips', 'Dest_StateName'),\n",
       " ('WheelsOff', 'DepTime_Blk'),\n",
       " ('CRSArrTime', 'ArrTime_Blk'),\n",
       " ('Origin_State', 'OriginState_Name'),\n",
       " ('Dest_State', 'Dest_StateName')]"
      ]
     },
     "execution_count": 79,
     "metadata": {},
     "output_type": "execute_result"
    }
   ],
   "source": [
    "corr = rfDataOriginal.corr()#Lists all pairs of highly collinear variables\n",
    "indices = np.where(corr > 0.8)\n",
    "indices = [(corr.columns[x], corr.columns[y]) for x, y in zip(*indices)\n",
    "                                        if x != y and x < y]\n",
    "indices"
   ]
  },
  {
   "cell_type": "markdown",
   "metadata": {},
   "source": [
    "###### Removal of only redundant columns\n",
    "Note: Collinearity is not the main consideration here(Part 3 deals with it)"
   ]
  },
  {
   "cell_type": "code",
   "execution_count": 80,
   "metadata": {},
   "outputs": [
    {
     "data": {
      "text/plain": [
       "Index(['FlightDate', 'Airline', 'Diverted', 'CRSDepTime', 'DepTime',\n",
       "       'DepDelayMinutes', 'DepDelay', 'ArrTime', 'ArrDelayMinutes', 'AirTime',\n",
       "       'CRSElapsedTime', 'ActualElapsedTime', 'Distance', 'Year', 'Quarter',\n",
       "       'Month', 'DayofMonth', 'DayOfWeek', 'Marketing_Airline_Network',\n",
       "       'Operated_or_Branded_Code_Share_Partners', 'DOT_ID_Marketing_Airline',\n",
       "       'IATA_Code_Marketing_Airline', 'Flight_Number_Marketing_Airline',\n",
       "       'DOT_ID_Operating_Airline', 'IATA_Code_Operating_Airline',\n",
       "       'Tail_Number', 'Flight_Number_Operating_Airline', 'OriginAirportID',\n",
       "       'OriginAirportSeqID', 'OriginCityMarketID', 'OriginStateFips',\n",
       "       'OriginWac', 'DestAirportID', 'DestAirportSeqID', 'DestCityMarketID',\n",
       "       'DestStateFips', 'DestWac', 'DepDel15', 'TaxiOut', 'WheelsOff',\n",
       "       'WheelsOn', 'TaxiIn', 'CRSArrTime', 'ArrDelay', 'DistanceGroup',\n",
       "       'DivAirportLandings', 'Origin_Point', 'Origin_CityName', 'Origin_State',\n",
       "       'OriginState_Name', 'Destination', 'Dest_CityName', 'Dest_State',\n",
       "       'Dest_StateName', 'DepTime_Blk', 'ArrTime_Blk'],\n",
       "      dtype='object')"
      ]
     },
     "execution_count": 80,
     "metadata": {},
     "output_type": "execute_result"
    }
   ],
   "source": [
    "rfDataOriginal.columns"
   ]
  },
  {
   "cell_type": "code",
   "execution_count": 81,
   "metadata": {},
   "outputs": [],
   "source": [
    "#Subsetting to remove redundant variables using results from above cell for quick filtering\n",
    "rfDataOriginal.drop(['OriginAirportSeqID','OriginCityMarketID', 'OriginStateFips', 'OriginWac', \n",
    "                     'DestAirportSeqID', 'DestCityMarketID', 'DestStateFips', 'DestWac',\n",
    "                     'CRSDepTime', 'CRSElapsedTime', 'CRSArrTime', \n",
    "                     'Origin_Point', 'Origin_CityName', 'Origin_State', 'OriginState_Name', \n",
    "                     'Destination', 'Dest_CityName', 'Dest_State', 'Dest_StateName'], axis=1, inplace=True)"
   ]
  },
  {
   "cell_type": "code",
   "execution_count": 82,
   "metadata": {},
   "outputs": [],
   "source": [
    "rfDataOriginal.drop(['DepDelayMinutes',\n",
    " 'DepDelay',\n",
    "'ArrDelayMinutes',\n",
    "'ActualElapsedTime',\n",
    "'Marketing_Airline_Network',\n",
    " 'Operated_or_Branded_Code_Share_Partners',\n",
    " 'DOT_ID_Marketing_Airline',\n",
    " 'IATA_Code_Marketing_Airline',\n",
    " 'Flight_Number_Marketing_Airline',\n",
    " 'DOT_ID_Operating_Airline',\n",
    " 'IATA_Code_Operating_Airline',\n",
    " 'Tail_Number',\n",
    " 'Flight_Number_Operating_Airline',\n",
    "'DepDel15',\n",
    "'ArrDelay',\n",
    "'DivAirportLandings'], axis=1, inplace=True)"
   ]
  },
  {
   "cell_type": "code",
   "execution_count": 83,
   "metadata": {
    "scrolled": true
   },
   "outputs": [
    {
     "name": "stdout",
     "output_type": "stream",
     "text": [
      "Dimension finally reduced to:\n",
      "21\n"
     ]
    },
    {
     "data": {
      "text/plain": [
       "['FlightDate',\n",
       " 'Airline',\n",
       " 'Diverted',\n",
       " 'DepTime',\n",
       " 'ArrTime',\n",
       " 'AirTime',\n",
       " 'Distance',\n",
       " 'Year',\n",
       " 'Quarter',\n",
       " 'Month',\n",
       " 'DayofMonth',\n",
       " 'DayOfWeek',\n",
       " 'OriginAirportID',\n",
       " 'DestAirportID',\n",
       " 'TaxiOut',\n",
       " 'WheelsOff',\n",
       " 'WheelsOn',\n",
       " 'TaxiIn',\n",
       " 'DistanceGroup',\n",
       " 'DepTime_Blk',\n",
       " 'ArrTime_Blk']"
      ]
     },
     "execution_count": 83,
     "metadata": {},
     "output_type": "execute_result"
    }
   ],
   "source": [
    "print('Dimension finally reduced to:')\n",
    "print(len(rfDataOriginal.columns))\n",
    "list(rfDataOriginal.columns)"
   ]
  },
  {
   "cell_type": "markdown",
   "metadata": {},
   "source": [
    "### Model building with non-redundant variables"
   ]
  },
  {
   "cell_type": "markdown",
   "metadata": {},
   "source": [
    "###### Train/test split\n",
    "- Train:Test split = 80:20"
   ]
  },
  {
   "cell_type": "code",
   "execution_count": 84,
   "metadata": {
    "scrolled": true
   },
   "outputs": [
    {
     "data": {
      "text/plain": [
       "Index(['FlightDate', 'Airline', 'Diverted', 'CRSDepTime', 'DepTime',\n",
       "       'DepDelayMinutes', 'DepDelay', 'ArrTime', 'ArrDelayMinutes', 'AirTime',\n",
       "       'CRSElapsedTime', 'ActualElapsedTime', 'Distance', 'Year', 'Quarter',\n",
       "       'Month', 'DayofMonth', 'DayOfWeek', 'Marketing_Airline_Network',\n",
       "       'Operated_or_Branded_Code_Share_Partners', 'DOT_ID_Marketing_Airline',\n",
       "       'IATA_Code_Marketing_Airline', 'Flight_Number_Marketing_Airline',\n",
       "       'DOT_ID_Operating_Airline', 'IATA_Code_Operating_Airline',\n",
       "       'Tail_Number', 'Flight_Number_Operating_Airline', 'OriginAirportID',\n",
       "       'OriginAirportSeqID', 'OriginCityMarketID', 'OriginStateFips',\n",
       "       'OriginWac', 'DestAirportID', 'DestAirportSeqID', 'DestCityMarketID',\n",
       "       'DestStateFips', 'DestWac', 'DepDel15', 'TaxiOut', 'WheelsOff',\n",
       "       'WheelsOn', 'TaxiIn', 'CRSArrTime', 'ArrDelay', 'ArrDel15',\n",
       "       'DistanceGroup', 'DivAirportLandings', 'Origin_Point',\n",
       "       'Origin_CityName', 'Origin_State', 'OriginState_Name', 'Destination',\n",
       "       'Dest_CityName', 'Dest_State', 'Dest_StateName', 'DepTime_Blk',\n",
       "       'ArrTime_Blk'],\n",
       "      dtype='object')"
      ]
     },
     "execution_count": 84,
     "metadata": {},
     "output_type": "execute_result"
    }
   ],
   "source": [
    "data.columns"
   ]
  },
  {
   "cell_type": "code",
   "execution_count": 85,
   "metadata": {},
   "outputs": [],
   "source": [
    "bigX = pd.concat([rfDataOriginal, Delay_YesNo], axis = 1)"
   ]
  },
  {
   "cell_type": "code",
   "execution_count": 87,
   "metadata": {},
   "outputs": [],
   "source": [
    "bigX.drop(['FlightDate'], axis=1, inplace=True)"
   ]
  },
  {
   "cell_type": "code",
   "execution_count": 100,
   "metadata": {},
   "outputs": [],
   "source": [
    "bigX.drop(['Airline'], axis=1, inplace=True)"
   ]
  },
  {
   "cell_type": "code",
   "execution_count": 88,
   "metadata": {},
   "outputs": [],
   "source": [
    "bigX.dropna(axis = 0,inplace = True)"
   ]
  },
  {
   "cell_type": "code",
   "execution_count": 116,
   "metadata": {},
   "outputs": [],
   "source": [
    "bigX.drop(['Diverted','ArrTime','Year','WheelsOn','WheelsOff'], axis = 1, inplace = True)"
   ]
  },
  {
   "cell_type": "code",
   "execution_count": 117,
   "metadata": {},
   "outputs": [],
   "source": [
    "rfDataOriginal = bigX.iloc[:,0:-1]\n",
    "Delay_YesNo = bigX[['ArrDel15']]"
   ]
  },
  {
   "cell_type": "code",
   "execution_count": 118,
   "metadata": {
    "scrolled": true
   },
   "outputs": [],
   "source": [
    "X_train, X_test, Y_train, Y_test = train_test_split(rfDataOriginal, Delay_YesNo, test_size=0.2, random_state=42)"
   ]
  },
  {
   "cell_type": "markdown",
   "metadata": {},
   "source": [
    "###### Grid search\n",
    "Grid search is not performed for all the desired parameter combinations and values due to computational time"
   ]
  },
  {
   "cell_type": "code",
   "execution_count": 58,
   "metadata": {},
   "outputs": [],
   "source": [
    "X_train[\"FlightDate\"] = X_train[\"FlightDate\"].apply(lambda x: int(''.join(x.split(\"-\"))))#Formatting date for convinience\n"
   ]
  },
  {
   "cell_type": "code",
   "execution_count": 98,
   "metadata": {
    "scrolled": true
   },
   "outputs": [
    {
     "ename": "KeyError",
     "evalue": "'FlightDate'",
     "output_type": "error",
     "traceback": [
      "\u001b[1;31m---------------------------------------------------------------------------\u001b[0m",
      "\u001b[1;31mKeyError\u001b[0m                                  Traceback (most recent call last)",
      "\u001b[1;32m~\\anaconda3\\lib\\site-packages\\pandas\\core\\indexes\\base.py\u001b[0m in \u001b[0;36mget_loc\u001b[1;34m(self, key, method, tolerance)\u001b[0m\n\u001b[0;32m   3360\u001b[0m             \u001b[1;32mtry\u001b[0m\u001b[1;33m:\u001b[0m\u001b[1;33m\u001b[0m\u001b[1;33m\u001b[0m\u001b[0m\n\u001b[1;32m-> 3361\u001b[1;33m                 \u001b[1;32mreturn\u001b[0m \u001b[0mself\u001b[0m\u001b[1;33m.\u001b[0m\u001b[0m_engine\u001b[0m\u001b[1;33m.\u001b[0m\u001b[0mget_loc\u001b[0m\u001b[1;33m(\u001b[0m\u001b[0mcasted_key\u001b[0m\u001b[1;33m)\u001b[0m\u001b[1;33m\u001b[0m\u001b[1;33m\u001b[0m\u001b[0m\n\u001b[0m\u001b[0;32m   3362\u001b[0m             \u001b[1;32mexcept\u001b[0m \u001b[0mKeyError\u001b[0m \u001b[1;32mas\u001b[0m \u001b[0merr\u001b[0m\u001b[1;33m:\u001b[0m\u001b[1;33m\u001b[0m\u001b[1;33m\u001b[0m\u001b[0m\n",
      "\u001b[1;32m~\\anaconda3\\lib\\site-packages\\pandas\\_libs\\index.pyx\u001b[0m in \u001b[0;36mpandas._libs.index.IndexEngine.get_loc\u001b[1;34m()\u001b[0m\n",
      "\u001b[1;32m~\\anaconda3\\lib\\site-packages\\pandas\\_libs\\index.pyx\u001b[0m in \u001b[0;36mpandas._libs.index.IndexEngine.get_loc\u001b[1;34m()\u001b[0m\n",
      "\u001b[1;32mpandas\\_libs\\hashtable_class_helper.pxi\u001b[0m in \u001b[0;36mpandas._libs.hashtable.PyObjectHashTable.get_item\u001b[1;34m()\u001b[0m\n",
      "\u001b[1;32mpandas\\_libs\\hashtable_class_helper.pxi\u001b[0m in \u001b[0;36mpandas._libs.hashtable.PyObjectHashTable.get_item\u001b[1;34m()\u001b[0m\n",
      "\u001b[1;31mKeyError\u001b[0m: 'FlightDate'",
      "\nThe above exception was the direct cause of the following exception:\n",
      "\u001b[1;31mKeyError\u001b[0m                                  Traceback (most recent call last)",
      "\u001b[1;32m~\\AppData\\Local\\Temp/ipykernel_23680/2730670774.py\u001b[0m in \u001b[0;36m<module>\u001b[1;34m\u001b[0m\n\u001b[0;32m      2\u001b[0m \u001b[0mrfDataOriginal\u001b[0m\u001b[1;33m[\u001b[0m\u001b[1;34m'Airline'\u001b[0m\u001b[1;33m]\u001b[0m \u001b[1;33m=\u001b[0m \u001b[0mle\u001b[0m\u001b[1;33m.\u001b[0m\u001b[0mfit_transform\u001b[0m\u001b[1;33m(\u001b[0m\u001b[0mrfDataOriginal\u001b[0m\u001b[1;33m[\u001b[0m\u001b[1;34m\"Airline\"\u001b[0m\u001b[1;33m]\u001b[0m\u001b[1;33m)\u001b[0m\u001b[1;33m\u001b[0m\u001b[1;33m\u001b[0m\u001b[0m\n\u001b[0;32m      3\u001b[0m \u001b[0mCarrier\u001b[0m \u001b[1;33m=\u001b[0m \u001b[0mlist\u001b[0m\u001b[1;33m(\u001b[0m\u001b[0mle\u001b[0m\u001b[1;33m.\u001b[0m\u001b[0mclasses_\u001b[0m\u001b[1;33m)\u001b[0m\u001b[1;33m\u001b[0m\u001b[1;33m\u001b[0m\u001b[0m\n\u001b[1;32m----> 4\u001b[1;33m \u001b[0mrfDataOriginal\u001b[0m\u001b[1;33m[\u001b[0m\u001b[1;34m'FlightDate'\u001b[0m\u001b[1;33m]\u001b[0m \u001b[1;33m=\u001b[0m \u001b[0mle\u001b[0m\u001b[1;33m.\u001b[0m\u001b[0mfit_transform\u001b[0m\u001b[1;33m(\u001b[0m\u001b[0mrfDataOriginal\u001b[0m\u001b[1;33m[\u001b[0m\u001b[1;34m\"FlightDate\"\u001b[0m\u001b[1;33m]\u001b[0m\u001b[1;33m)\u001b[0m\u001b[1;33m\u001b[0m\u001b[1;33m\u001b[0m\u001b[0m\n\u001b[0m\u001b[0;32m      5\u001b[0m \u001b[0mflightdate\u001b[0m \u001b[1;33m=\u001b[0m \u001b[0mlist\u001b[0m\u001b[1;33m(\u001b[0m\u001b[0mle\u001b[0m\u001b[1;33m.\u001b[0m\u001b[0mclasses_\u001b[0m\u001b[1;33m)\u001b[0m\u001b[1;33m\u001b[0m\u001b[1;33m\u001b[0m\u001b[0m\n",
      "\u001b[1;32m~\\anaconda3\\lib\\site-packages\\pandas\\core\\frame.py\u001b[0m in \u001b[0;36m__getitem__\u001b[1;34m(self, key)\u001b[0m\n\u001b[0;32m   3456\u001b[0m             \u001b[1;32mif\u001b[0m \u001b[0mself\u001b[0m\u001b[1;33m.\u001b[0m\u001b[0mcolumns\u001b[0m\u001b[1;33m.\u001b[0m\u001b[0mnlevels\u001b[0m \u001b[1;33m>\u001b[0m \u001b[1;36m1\u001b[0m\u001b[1;33m:\u001b[0m\u001b[1;33m\u001b[0m\u001b[1;33m\u001b[0m\u001b[0m\n\u001b[0;32m   3457\u001b[0m                 \u001b[1;32mreturn\u001b[0m \u001b[0mself\u001b[0m\u001b[1;33m.\u001b[0m\u001b[0m_getitem_multilevel\u001b[0m\u001b[1;33m(\u001b[0m\u001b[0mkey\u001b[0m\u001b[1;33m)\u001b[0m\u001b[1;33m\u001b[0m\u001b[1;33m\u001b[0m\u001b[0m\n\u001b[1;32m-> 3458\u001b[1;33m             \u001b[0mindexer\u001b[0m \u001b[1;33m=\u001b[0m \u001b[0mself\u001b[0m\u001b[1;33m.\u001b[0m\u001b[0mcolumns\u001b[0m\u001b[1;33m.\u001b[0m\u001b[0mget_loc\u001b[0m\u001b[1;33m(\u001b[0m\u001b[0mkey\u001b[0m\u001b[1;33m)\u001b[0m\u001b[1;33m\u001b[0m\u001b[1;33m\u001b[0m\u001b[0m\n\u001b[0m\u001b[0;32m   3459\u001b[0m             \u001b[1;32mif\u001b[0m \u001b[0mis_integer\u001b[0m\u001b[1;33m(\u001b[0m\u001b[0mindexer\u001b[0m\u001b[1;33m)\u001b[0m\u001b[1;33m:\u001b[0m\u001b[1;33m\u001b[0m\u001b[1;33m\u001b[0m\u001b[0m\n\u001b[0;32m   3460\u001b[0m                 \u001b[0mindexer\u001b[0m \u001b[1;33m=\u001b[0m \u001b[1;33m[\u001b[0m\u001b[0mindexer\u001b[0m\u001b[1;33m]\u001b[0m\u001b[1;33m\u001b[0m\u001b[1;33m\u001b[0m\u001b[0m\n",
      "\u001b[1;32m~\\anaconda3\\lib\\site-packages\\pandas\\core\\indexes\\base.py\u001b[0m in \u001b[0;36mget_loc\u001b[1;34m(self, key, method, tolerance)\u001b[0m\n\u001b[0;32m   3361\u001b[0m                 \u001b[1;32mreturn\u001b[0m \u001b[0mself\u001b[0m\u001b[1;33m.\u001b[0m\u001b[0m_engine\u001b[0m\u001b[1;33m.\u001b[0m\u001b[0mget_loc\u001b[0m\u001b[1;33m(\u001b[0m\u001b[0mcasted_key\u001b[0m\u001b[1;33m)\u001b[0m\u001b[1;33m\u001b[0m\u001b[1;33m\u001b[0m\u001b[0m\n\u001b[0;32m   3362\u001b[0m             \u001b[1;32mexcept\u001b[0m \u001b[0mKeyError\u001b[0m \u001b[1;32mas\u001b[0m \u001b[0merr\u001b[0m\u001b[1;33m:\u001b[0m\u001b[1;33m\u001b[0m\u001b[1;33m\u001b[0m\u001b[0m\n\u001b[1;32m-> 3363\u001b[1;33m                 \u001b[1;32mraise\u001b[0m \u001b[0mKeyError\u001b[0m\u001b[1;33m(\u001b[0m\u001b[0mkey\u001b[0m\u001b[1;33m)\u001b[0m \u001b[1;32mfrom\u001b[0m \u001b[0merr\u001b[0m\u001b[1;33m\u001b[0m\u001b[1;33m\u001b[0m\u001b[0m\n\u001b[0m\u001b[0;32m   3364\u001b[0m \u001b[1;33m\u001b[0m\u001b[0m\n\u001b[0;32m   3365\u001b[0m         \u001b[1;32mif\u001b[0m \u001b[0mis_scalar\u001b[0m\u001b[1;33m(\u001b[0m\u001b[0mkey\u001b[0m\u001b[1;33m)\u001b[0m \u001b[1;32mand\u001b[0m \u001b[0misna\u001b[0m\u001b[1;33m(\u001b[0m\u001b[0mkey\u001b[0m\u001b[1;33m)\u001b[0m \u001b[1;32mand\u001b[0m \u001b[1;32mnot\u001b[0m \u001b[0mself\u001b[0m\u001b[1;33m.\u001b[0m\u001b[0mhasnans\u001b[0m\u001b[1;33m:\u001b[0m\u001b[1;33m\u001b[0m\u001b[1;33m\u001b[0m\u001b[0m\n",
      "\u001b[1;31mKeyError\u001b[0m: 'FlightDate'"
     ]
    }
   ],
   "source": [
    "X_train.columns\n",
    "rfDataOriginal['Airline'] = le.fit_transform(rfDataOriginal[\"Airline\"])\n",
    "Carrier = list(le.classes_)\n",
    "rfDataOriginal['FlightDate'] = le.fit_transform(rfDataOriginal[\"FlightDate\"])\n",
    "flightdate = list(le.classes_)"
   ]
  },
  {
   "cell_type": "code",
   "execution_count": 99,
   "metadata": {},
   "outputs": [
    {
     "data": {
      "text/html": [
       "<div>\n",
       "<style scoped>\n",
       "    .dataframe tbody tr th:only-of-type {\n",
       "        vertical-align: middle;\n",
       "    }\n",
       "\n",
       "    .dataframe tbody tr th {\n",
       "        vertical-align: top;\n",
       "    }\n",
       "\n",
       "    .dataframe thead th {\n",
       "        text-align: right;\n",
       "    }\n",
       "</style>\n",
       "<table border=\"1\" class=\"dataframe\">\n",
       "  <thead>\n",
       "    <tr style=\"text-align: right;\">\n",
       "      <th></th>\n",
       "      <th>Airline</th>\n",
       "      <th>Diverted</th>\n",
       "      <th>DepTime</th>\n",
       "      <th>ArrTime</th>\n",
       "      <th>AirTime</th>\n",
       "      <th>Distance</th>\n",
       "      <th>Year</th>\n",
       "      <th>Quarter</th>\n",
       "      <th>Month</th>\n",
       "      <th>DayofMonth</th>\n",
       "      <th>DayOfWeek</th>\n",
       "      <th>OriginAirportID</th>\n",
       "      <th>DestAirportID</th>\n",
       "      <th>TaxiOut</th>\n",
       "      <th>WheelsOff</th>\n",
       "      <th>WheelsOn</th>\n",
       "      <th>TaxiIn</th>\n",
       "      <th>DistanceGroup</th>\n",
       "      <th>DepTime_Blk</th>\n",
       "      <th>ArrTime_Blk</th>\n",
       "    </tr>\n",
       "  </thead>\n",
       "  <tbody>\n",
       "    <tr>\n",
       "      <th>1012278</th>\n",
       "      <td>Frontier Airlines Inc.</td>\n",
       "      <td>False</td>\n",
       "      <td>1221.0</td>\n",
       "      <td>1351.0</td>\n",
       "      <td>65.0</td>\n",
       "      <td>414</td>\n",
       "      <td>2018</td>\n",
       "      <td>4</td>\n",
       "      <td>10</td>\n",
       "      <td>20</td>\n",
       "      <td>6</td>\n",
       "      <td>12889</td>\n",
       "      <td>14771</td>\n",
       "      <td>16.0</td>\n",
       "      <td>1237.0</td>\n",
       "      <td>1342.0</td>\n",
       "      <td>9.0</td>\n",
       "      <td>2</td>\n",
       "      <td>7</td>\n",
       "      <td>9</td>\n",
       "    </tr>\n",
       "  </tbody>\n",
       "</table>\n",
       "</div>"
      ],
      "text/plain": [
       "                        Airline  Diverted  DepTime  ArrTime  AirTime  \\\n",
       "1012278  Frontier Airlines Inc.     False   1221.0   1351.0     65.0   \n",
       "\n",
       "         Distance  Year  Quarter  Month  DayofMonth  DayOfWeek  \\\n",
       "1012278       414  2018        4     10          20          6   \n",
       "\n",
       "         OriginAirportID  DestAirportID  TaxiOut  WheelsOff  WheelsOn  TaxiIn  \\\n",
       "1012278            12889          14771     16.0     1237.0    1342.0     9.0   \n",
       "\n",
       "         DistanceGroup  DepTime_Blk  ArrTime_Blk  \n",
       "1012278              2            7            9  "
      ]
     },
     "execution_count": 99,
     "metadata": {},
     "output_type": "execute_result"
    }
   ],
   "source": [
    "X_train.head(1)"
   ]
  },
  {
   "cell_type": "code",
   "execution_count": 119,
   "metadata": {},
   "outputs": [],
   "source": [
    "startTimeGS = datetime.now()\n",
    "from sklearn.model_selection import GridSearchCV\n",
    "rf = RandomForestClassifier()\n",
    "param_grid = {\n",
    "                 'n_estimators': [10, 25],\n",
    "#                 'min_samples_split': [2, 4],\n",
    "#                 'min_samples_leaf': [2, 4],\n",
    "#                 'max_features': ['sqrt', 'log2'],\n",
    "                 \"criterion\" : [\"gini\", \"entropy\"]\n",
    "             }\n",
    "grid_rf = GridSearchCV(rf, param_grid, cv=10)\n",
    "grid_rf.fit(X_train, Y_train)\n",
    "bestModel = grid_rf.best_estimator_"
   ]
  },
  {
   "cell_type": "code",
   "execution_count": 120,
   "metadata": {},
   "outputs": [
    {
     "name": "stdout",
     "output_type": "stream",
     "text": [
      "Random forest Grid Search with non-redundant variables took [ 0:05:34.649098 ] seconds.\n"
     ]
    }
   ],
   "source": [
    "bestParameters = grid_rf.best_params_\n",
    "gridScores = grid_rf.cv_results_\n",
    "print('Random forest Grid Search with non-redundant variables took [', datetime.now() - startTimeGS, '] seconds.')"
   ]
  },
  {
   "cell_type": "code",
   "execution_count": 121,
   "metadata": {
    "scrolled": true
   },
   "outputs": [
    {
     "data": {
      "text/plain": [
       "{'mean_fit_time': array([ 3.48188672,  9.2059804 ,  4.19967229, 10.55147226]),\n",
       " 'std_fit_time': array([0.08658205, 0.20117653, 0.09611142, 0.38449078]),\n",
       " 'mean_score_time': array([0.07410131, 0.18879797, 0.07150285, 0.17483063]),\n",
       " 'std_score_time': array([0.01159128, 0.03690162, 0.00194594, 0.01320127]),\n",
       " 'param_criterion': masked_array(data=['gini', 'gini', 'entropy', 'entropy'],\n",
       "              mask=[False, False, False, False],\n",
       "        fill_value='?',\n",
       "             dtype=object),\n",
       " 'param_n_estimators': masked_array(data=[10, 25, 10, 25],\n",
       "              mask=[False, False, False, False],\n",
       "        fill_value='?',\n",
       "             dtype=object),\n",
       " 'params': [{'criterion': 'gini', 'n_estimators': 10},\n",
       "  {'criterion': 'gini', 'n_estimators': 25},\n",
       "  {'criterion': 'entropy', 'n_estimators': 10},\n",
       "  {'criterion': 'entropy', 'n_estimators': 25}],\n",
       " 'split0_test_score': array([0.88852191, 0.90336672, 0.89484338, 0.90507138]),\n",
       " 'split1_test_score': array([0.88152568, 0.89729384, 0.88202287, 0.89612188]),\n",
       " 'split2_test_score': array([0.88500604, 0.89697422, 0.87943036, 0.90137794]),\n",
       " 'split3_test_score': array([0.87719298, 0.89789758, 0.8846509 , 0.90194616]),\n",
       " 'split4_test_score': array([0.88738547, 0.8971873 , 0.87861354, 0.89800412]),\n",
       " 'split5_test_score': array([0.88127286, 0.89920801, 0.88624498, 0.90130341]),\n",
       " 'split6_test_score': array([0.88429165, 0.90279504, 0.88525056, 0.90233335]),\n",
       " 'split7_test_score': array([0.87963917, 0.89839116, 0.88564123, 0.90013141]),\n",
       " 'split8_test_score': array([0.87743723, 0.8975388 , 0.87963917, 0.89874632]),\n",
       " 'split9_test_score': array([0.88478886, 0.90133892, 0.88429165, 0.89775189]),\n",
       " 'mean_test_score': array([0.88270618, 0.89919916, 0.88406286, 0.90027878]),\n",
       " 'std_test_score': array([0.00372654, 0.00229368, 0.004474  , 0.00251868]),\n",
       " 'rank_test_score': array([4, 2, 3, 1])}"
      ]
     },
     "execution_count": 121,
     "metadata": {},
     "output_type": "execute_result"
    }
   ],
   "source": [
    "gridScores"
   ]
  },
  {
   "cell_type": "markdown",
   "metadata": {},
   "source": [
    "###### Best model, corresponding parameters and CV results\n",
    "Used for model selection in next step"
   ]
  },
  {
   "cell_type": "code",
   "execution_count": 122,
   "metadata": {},
   "outputs": [
    {
     "name": "stdout",
     "output_type": "stream",
     "text": [
      "RandomForestClassifier(criterion='entropy', n_estimators=25)\n",
      "{'criterion': 'entropy', 'n_estimators': 25}\n"
     ]
    },
    {
     "data": {
      "text/plain": [
       "{'mean_fit_time': array([ 3.48188672,  9.2059804 ,  4.19967229, 10.55147226]),\n",
       " 'std_fit_time': array([0.08658205, 0.20117653, 0.09611142, 0.38449078]),\n",
       " 'mean_score_time': array([0.07410131, 0.18879797, 0.07150285, 0.17483063]),\n",
       " 'std_score_time': array([0.01159128, 0.03690162, 0.00194594, 0.01320127]),\n",
       " 'param_criterion': masked_array(data=['gini', 'gini', 'entropy', 'entropy'],\n",
       "              mask=[False, False, False, False],\n",
       "        fill_value='?',\n",
       "             dtype=object),\n",
       " 'param_n_estimators': masked_array(data=[10, 25, 10, 25],\n",
       "              mask=[False, False, False, False],\n",
       "        fill_value='?',\n",
       "             dtype=object),\n",
       " 'params': [{'criterion': 'gini', 'n_estimators': 10},\n",
       "  {'criterion': 'gini', 'n_estimators': 25},\n",
       "  {'criterion': 'entropy', 'n_estimators': 10},\n",
       "  {'criterion': 'entropy', 'n_estimators': 25}],\n",
       " 'split0_test_score': array([0.88852191, 0.90336672, 0.89484338, 0.90507138]),\n",
       " 'split1_test_score': array([0.88152568, 0.89729384, 0.88202287, 0.89612188]),\n",
       " 'split2_test_score': array([0.88500604, 0.89697422, 0.87943036, 0.90137794]),\n",
       " 'split3_test_score': array([0.87719298, 0.89789758, 0.8846509 , 0.90194616]),\n",
       " 'split4_test_score': array([0.88738547, 0.8971873 , 0.87861354, 0.89800412]),\n",
       " 'split5_test_score': array([0.88127286, 0.89920801, 0.88624498, 0.90130341]),\n",
       " 'split6_test_score': array([0.88429165, 0.90279504, 0.88525056, 0.90233335]),\n",
       " 'split7_test_score': array([0.87963917, 0.89839116, 0.88564123, 0.90013141]),\n",
       " 'split8_test_score': array([0.87743723, 0.8975388 , 0.87963917, 0.89874632]),\n",
       " 'split9_test_score': array([0.88478886, 0.90133892, 0.88429165, 0.89775189]),\n",
       " 'mean_test_score': array([0.88270618, 0.89919916, 0.88406286, 0.90027878]),\n",
       " 'std_test_score': array([0.00372654, 0.00229368, 0.004474  , 0.00251868]),\n",
       " 'rank_test_score': array([4, 2, 3, 1])}"
      ]
     },
     "execution_count": 122,
     "metadata": {},
     "output_type": "execute_result"
    }
   ],
   "source": [
    "print(bestModel)\n",
    "print(bestParameters)\n",
    "gridScores"
   ]
  },
  {
   "cell_type": "markdown",
   "metadata": {},
   "source": [
    "###### Model selection\n",
    "- Best model and parameters from above are used to train the final model on entire training set\n",
    "- 10-fold Cross validation is performed to find the overall error"
   ]
  },
  {
   "cell_type": "code",
   "execution_count": 108,
   "metadata": {},
   "outputs": [],
   "source": [
    "from sklearn.model_selection import KFold"
   ]
  },
  {
   "cell_type": "code",
   "execution_count": 123,
   "metadata": {},
   "outputs": [
    {
     "name": "stdout",
     "output_type": "stream",
     "text": [
      "Mean cross validation score is: 0.9003640233218606\n",
      "Random forest training and testing with with non-redundant variables took [ 0:01:57.979726 ] seconds.\n"
     ]
    }
   ],
   "source": [
    "startTimeRF = datetime.now()\n",
    "rf = RandomForestClassifier(n_estimators = bestParameters.get('n_estimators'), \n",
    "#                            min_samples_split=bestParameters.get('min_samples_split'),\n",
    "#                           min_samples_leaf = bestParameters.get('min_samples_leaf'),\n",
    "#                           max_features = bestParameters.get('max_features'),\n",
    "                           criterion = bestParameters.get('criterion'))\n",
    "cv = KFold(n_splits=10, shuffle=True, random_state=2)\n",
    "cvScores = cross_val_score(rf, X_train, Y_train, cv=cv)\n",
    "print ('Mean cross validation score is: ' + str(np.mean(cvScores)))\n",
    "rf.fit(X_train, Y_train)\n",
    "print('Random forest training and testing with with non-redundant variables took [', \n",
    "      datetime.now() - startTimeRF, '] seconds.')"
   ]
  },
  {
   "cell_type": "markdown",
   "metadata": {},
   "source": [
    "###### Performance evaluation\n",
    "- Prediction is done on the hold out test set to evaluate performance\n",
    "- Confusion matrix, Accuracy and Recall are computed\n",
    "- ROC curve is also plotted to pictorically depict 'Area under curve (AUC)' as 'Accuracy' "
   ]
  },
  {
   "cell_type": "code",
   "execution_count": 124,
   "metadata": {
    "scrolled": false
   },
   "outputs": [
    {
     "name": "stdout",
     "output_type": "stream",
     "text": [
      "Accuracy: 90.34%\n",
      "Recall: 86.08%\n",
      "Confusion matrix:\n",
      "[[33398  1916]\n",
      " [ 4884 30196]]\n",
      "Area under the ROC curve: 0.09674036590706124\n"
     ]
    },
    {
     "data": {
      "image/png": "[encoded data removed]",
      "text/plain": [
       "<Figure size 432x288 with 1 Axes>"
      ]
     },
     "metadata": {
      "needs_background": "light"
     },
     "output_type": "display_data"
    },
    {
     "data": {
      "image/png": "[encoded data removed]",
      "text/plain": [
       "<Figure size 432x288 with 2 Axes>"
      ]
     },
     "metadata": {
      "needs_background": "light"
     },
     "output_type": "display_data"
    }
   ],
   "source": [
    "Y_rf_pred = rf.predict(X_test)\n",
    "\n",
    "labels = [0, 1]\n",
    "cm = confusion_matrix(Y_test, Y_rf_pred)\n",
    "\n",
    "print('Accuracy: ' + str(np.round(100*float(cm[0][0]+cm[1][1])/float((cm[0][0]+cm[1][1] + cm[1][0] + cm[0][1])),2))+'%')\n",
    "print('Recall: ' + str(np.round(100*float((cm[1][1]))/float((cm[1][0]+cm[1][1])),2))+'%')\n",
    "print('Confusion matrix:')\n",
    "print(cm)\n",
    "\n",
    "fpr, tpr, _ = roc_curve(Y_test, Y_rf_pred)\n",
    "auc = np.trapz(fpr,tpr)\n",
    "print('Area under the ROC curve: ' + str(auc))\n",
    "\n",
    "fig = plt.figure(1)\n",
    "plt.plot(fpr,tpr,color='green')\n",
    "plt.xlabel('False positive rate (FPR)')\n",
    "plt.ylabel('True positive rate (TPR)')\n",
    "plt.title('Receiver operating characteristic (ROC)')\n",
    "\n",
    "fig = plt.figure(2)\n",
    "ax = fig.add_subplot(111)\n",
    "cax = ax.matshow(cm)\n",
    "plt.title('Confusion matrix for Random Forest classifier with original data')\n",
    "fig.colorbar(cax)\n",
    "ax.set_xticklabels([''] + labels)\n",
    "ax.set_yticklabels([''] + labels)\n",
    "plt.xlabel('Predicted')\n",
    "plt.ylabel('True')\n",
    "plt.show()"
   ]
  },
  {
   "cell_type": "code",
   "execution_count": 125,
   "metadata": {},
   "outputs": [
    {
     "data": {
      "text/html": [
       "<div>\n",
       "<style scoped>\n",
       "    .dataframe tbody tr th:only-of-type {\n",
       "        vertical-align: middle;\n",
       "    }\n",
       "\n",
       "    .dataframe tbody tr th {\n",
       "        vertical-align: top;\n",
       "    }\n",
       "\n",
       "    .dataframe thead th {\n",
       "        text-align: right;\n",
       "    }\n",
       "</style>\n",
       "<table border=\"1\" class=\"dataframe\">\n",
       "  <thead>\n",
       "    <tr style=\"text-align: right;\">\n",
       "      <th></th>\n",
       "      <th>DepTime</th>\n",
       "      <th>AirTime</th>\n",
       "      <th>Distance</th>\n",
       "      <th>Quarter</th>\n",
       "      <th>Month</th>\n",
       "      <th>DayofMonth</th>\n",
       "      <th>DayOfWeek</th>\n",
       "      <th>OriginAirportID</th>\n",
       "      <th>DestAirportID</th>\n",
       "      <th>TaxiOut</th>\n",
       "      <th>TaxiIn</th>\n",
       "      <th>DistanceGroup</th>\n",
       "      <th>DepTime_Blk</th>\n",
       "      <th>ArrTime_Blk</th>\n",
       "    </tr>\n",
       "  </thead>\n",
       "  <tbody>\n",
       "    <tr>\n",
       "      <th>1012278</th>\n",
       "      <td>1221.0</td>\n",
       "      <td>65.0</td>\n",
       "      <td>414</td>\n",
       "      <td>4</td>\n",
       "      <td>10</td>\n",
       "      <td>20</td>\n",
       "      <td>6</td>\n",
       "      <td>12889</td>\n",
       "      <td>14771</td>\n",
       "      <td>16.0</td>\n",
       "      <td>9.0</td>\n",
       "      <td>2</td>\n",
       "      <td>7</td>\n",
       "      <td>9</td>\n",
       "    </tr>\n",
       "    <tr>\n",
       "      <th>945046</th>\n",
       "      <td>1916.0</td>\n",
       "      <td>49.0</td>\n",
       "      <td>228</td>\n",
       "      <td>4</td>\n",
       "      <td>10</td>\n",
       "      <td>16</td>\n",
       "      <td>2</td>\n",
       "      <td>14489</td>\n",
       "      <td>14747</td>\n",
       "      <td>8.0</td>\n",
       "      <td>6.0</td>\n",
       "      <td>1</td>\n",
       "      <td>14</td>\n",
       "      <td>15</td>\n",
       "    </tr>\n",
       "    <tr>\n",
       "      <th>921575</th>\n",
       "      <td>2241.0</td>\n",
       "      <td>29.0</td>\n",
       "      <td>151</td>\n",
       "      <td>4</td>\n",
       "      <td>10</td>\n",
       "      <td>24</td>\n",
       "      <td>3</td>\n",
       "      <td>10397</td>\n",
       "      <td>12217</td>\n",
       "      <td>14.0</td>\n",
       "      <td>3.0</td>\n",
       "      <td>1</td>\n",
       "      <td>17</td>\n",
       "      <td>17</td>\n",
       "    </tr>\n",
       "    <tr>\n",
       "      <th>879019</th>\n",
       "      <td>1143.0</td>\n",
       "      <td>94.0</td>\n",
       "      <td>651</td>\n",
       "      <td>4</td>\n",
       "      <td>10</td>\n",
       "      <td>16</td>\n",
       "      <td>2</td>\n",
       "      <td>11292</td>\n",
       "      <td>11259</td>\n",
       "      <td>15.0</td>\n",
       "      <td>3.0</td>\n",
       "      <td>3</td>\n",
       "      <td>6</td>\n",
       "      <td>9</td>\n",
       "    </tr>\n",
       "    <tr>\n",
       "      <th>967061</th>\n",
       "      <td>1614.0</td>\n",
       "      <td>48.0</td>\n",
       "      <td>328</td>\n",
       "      <td>4</td>\n",
       "      <td>10</td>\n",
       "      <td>12</td>\n",
       "      <td>5</td>\n",
       "      <td>10693</td>\n",
       "      <td>11057</td>\n",
       "      <td>14.0</td>\n",
       "      <td>10.0</td>\n",
       "      <td>2</td>\n",
       "      <td>11</td>\n",
       "      <td>13</td>\n",
       "    </tr>\n",
       "  </tbody>\n",
       "</table>\n",
       "</div>"
      ],
      "text/plain": [
       "         DepTime  AirTime  Distance  Quarter  Month  DayofMonth  DayOfWeek  \\\n",
       "1012278   1221.0     65.0       414        4     10          20          6   \n",
       "945046    1916.0     49.0       228        4     10          16          2   \n",
       "921575    2241.0     29.0       151        4     10          24          3   \n",
       "879019    1143.0     94.0       651        4     10          16          2   \n",
       "967061    1614.0     48.0       328        4     10          12          5   \n",
       "\n",
       "         OriginAirportID  DestAirportID  TaxiOut  TaxiIn  DistanceGroup  \\\n",
       "1012278            12889          14771     16.0     9.0              2   \n",
       "945046             14489          14747      8.0     6.0              1   \n",
       "921575             10397          12217     14.0     3.0              1   \n",
       "879019             11292          11259     15.0     3.0              3   \n",
       "967061             10693          11057     14.0    10.0              2   \n",
       "\n",
       "         DepTime_Blk  ArrTime_Blk  \n",
       "1012278            7            9  \n",
       "945046            14           15  \n",
       "921575            17           17  \n",
       "879019             6            9  \n",
       "967061            11           13  "
      ]
     },
     "execution_count": 125,
     "metadata": {},
     "output_type": "execute_result"
    }
   ],
   "source": [
    "X_train.head()"
   ]
  },
  {
   "cell_type": "markdown",
   "metadata": {},
   "source": [
    "### Inferences:\n",
    "- High accuracy was obtained when model was first created.\n",
    "- This prompted cross validation with 10-fold in order to be convinced that it wasnt a chance performance\n",
    "- Accuracy improved when more data was added. More data is always better than any sophisticated model!\n",
    "- Inferences from exploratory analysis was critical in doing feature selection and obtaining good performance\n",
    "- E.g. Certain features (DepTimeBlk, Month etc.) with substantial variation were added to improve performance\n",
    "- Handling of class imbalance improved Accuracy and Recall respectively by more than 10% and 15%"
   ]
  },
  {
   "cell_type": "markdown",
   "metadata": {},
   "source": [
    "## PART 3: Model creation with PCA components"
   ]
  },
  {
   "cell_type": "markdown",
   "metadata": {},
   "source": [
    "### Feature Engineering by removing multi-collinear variables"
   ]
  },
  {
   "cell_type": "markdown",
   "metadata": {},
   "source": [
    "###### Removal of redundant and highly collinear variables from dataset\n",
    "Highly collinear variables are removed before PCA as they amplify their correlation through the common underlying factor and distort PCA results"
   ]
  },
  {
   "cell_type": "code",
   "execution_count": 26,
   "metadata": {},
   "outputs": [
    {
     "name": "stdout",
     "output_type": "stream",
     "text": [
      "Dimension reduced to:\n",
      "28\n"
     ]
    },
    {
     "data": {
      "text/html": [
       "<div>\n",
       "<table border=\"1\" class=\"dataframe\">\n",
       "  <thead>\n",
       "    <tr style=\"text-align: right;\">\n",
       "      <th></th>\n",
       "      <th>Year</th>\n",
       "      <th>Quarter</th>\n",
       "      <th>Month</th>\n",
       "      <th>DayofMonth</th>\n",
       "      <th>DayOfWeek</th>\n",
       "      <th>FlightDate</th>\n",
       "      <th>AirlineID</th>\n",
       "      <th>FlightNum</th>\n",
       "      <th>OriginAirportID</th>\n",
       "      <th>DestAirportID</th>\n",
       "      <th>...</th>\n",
       "      <th>Diverted</th>\n",
       "      <th>ActualElapsedTime</th>\n",
       "      <th>AirTime</th>\n",
       "      <th>Flights</th>\n",
       "      <th>Distance</th>\n",
       "      <th>DistanceGroup</th>\n",
       "      <th>Unique_Carrier</th>\n",
       "      <th>Tail_Number</th>\n",
       "      <th>DepTime_Blk</th>\n",
       "      <th>ArrTime_Blk</th>\n",
       "    </tr>\n",
       "  </thead>\n",
       "  <tbody>\n",
       "    <tr>\n",
       "      <th>count</th>\n",
       "      <td>1.589336e+06</td>\n",
       "      <td>1.589336e+06</td>\n",
       "      <td>1.589336e+06</td>\n",
       "      <td>1.589336e+06</td>\n",
       "      <td>1.589336e+06</td>\n",
       "      <td>1.589336e+06</td>\n",
       "      <td>1.589336e+06</td>\n",
       "      <td>1.589336e+06</td>\n",
       "      <td>1.589336e+06</td>\n",
       "      <td>1.589336e+06</td>\n",
       "      <td>...</td>\n",
       "      <td>1589336.0</td>\n",
       "      <td>1.589336e+06</td>\n",
       "      <td>1.589336e+06</td>\n",
       "      <td>1589336.0</td>\n",
       "      <td>1.589336e+06</td>\n",
       "      <td>1.589336e+06</td>\n",
       "      <td>1.589336e+06</td>\n",
       "      <td>1.589336e+06</td>\n",
       "      <td>1.589336e+06</td>\n",
       "      <td>1.589336e+06</td>\n",
       "    </tr>\n",
       "    <tr>\n",
       "      <th>mean</th>\n",
       "      <td>2.016716e+03</td>\n",
       "      <td>1.849681e+00</td>\n",
       "      <td>4.556488e+00</td>\n",
       "      <td>1.585441e+01</td>\n",
       "      <td>3.983558e+00</td>\n",
       "      <td>2.016763e+07</td>\n",
       "      <td>1.988975e+04</td>\n",
       "      <td>2.125698e+03</td>\n",
       "      <td>1.270613e+04</td>\n",
       "      <td>1.273135e+04</td>\n",
       "      <td>...</td>\n",
       "      <td>0.0</td>\n",
       "      <td>1.465977e+02</td>\n",
       "      <td>1.203909e+02</td>\n",
       "      <td>1.0</td>\n",
       "      <td>8.652024e+02</td>\n",
       "      <td>3.930325e+00</td>\n",
       "      <td>5.976681e+00</td>\n",
       "      <td>2.633907e+03</td>\n",
       "      <td>8.609646e+00</td>\n",
       "      <td>1.022948e+01</td>\n",
       "    </tr>\n",
       "    <tr>\n",
       "      <th>std</th>\n",
       "      <td>4.511033e-01</td>\n",
       "      <td>9.402156e-01</td>\n",
       "      <td>2.779950e+00</td>\n",
       "      <td>8.767598e+00</td>\n",
       "      <td>1.979431e+00</td>\n",
       "      <td>4.289726e+03</td>\n",
       "      <td>3.929491e+02</td>\n",
       "      <td>1.730777e+03</td>\n",
       "      <td>1.523025e+03</td>\n",
       "      <td>1.523896e+03</td>\n",
       "      <td>...</td>\n",
       "      <td>0.0</td>\n",
       "      <td>7.901650e+01</td>\n",
       "      <td>7.595698e+01</td>\n",
       "      <td>0.0</td>\n",
       "      <td>6.224418e+02</td>\n",
       "      <td>2.447818e+00</td>\n",
       "      <td>4.135267e+00</td>\n",
       "      <td>1.449892e+03</td>\n",
       "      <td>4.784717e+00</td>\n",
       "      <td>4.969031e+00</td>\n",
       "    </tr>\n",
       "    <tr>\n",
       "      <th>min</th>\n",
       "      <td>2.016000e+03</td>\n",
       "      <td>1.000000e+00</td>\n",
       "      <td>1.000000e+00</td>\n",
       "      <td>1.000000e+00</td>\n",
       "      <td>1.000000e+00</td>\n",
       "      <td>2.016050e+07</td>\n",
       "      <td>1.939300e+04</td>\n",
       "      <td>1.000000e+00</td>\n",
       "      <td>1.013500e+04</td>\n",
       "      <td>1.013500e+04</td>\n",
       "      <td>...</td>\n",
       "      <td>0.0</td>\n",
       "      <td>1.500000e+01</td>\n",
       "      <td>7.000000e+00</td>\n",
       "      <td>1.0</td>\n",
       "      <td>3.100000e+01</td>\n",
       "      <td>1.000000e+00</td>\n",
       "      <td>0.000000e+00</td>\n",
       "      <td>0.000000e+00</td>\n",
       "      <td>0.000000e+00</td>\n",
       "      <td>0.000000e+00</td>\n",
       "    </tr>\n",
       "    <tr>\n",
       "      <th>25%</th>\n",
       "      <td>2.016000e+03</td>\n",
       "      <td>1.000000e+00</td>\n",
       "      <td>3.000000e+00</td>\n",
       "      <td>8.000000e+00</td>\n",
       "      <td>2.000000e+00</td>\n",
       "      <td>2.016122e+07</td>\n",
       "      <td>1.939300e+04</td>\n",
       "      <td>7.280000e+02</td>\n",
       "      <td>1.129200e+04</td>\n",
       "      <td>1.129200e+04</td>\n",
       "      <td>...</td>\n",
       "      <td>0.0</td>\n",
       "      <td>8.700000e+01</td>\n",
       "      <td>6.300000e+01</td>\n",
       "      <td>1.0</td>\n",
       "      <td>3.970000e+02</td>\n",
       "      <td>2.000000e+00</td>\n",
       "      <td>3.000000e+00</td>\n",
       "      <td>1.444000e+03</td>\n",
       "      <td>5.000000e+00</td>\n",
       "      <td>6.000000e+00</td>\n",
       "    </tr>\n",
       "    <tr>\n",
       "      <th>50%</th>\n",
       "      <td>2.017000e+03</td>\n",
       "      <td>2.000000e+00</td>\n",
       "      <td>4.000000e+00</td>\n",
       "      <td>1.600000e+01</td>\n",
       "      <td>4.000000e+00</td>\n",
       "      <td>2.017031e+07</td>\n",
       "      <td>1.980500e+04</td>\n",
       "      <td>1.648000e+03</td>\n",
       "      <td>1.289200e+04</td>\n",
       "      <td>1.289200e+04</td>\n",
       "      <td>...</td>\n",
       "      <td>0.0</td>\n",
       "      <td>1.280000e+02</td>\n",
       "      <td>1.020000e+02</td>\n",
       "      <td>1.0</td>\n",
       "      <td>6.960000e+02</td>\n",
       "      <td>3.000000e+00</td>\n",
       "      <td>7.000000e+00</td>\n",
       "      <td>2.621000e+03</td>\n",
       "      <td>9.000000e+00</td>\n",
       "      <td>1.100000e+01</td>\n",
       "    </tr>\n",
       "    <tr>\n",
       "      <th>75%</th>\n",
       "      <td>2.017000e+03</td>\n",
       "      <td>2.000000e+00</td>\n",
       "      <td>5.000000e+00</td>\n",
       "      <td>2.300000e+01</td>\n",
       "      <td>6.000000e+00</td>\n",
       "      <td>2.017040e+07</td>\n",
       "      <td>2.030400e+04</td>\n",
       "      <td>3.035000e+03</td>\n",
       "      <td>1.405700e+04</td>\n",
       "      <td>1.405700e+04</td>\n",
       "      <td>...</td>\n",
       "      <td>0.0</td>\n",
       "      <td>1.810000e+02</td>\n",
       "      <td>1.520000e+02</td>\n",
       "      <td>1.0</td>\n",
       "      <td>1.107000e+03</td>\n",
       "      <td>5.000000e+00</td>\n",
       "      <td>1.100000e+01</td>\n",
       "      <td>3.932000e+03</td>\n",
       "      <td>1.300000e+01</td>\n",
       "      <td>1.400000e+01</td>\n",
       "    </tr>\n",
       "    <tr>\n",
       "      <th>max</th>\n",
       "      <td>2.017000e+03</td>\n",
       "      <td>4.000000e+00</td>\n",
       "      <td>1.200000e+01</td>\n",
       "      <td>3.100000e+01</td>\n",
       "      <td>7.000000e+00</td>\n",
       "      <td>2.017043e+07</td>\n",
       "      <td>2.117100e+04</td>\n",
       "      <td>7.439000e+03</td>\n",
       "      <td>1.621800e+04</td>\n",
       "      <td>1.621800e+04</td>\n",
       "      <td>...</td>\n",
       "      <td>0.0</td>\n",
       "      <td>7.840000e+02</td>\n",
       "      <td>7.230000e+02</td>\n",
       "      <td>1.0</td>\n",
       "      <td>4.983000e+03</td>\n",
       "      <td>1.100000e+01</td>\n",
       "      <td>1.100000e+01</td>\n",
       "      <td>5.057000e+03</td>\n",
       "      <td>1.800000e+01</td>\n",
       "      <td>1.800000e+01</td>\n",
       "    </tr>\n",
       "  </tbody>\n",
       "</table>\n",
       "<p>8 rows × 28 columns</p>\n",
       "</div>"
      ],
      "text/plain": [
       "               Year       Quarter         Month    DayofMonth     DayOfWeek  \\\n",
       "count  1.589336e+06  1.589336e+06  1.589336e+06  1.589336e+06  1.589336e+06   \n",
       "mean   2.016716e+03  1.849681e+00  4.556488e+00  1.585441e+01  3.983558e+00   \n",
       "std    4.511033e-01  9.402156e-01  2.779950e+00  8.767598e+00  1.979431e+00   \n",
       "min    2.016000e+03  1.000000e+00  1.000000e+00  1.000000e+00  1.000000e+00   \n",
       "25%    2.016000e+03  1.000000e+00  3.000000e+00  8.000000e+00  2.000000e+00   \n",
       "50%    2.017000e+03  2.000000e+00  4.000000e+00  1.600000e+01  4.000000e+00   \n",
       "75%    2.017000e+03  2.000000e+00  5.000000e+00  2.300000e+01  6.000000e+00   \n",
       "max    2.017000e+03  4.000000e+00  1.200000e+01  3.100000e+01  7.000000e+00   \n",
       "\n",
       "         FlightDate     AirlineID     FlightNum  OriginAirportID  \\\n",
       "count  1.589336e+06  1.589336e+06  1.589336e+06     1.589336e+06   \n",
       "mean   2.016763e+07  1.988975e+04  2.125698e+03     1.270613e+04   \n",
       "std    4.289726e+03  3.929491e+02  1.730777e+03     1.523025e+03   \n",
       "min    2.016050e+07  1.939300e+04  1.000000e+00     1.013500e+04   \n",
       "25%    2.016122e+07  1.939300e+04  7.280000e+02     1.129200e+04   \n",
       "50%    2.017031e+07  1.980500e+04  1.648000e+03     1.289200e+04   \n",
       "75%    2.017040e+07  2.030400e+04  3.035000e+03     1.405700e+04   \n",
       "max    2.017043e+07  2.117100e+04  7.439000e+03     1.621800e+04   \n",
       "\n",
       "       DestAirportID      ...        Diverted  ActualElapsedTime  \\\n",
       "count   1.589336e+06      ...       1589336.0       1.589336e+06   \n",
       "mean    1.273135e+04      ...             0.0       1.465977e+02   \n",
       "std     1.523896e+03      ...             0.0       7.901650e+01   \n",
       "min     1.013500e+04      ...             0.0       1.500000e+01   \n",
       "25%     1.129200e+04      ...             0.0       8.700000e+01   \n",
       "50%     1.289200e+04      ...             0.0       1.280000e+02   \n",
       "75%     1.405700e+04      ...             0.0       1.810000e+02   \n",
       "max     1.621800e+04      ...             0.0       7.840000e+02   \n",
       "\n",
       "            AirTime    Flights      Distance  DistanceGroup  Unique_Carrier  \\\n",
       "count  1.589336e+06  1589336.0  1.589336e+06   1.589336e+06    1.589336e+06   \n",
       "mean   1.203909e+02        1.0  8.652024e+02   3.930325e+00    5.976681e+00   \n",
       "std    7.595698e+01        0.0  6.224418e+02   2.447818e+00    4.135267e+00   \n",
       "min    7.000000e+00        1.0  3.100000e+01   1.000000e+00    0.000000e+00   \n",
       "25%    6.300000e+01        1.0  3.970000e+02   2.000000e+00    3.000000e+00   \n",
       "50%    1.020000e+02        1.0  6.960000e+02   3.000000e+00    7.000000e+00   \n",
       "75%    1.520000e+02        1.0  1.107000e+03   5.000000e+00    1.100000e+01   \n",
       "max    7.230000e+02        1.0  4.983000e+03   1.100000e+01    1.100000e+01   \n",
       "\n",
       "        Tail_Number   DepTime_Blk   ArrTime_Blk  \n",
       "count  1.589336e+06  1.589336e+06  1.589336e+06  \n",
       "mean   2.633907e+03  8.609646e+00  1.022948e+01  \n",
       "std    1.449892e+03  4.784717e+00  4.969031e+00  \n",
       "min    0.000000e+00  0.000000e+00  0.000000e+00  \n",
       "25%    1.444000e+03  5.000000e+00  6.000000e+00  \n",
       "50%    2.621000e+03  9.000000e+00  1.100000e+01  \n",
       "75%    3.932000e+03  1.300000e+01  1.400000e+01  \n",
       "max    5.057000e+03  1.800000e+01  1.800000e+01  \n",
       "\n",
       "[8 rows x 28 columns]"
      ]
     },
     "execution_count": 26,
     "metadata": {},
     "output_type": "execute_result"
    }
   ],
   "source": [
    "rfDataPCA = pd.DataFrame(data)\n",
    "#Subsetting based on earlier feature selection of variables (derived from correlation)\n",
    "rfDataPCA.drop(['OriginAirportSeqID','OriginCityMarketID', 'OriginStateFips', 'OriginWac', \n",
    "                     'DestAirportSeqID', 'DestCityMarketID', 'DestStateFips', 'DestWac',\n",
    "                     'CRSDepTime', 'CRSElapsedTime', 'CRSArrTime','Carrier_Name', \n",
    "                     'Origin_Point', 'Origin_CityName', 'Origin_State', 'OriginState_Name', \n",
    "                     'Destination', 'Dest_CityName', 'Dest_State', 'Dest_StateName'], axis=1, inplace=True)\n",
    "print('Dimension reduced to:')\n",
    "print(len(rfDataPCA.columns))\n",
    "list(rfDataPCA.columns)\n",
    "rfDataPCA.describe()"
   ]
  },
  {
   "cell_type": "code",
   "execution_count": 27,
   "metadata": {
    "scrolled": true
   },
   "outputs": [
    {
     "data": {
      "text/plain": [
       "[('Year', 'FlightDate'),\n",
       " ('Quarter', 'Month'),\n",
       " ('OriginAirportID', 'OriginAirportSeqID'),\n",
       " ('OriginAirportID', 'Origin_Point'),\n",
       " ('OriginAirportID', 'Origin_CityName'),\n",
       " ('OriginAirportSeqID', 'Origin_Point'),\n",
       " ('OriginAirportSeqID', 'Origin_CityName'),\n",
       " ('OriginStateFips', 'Origin_State'),\n",
       " ('OriginStateFips', 'OriginState_Name'),\n",
       " ('DestAirportID', 'DestAirportSeqID'),\n",
       " ('DestAirportID', 'Destination'),\n",
       " ('DestAirportID', 'Dest_CityName'),\n",
       " ('DestAirportSeqID', 'Destination'),\n",
       " ('DestAirportSeqID', 'Dest_CityName'),\n",
       " ('DestStateFips', 'Dest_State'),\n",
       " ('DestStateFips', 'Dest_StateName'),\n",
       " ('CRSDepTime', 'DepTime'),\n",
       " ('CRSDepTime', 'WheelsOff'),\n",
       " ('CRSDepTime', 'DepTime_Blk'),\n",
       " ('CRSDepTime', 'ArrTime_Blk'),\n",
       " ('DepTime', 'WheelsOff'),\n",
       " ('DepTime', 'DepTime_Blk'),\n",
       " ('DepTime', 'ArrTime_Blk'),\n",
       " ('WheelsOff', 'DepTime_Blk'),\n",
       " ('WheelsOff', 'ArrTime_Blk'),\n",
       " ('WheelsOn', 'CRSArrTime'),\n",
       " ('WheelsOn', 'ArrTime'),\n",
       " ('WheelsOn', 'ArrTime_Blk'),\n",
       " ('CRSArrTime', 'ArrTime'),\n",
       " ('CRSArrTime', 'ArrTime_Blk'),\n",
       " ('CRSElapsedTime', 'ActualElapsedTime'),\n",
       " ('CRSElapsedTime', 'AirTime'),\n",
       " ('CRSElapsedTime', 'Distance'),\n",
       " ('CRSElapsedTime', 'DistanceGroup'),\n",
       " ('ActualElapsedTime', 'AirTime'),\n",
       " ('ActualElapsedTime', 'Distance'),\n",
       " ('ActualElapsedTime', 'DistanceGroup'),\n",
       " ('AirTime', 'Distance'),\n",
       " ('AirTime', 'DistanceGroup'),\n",
       " ('Distance', 'DistanceGroup'),\n",
       " ('Unique_Carrier', 'Carrier_Name'),\n",
       " ('Origin_Point', 'Origin_CityName'),\n",
       " ('Origin_State', 'OriginState_Name'),\n",
       " ('Destination', 'Dest_CityName'),\n",
       " ('Dest_State', 'Dest_StateName'),\n",
       " ('DepTime_Blk', 'ArrTime_Blk')]"
      ]
     },
     "execution_count": 27,
     "metadata": {},
     "output_type": "execute_result"
    }
   ],
   "source": [
    "indices = np.where(corr > 0.7)\n",
    "indices = [(corr.columns[x], corr.columns[y]) for x, y in zip(*indices)\n",
    "                                        if x != y and x < y]\n",
    "indices"
   ]
  },
  {
   "cell_type": "code",
   "execution_count": 28,
   "metadata": {
    "collapsed": true
   },
   "outputs": [],
   "source": [
    "rfDataPCA.drop(['FlightDate','DepTime','DepTime_Blk','ActualElapsedTime','AirTime','DistanceGroup','DepTime_Blk'], \n",
    "          axis=1, inplace=True)#Further reduction of multicollinearity for PCA"
   ]
  },
  {
   "cell_type": "code",
   "execution_count": 29,
   "metadata": {},
   "outputs": [
    {
     "data": {
      "image/png": "[encoded data removed]",
      "text/plain": [
       "<matplotlib.figure.Figure at 0x2470d8d69e8>"
      ]
     },
     "metadata": {},
     "output_type": "display_data"
    }
   ],
   "source": [
    "#Check for collinearity\n",
    "plt.matshow(rfDataPCA.corr())\n",
    "plt.title('Correlation matrix for NON-COLLINEAR data')\n",
    "corr = rfDataPCA.corr()"
   ]
  },
  {
   "cell_type": "markdown",
   "metadata": {},
   "source": [
    "Note: Darker cells indicate high collinearity. It is seen here only between the variable and itself."
   ]
  },
  {
   "cell_type": "code",
   "execution_count": 30,
   "metadata": {
    "scrolled": true
   },
   "outputs": [
    {
     "data": {
      "text/plain": [
       "[('Quarter', 'Month'),\n",
       " ('WheelsOff', 'ArrTime_Blk'),\n",
       " ('WheelsOn', 'ArrTime'),\n",
       " ('WheelsOn', 'ArrTime_Blk')]"
      ]
     },
     "execution_count": 30,
     "metadata": {},
     "output_type": "execute_result"
    }
   ],
   "source": [
    "indices = np.where(corr > 0.7)\n",
    "indices = [(corr.columns[x], corr.columns[y]) for x, y in zip(*indices)\n",
    "                                        if x != y and x < y]\n",
    "indices"
   ]
  },
  {
   "cell_type": "markdown",
   "metadata": {},
   "source": [
    "###### Data ready for PCA"
   ]
  },
  {
   "cell_type": "code",
   "execution_count": 31,
   "metadata": {},
   "outputs": [
    {
     "name": "stdout",
     "output_type": "stream",
     "text": [
      "Dimension reduced to:\n",
      "22\n"
     ]
    },
    {
     "data": {
      "text/html": [
       "<div>\n",
       "<table border=\"1\" class=\"dataframe\">\n",
       "  <thead>\n",
       "    <tr style=\"text-align: right;\">\n",
       "      <th></th>\n",
       "      <th>Year</th>\n",
       "      <th>Quarter</th>\n",
       "      <th>Month</th>\n",
       "      <th>DayofMonth</th>\n",
       "      <th>DayOfWeek</th>\n",
       "      <th>AirlineID</th>\n",
       "      <th>FlightNum</th>\n",
       "      <th>OriginAirportID</th>\n",
       "      <th>DestAirportID</th>\n",
       "      <th>TaxiOut</th>\n",
       "      <th>...</th>\n",
       "      <th>TaxiIn</th>\n",
       "      <th>ArrTime</th>\n",
       "      <th>ArrDel15</th>\n",
       "      <th>Cancelled</th>\n",
       "      <th>Diverted</th>\n",
       "      <th>Flights</th>\n",
       "      <th>Distance</th>\n",
       "      <th>Unique_Carrier</th>\n",
       "      <th>Tail_Number</th>\n",
       "      <th>ArrTime_Blk</th>\n",
       "    </tr>\n",
       "  </thead>\n",
       "  <tbody>\n",
       "    <tr>\n",
       "      <th>count</th>\n",
       "      <td>1.589336e+06</td>\n",
       "      <td>1.589336e+06</td>\n",
       "      <td>1.589336e+06</td>\n",
       "      <td>1.589336e+06</td>\n",
       "      <td>1.589336e+06</td>\n",
       "      <td>1.589336e+06</td>\n",
       "      <td>1.589336e+06</td>\n",
       "      <td>1.589336e+06</td>\n",
       "      <td>1.589336e+06</td>\n",
       "      <td>1.589336e+06</td>\n",
       "      <td>...</td>\n",
       "      <td>1.589336e+06</td>\n",
       "      <td>1.589336e+06</td>\n",
       "      <td>1589336.0</td>\n",
       "      <td>1589336.0</td>\n",
       "      <td>1589336.0</td>\n",
       "      <td>1589336.0</td>\n",
       "      <td>1.589336e+06</td>\n",
       "      <td>1.589336e+06</td>\n",
       "      <td>1.589336e+06</td>\n",
       "      <td>1.589336e+06</td>\n",
       "    </tr>\n",
       "    <tr>\n",
       "      <th>mean</th>\n",
       "      <td>2.016716e+03</td>\n",
       "      <td>1.849681e+00</td>\n",
       "      <td>4.556488e+00</td>\n",
       "      <td>1.585441e+01</td>\n",
       "      <td>3.983558e+00</td>\n",
       "      <td>1.988975e+04</td>\n",
       "      <td>2.125698e+03</td>\n",
       "      <td>1.270613e+04</td>\n",
       "      <td>1.273135e+04</td>\n",
       "      <td>1.813505e+01</td>\n",
       "      <td>...</td>\n",
       "      <td>8.071743e+00</td>\n",
       "      <td>1.506145e+03</td>\n",
       "      <td>0.5</td>\n",
       "      <td>0.0</td>\n",
       "      <td>0.0</td>\n",
       "      <td>1.0</td>\n",
       "      <td>8.652024e+02</td>\n",
       "      <td>5.976681e+00</td>\n",
       "      <td>2.633907e+03</td>\n",
       "      <td>1.022948e+01</td>\n",
       "    </tr>\n",
       "    <tr>\n",
       "      <th>std</th>\n",
       "      <td>4.511033e-01</td>\n",
       "      <td>9.402156e-01</td>\n",
       "      <td>2.779950e+00</td>\n",
       "      <td>8.767598e+00</td>\n",
       "      <td>1.979431e+00</td>\n",
       "      <td>3.929491e+02</td>\n",
       "      <td>1.730777e+03</td>\n",
       "      <td>1.523025e+03</td>\n",
       "      <td>1.523896e+03</td>\n",
       "      <td>1.191527e+01</td>\n",
       "      <td>...</td>\n",
       "      <td>7.438466e+00</td>\n",
       "      <td>5.786371e+02</td>\n",
       "      <td>0.5</td>\n",
       "      <td>0.0</td>\n",
       "      <td>0.0</td>\n",
       "      <td>0.0</td>\n",
       "      <td>6.224418e+02</td>\n",
       "      <td>4.135267e+00</td>\n",
       "      <td>1.449892e+03</td>\n",
       "      <td>4.969031e+00</td>\n",
       "    </tr>\n",
       "    <tr>\n",
       "      <th>min</th>\n",
       "      <td>2.016000e+03</td>\n",
       "      <td>1.000000e+00</td>\n",
       "      <td>1.000000e+00</td>\n",
       "      <td>1.000000e+00</td>\n",
       "      <td>1.000000e+00</td>\n",
       "      <td>1.939300e+04</td>\n",
       "      <td>1.000000e+00</td>\n",
       "      <td>1.013500e+04</td>\n",
       "      <td>1.013500e+04</td>\n",
       "      <td>1.000000e+00</td>\n",
       "      <td>...</td>\n",
       "      <td>1.000000e+00</td>\n",
       "      <td>1.000000e+00</td>\n",
       "      <td>0.0</td>\n",
       "      <td>0.0</td>\n",
       "      <td>0.0</td>\n",
       "      <td>1.0</td>\n",
       "      <td>3.100000e+01</td>\n",
       "      <td>0.000000e+00</td>\n",
       "      <td>0.000000e+00</td>\n",
       "      <td>0.000000e+00</td>\n",
       "    </tr>\n",
       "    <tr>\n",
       "      <th>25%</th>\n",
       "      <td>2.016000e+03</td>\n",
       "      <td>1.000000e+00</td>\n",
       "      <td>3.000000e+00</td>\n",
       "      <td>8.000000e+00</td>\n",
       "      <td>2.000000e+00</td>\n",
       "      <td>1.939300e+04</td>\n",
       "      <td>7.280000e+02</td>\n",
       "      <td>1.129200e+04</td>\n",
       "      <td>1.129200e+04</td>\n",
       "      <td>1.100000e+01</td>\n",
       "      <td>...</td>\n",
       "      <td>4.000000e+00</td>\n",
       "      <td>1.120000e+03</td>\n",
       "      <td>0.0</td>\n",
       "      <td>0.0</td>\n",
       "      <td>0.0</td>\n",
       "      <td>1.0</td>\n",
       "      <td>3.970000e+02</td>\n",
       "      <td>3.000000e+00</td>\n",
       "      <td>1.444000e+03</td>\n",
       "      <td>6.000000e+00</td>\n",
       "    </tr>\n",
       "    <tr>\n",
       "      <th>50%</th>\n",
       "      <td>2.017000e+03</td>\n",
       "      <td>2.000000e+00</td>\n",
       "      <td>4.000000e+00</td>\n",
       "      <td>1.600000e+01</td>\n",
       "      <td>4.000000e+00</td>\n",
       "      <td>1.980500e+04</td>\n",
       "      <td>1.648000e+03</td>\n",
       "      <td>1.289200e+04</td>\n",
       "      <td>1.289200e+04</td>\n",
       "      <td>1.500000e+01</td>\n",
       "      <td>...</td>\n",
       "      <td>6.000000e+00</td>\n",
       "      <td>1.603000e+03</td>\n",
       "      <td>0.5</td>\n",
       "      <td>0.0</td>\n",
       "      <td>0.0</td>\n",
       "      <td>1.0</td>\n",
       "      <td>6.960000e+02</td>\n",
       "      <td>7.000000e+00</td>\n",
       "      <td>2.621000e+03</td>\n",
       "      <td>1.100000e+01</td>\n",
       "    </tr>\n",
       "    <tr>\n",
       "      <th>75%</th>\n",
       "      <td>2.017000e+03</td>\n",
       "      <td>2.000000e+00</td>\n",
       "      <td>5.000000e+00</td>\n",
       "      <td>2.300000e+01</td>\n",
       "      <td>6.000000e+00</td>\n",
       "      <td>2.030400e+04</td>\n",
       "      <td>3.035000e+03</td>\n",
       "      <td>1.405700e+04</td>\n",
       "      <td>1.405700e+04</td>\n",
       "      <td>2.100000e+01</td>\n",
       "      <td>...</td>\n",
       "      <td>9.000000e+00</td>\n",
       "      <td>1.959000e+03</td>\n",
       "      <td>1.0</td>\n",
       "      <td>0.0</td>\n",
       "      <td>0.0</td>\n",
       "      <td>1.0</td>\n",
       "      <td>1.107000e+03</td>\n",
       "      <td>1.100000e+01</td>\n",
       "      <td>3.932000e+03</td>\n",
       "      <td>1.400000e+01</td>\n",
       "    </tr>\n",
       "    <tr>\n",
       "      <th>max</th>\n",
       "      <td>2.017000e+03</td>\n",
       "      <td>4.000000e+00</td>\n",
       "      <td>1.200000e+01</td>\n",
       "      <td>3.100000e+01</td>\n",
       "      <td>7.000000e+00</td>\n",
       "      <td>2.117100e+04</td>\n",
       "      <td>7.439000e+03</td>\n",
       "      <td>1.621800e+04</td>\n",
       "      <td>1.621800e+04</td>\n",
       "      <td>1.830000e+02</td>\n",
       "      <td>...</td>\n",
       "      <td>4.130000e+02</td>\n",
       "      <td>2.400000e+03</td>\n",
       "      <td>1.0</td>\n",
       "      <td>0.0</td>\n",
       "      <td>0.0</td>\n",
       "      <td>1.0</td>\n",
       "      <td>4.983000e+03</td>\n",
       "      <td>1.100000e+01</td>\n",
       "      <td>5.057000e+03</td>\n",
       "      <td>1.800000e+01</td>\n",
       "    </tr>\n",
       "  </tbody>\n",
       "</table>\n",
       "<p>8 rows × 22 columns</p>\n",
       "</div>"
      ],
      "text/plain": [
       "               Year       Quarter         Month    DayofMonth     DayOfWeek  \\\n",
       "count  1.589336e+06  1.589336e+06  1.589336e+06  1.589336e+06  1.589336e+06   \n",
       "mean   2.016716e+03  1.849681e+00  4.556488e+00  1.585441e+01  3.983558e+00   \n",
       "std    4.511033e-01  9.402156e-01  2.779950e+00  8.767598e+00  1.979431e+00   \n",
       "min    2.016000e+03  1.000000e+00  1.000000e+00  1.000000e+00  1.000000e+00   \n",
       "25%    2.016000e+03  1.000000e+00  3.000000e+00  8.000000e+00  2.000000e+00   \n",
       "50%    2.017000e+03  2.000000e+00  4.000000e+00  1.600000e+01  4.000000e+00   \n",
       "75%    2.017000e+03  2.000000e+00  5.000000e+00  2.300000e+01  6.000000e+00   \n",
       "max    2.017000e+03  4.000000e+00  1.200000e+01  3.100000e+01  7.000000e+00   \n",
       "\n",
       "          AirlineID     FlightNum  OriginAirportID  DestAirportID  \\\n",
       "count  1.589336e+06  1.589336e+06     1.589336e+06   1.589336e+06   \n",
       "mean   1.988975e+04  2.125698e+03     1.270613e+04   1.273135e+04   \n",
       "std    3.929491e+02  1.730777e+03     1.523025e+03   1.523896e+03   \n",
       "min    1.939300e+04  1.000000e+00     1.013500e+04   1.013500e+04   \n",
       "25%    1.939300e+04  7.280000e+02     1.129200e+04   1.129200e+04   \n",
       "50%    1.980500e+04  1.648000e+03     1.289200e+04   1.289200e+04   \n",
       "75%    2.030400e+04  3.035000e+03     1.405700e+04   1.405700e+04   \n",
       "max    2.117100e+04  7.439000e+03     1.621800e+04   1.621800e+04   \n",
       "\n",
       "            TaxiOut      ...             TaxiIn       ArrTime   ArrDel15  \\\n",
       "count  1.589336e+06      ...       1.589336e+06  1.589336e+06  1589336.0   \n",
       "mean   1.813505e+01      ...       8.071743e+00  1.506145e+03        0.5   \n",
       "std    1.191527e+01      ...       7.438466e+00  5.786371e+02        0.5   \n",
       "min    1.000000e+00      ...       1.000000e+00  1.000000e+00        0.0   \n",
       "25%    1.100000e+01      ...       4.000000e+00  1.120000e+03        0.0   \n",
       "50%    1.500000e+01      ...       6.000000e+00  1.603000e+03        0.5   \n",
       "75%    2.100000e+01      ...       9.000000e+00  1.959000e+03        1.0   \n",
       "max    1.830000e+02      ...       4.130000e+02  2.400000e+03        1.0   \n",
       "\n",
       "       Cancelled   Diverted    Flights      Distance  Unique_Carrier  \\\n",
       "count  1589336.0  1589336.0  1589336.0  1.589336e+06    1.589336e+06   \n",
       "mean         0.0        0.0        1.0  8.652024e+02    5.976681e+00   \n",
       "std          0.0        0.0        0.0  6.224418e+02    4.135267e+00   \n",
       "min          0.0        0.0        1.0  3.100000e+01    0.000000e+00   \n",
       "25%          0.0        0.0        1.0  3.970000e+02    3.000000e+00   \n",
       "50%          0.0        0.0        1.0  6.960000e+02    7.000000e+00   \n",
       "75%          0.0        0.0        1.0  1.107000e+03    1.100000e+01   \n",
       "max          0.0        0.0        1.0  4.983000e+03    1.100000e+01   \n",
       "\n",
       "        Tail_Number   ArrTime_Blk  \n",
       "count  1.589336e+06  1.589336e+06  \n",
       "mean   2.633907e+03  1.022948e+01  \n",
       "std    1.449892e+03  4.969031e+00  \n",
       "min    0.000000e+00  0.000000e+00  \n",
       "25%    1.444000e+03  6.000000e+00  \n",
       "50%    2.621000e+03  1.100000e+01  \n",
       "75%    3.932000e+03  1.400000e+01  \n",
       "max    5.057000e+03  1.800000e+01  \n",
       "\n",
       "[8 rows x 22 columns]"
      ]
     },
     "execution_count": 31,
     "metadata": {},
     "output_type": "execute_result"
    }
   ],
   "source": [
    "print('Dimension reduced to:')\n",
    "print(len(rfDataPCA.columns))\n",
    "rfDataPCA.describe()"
   ]
  },
  {
   "cell_type": "markdown",
   "metadata": {},
   "source": [
    "### Dimension reduction with PCA"
   ]
  },
  {
   "cell_type": "markdown",
   "metadata": {},
   "source": [
    "PCA is done on three variants of the dataset to identify which one needs to be used for modeling:\n",
    "- PCA 1: Dataset with Multi-Collinear variables: Highly collinear variables have amplified contribution in PCA\n",
    "- PCA 2: Dataset with Redundant variables removed (i.e. repeated ID, dep time, arr time etc.)\n",
    "- PCA 3: Dataset without any Non-Collinear variables\n",
    "\n",
    "This was a last minute approach to demonstrate that my initial hypothesis was wrong. My initial thought was that PCA would be better with non-collinear variables and this would give better model performance.\n",
    "\n",
    "However, I saw better model performance (> 10% for accuracy and recall) with PCs derived from multi-collinear dataset. This was because the first two components could almost fully explain the variance in target variable. But in the second and third cases,around 8PCs were needed to fully explain the variance while the scree plot was giving an intuition of choosing 3 or 4 components.\n",
    "\n",
    "Due to limitation in training time, results are demonstrated only for model creation with PCs derived from multi-collinear data."
   ]
  },
  {
   "cell_type": "markdown",
   "metadata": {},
   "source": [
    "###### PCA 1: On HIGHLY MULTI-COLLINEAR data"
   ]
  },
  {
   "cell_type": "code",
   "execution_count": 32,
   "metadata": {},
   "outputs": [
    {
     "name": "stdout",
     "output_type": "stream",
     "text": [
      "[  5.10437477e-01   4.88965331e-01   3.96674386e-04   6.56055689e-05\n",
      "   4.50305685e-05   2.62220344e-05   2.24592784e-05   2.01350522e-05]\n"
     ]
    },
    {
     "data": {
      "text/plain": [
       "array([ 51.04,  99.94,  99.98,  99.99,  99.99,  99.99,  99.99,  99.99])"
      ]
     },
     "execution_count": 32,
     "metadata": {},
     "output_type": "execute_result"
    }
   ],
   "source": [
    "pca = PCA(n_components=8)\n",
    "data_reduced = pca.fit_transform(data)\n",
    "print(pca.explained_variance_ratio_)\n",
    "np.cumsum(np.round(pca.explained_variance_ratio_, decimals=4)*100)"
   ]
  },
  {
   "cell_type": "code",
   "execution_count": 33,
   "metadata": {},
   "outputs": [
    {
     "data": {
      "text/plain": [
       "<matplotlib.text.Text at 0x2470da36438>"
      ]
     },
     "execution_count": 33,
     "metadata": {},
     "output_type": "execute_result"
    },
    {
     "data": {
      "image/png": "[encoded data removed]",
      "text/plain": [
       "<matplotlib.figure.Figure at 0x2470d92c668>"
      ]
     },
     "metadata": {},
     "output_type": "display_data"
    }
   ],
   "source": [
    "plt.figure(1, figsize=(20, 5))\n",
    "plt.plot(pca.explained_variance_, linewidth=3)\n",
    "plt.axis('tight')\n",
    "plt.title('Scree plot for PCA with COLLINEAR data')\n",
    "plt.xlabel('No. of principal components')\n",
    "plt.ylabel('Explained variance')"
   ]
  },
  {
   "cell_type": "markdown",
   "metadata": {},
   "source": [
    "Note: Elbow is used to choose the number of principal components (Here, #PCs chosen = 2)"
   ]
  },
  {
   "cell_type": "markdown",
   "metadata": {},
   "source": [
    "###### PCA 2: On PARTIALLY MULTI-COLLINEAR data"
   ]
  },
  {
   "cell_type": "code",
   "execution_count": 34,
   "metadata": {},
   "outputs": [
    {
     "name": "stdout",
     "output_type": "stream",
     "text": [
      "[ 0.61641751  0.10176803  0.0821394   0.07602882  0.06768832  0.02958812\n",
      "  0.01189005  0.00863503]\n"
     ]
    },
    {
     "data": {
      "text/plain": [
       "array([ 61.64,  71.82,  80.03,  87.63,  94.4 ,  97.36,  98.55,  99.41])"
      ]
     },
     "execution_count": 34,
     "metadata": {},
     "output_type": "execute_result"
    }
   ],
   "source": [
    "pca = PCA(n_components=8)\n",
    "rfDataOriginal_reduced = pca.fit_transform(rfDataOriginal)\n",
    "print(pca.explained_variance_ratio_)\n",
    "np.cumsum(np.round(pca.explained_variance_ratio_, decimals=4)*100)"
   ]
  },
  {
   "cell_type": "code",
   "execution_count": 35,
   "metadata": {},
   "outputs": [
    {
     "data": {
      "text/plain": [
       "<matplotlib.text.Text at 0x2470d963a58>"
      ]
     },
     "execution_count": 35,
     "metadata": {},
     "output_type": "execute_result"
    },
    {
     "data": {
      "image/png": "[encoded data removed]",
      "text/plain": [
       "<matplotlib.figure.Figure at 0x2470dcabbe0>"
      ]
     },
     "metadata": {},
     "output_type": "display_data"
    }
   ],
   "source": [
    "plt.figure(1, figsize=(20, 5))\n",
    "plt.plot(pca.explained_variance_, linewidth=3)\n",
    "plt.axis('tight')\n",
    "plt.title('Scree plot for PCA with FEATURE SELECTED data')\n",
    "plt.xlabel('No. of principal components')\n",
    "plt.ylabel('Explained variance')"
   ]
  },
  {
   "cell_type": "markdown",
   "metadata": {},
   "source": [
    "Note: Elbow is used to choose the number of principal components (Here, #PCs chosen = 4)"
   ]
  },
  {
   "cell_type": "markdown",
   "metadata": {},
   "source": [
    "###### PCA 3: On LOW MULTI-COLLINEAR data"
   ]
  },
  {
   "cell_type": "code",
   "execution_count": 36,
   "metadata": {},
   "outputs": [
    {
     "name": "stdout",
     "output_type": "stream",
     "text": [
      "[ 0.27129582  0.21898846  0.20263852  0.18061511  0.06696999  0.03077711\n",
      "  0.01416097  0.01316053]\n"
     ]
    },
    {
     "data": {
      "text/plain": [
       "array([ 27.13,  49.03,  69.29,  87.35,  94.05,  97.13,  98.55,  99.87])"
      ]
     },
     "execution_count": 36,
     "metadata": {},
     "output_type": "execute_result"
    }
   ],
   "source": [
    "pca = PCA(n_components=8)\n",
    "rfDataPCA_reduced = pca.fit_transform(rfDataPCA)\n",
    "print(pca.explained_variance_ratio_)\n",
    "np.cumsum(np.round(pca.explained_variance_ratio_, decimals=4)*100)"
   ]
  },
  {
   "cell_type": "code",
   "execution_count": 37,
   "metadata": {},
   "outputs": [
    {
     "data": {
      "text/plain": [
       "<matplotlib.text.Text at 0x2470d9f3278>"
      ]
     },
     "execution_count": 37,
     "metadata": {},
     "output_type": "execute_result"
    },
    {
     "data": {
      "image/png": "[encoded data removed]",
      "text/plain": [
       "<matplotlib.figure.Figure at 0x2470dd8d1d0>"
      ]
     },
     "metadata": {},
     "output_type": "display_data"
    }
   ],
   "source": [
    "plt.figure(1, figsize=(20, 5))\n",
    "plt.plot(pca.explained_variance_, linewidth=3)\n",
    "plt.axis('tight')\n",
    "plt.title('Scree plot for PCA with FEATURE RE-ENGINEERED data')\n",
    "plt.xlabel('No. of principal components')\n",
    "plt.ylabel('Explained variance')"
   ]
  },
  {
   "cell_type": "markdown",
   "metadata": {},
   "source": [
    "Note: Elbow is used to choose the number of principal components (Here, #PCs chosen = 4)"
   ]
  },
  {
   "cell_type": "code",
   "execution_count": 38,
   "metadata": {},
   "outputs": [
    {
     "name": "stdout",
     "output_type": "stream",
     "text": [
      "Dimension reduced to:\n",
      "47\n",
      "[ 0.51043748  0.48896533]\n",
      "Cumulative explained variance:\n"
     ]
    },
    {
     "data": {
      "text/plain": [
       "array([ 51.04,  99.94])"
      ]
     },
     "execution_count": 38,
     "metadata": {},
     "output_type": "execute_result"
    }
   ],
   "source": [
    "Delay_YesNo = data['ArrDel15']\n",
    "data.drop(['ArrDel15'], axis=1, inplace=True)#Removing target variable\n",
    "print('Dimension reduced to:')\n",
    "print(len(data.columns))\n",
    "data.describe()\n",
    "pca = PCA(n_components=2)\n",
    "data_reduced = pca.fit_transform(data)\n",
    "print(pca.explained_variance_ratio_)\n",
    "print('Cumulative explained variance:')\n",
    "np.cumsum(np.round(pca.explained_variance_ratio_, decimals=4)*100)"
   ]
  },
  {
   "cell_type": "markdown",
   "metadata": {},
   "source": [
    "### Model building with dimension reduced data"
   ]
  },
  {
   "cell_type": "markdown",
   "metadata": {},
   "source": [
    "###### Train/test split\n",
    "Train:Test split = 80:20"
   ]
  },
  {
   "cell_type": "code",
   "execution_count": 39,
   "metadata": {
    "collapsed": true
   },
   "outputs": [],
   "source": [
    "x_train, x_test, y_train, y_test = train_test_split(data, Delay_YesNo, test_size=0.2, random_state=42)"
   ]
  },
  {
   "cell_type": "markdown",
   "metadata": {},
   "source": [
    "###### Grid search\n",
    "Grid search is not performed for all the desired parameter combinations and values due to computational time"
   ]
  },
  {
   "cell_type": "code",
   "execution_count": 40,
   "metadata": {},
   "outputs": [
    {
     "name": "stdout",
     "output_type": "stream",
     "text": [
      "Random forest Grid Search with dimension reduced data took [ 1:42:32.520642 ] seconds.\n"
     ]
    }
   ],
   "source": [
    "startTimeGS = datetime.now()\n",
    "from sklearn.grid_search import GridSearchCV\n",
    "rf = RandomForestClassifier()\n",
    "param_grid = {\n",
    "                 'n_estimators': [10, 25],\n",
    "#                 'min_samples_split': [2, 4],\n",
    "#                 'min_samples_leaf': [2, 4],\n",
    "#                 'max_features': [sqrt', 'log2'],\n",
    "                 \"criterion\" : [\"gini\", \"entropy\"]\n",
    "             }\n",
    "grid_rf = GridSearchCV(rf, param_grid, cv=10)\n",
    "grid_rf.fit(x_train, y_train)\n",
    "bestModel = grid_rf.best_estimator_\n",
    "bestParameters = grid_rf.best_params_\n",
    "gridScores = grid_rf.grid_scores_\n",
    "print('Random forest Grid Search with dimension reduced data took [', datetime.now() - startTimeGS, '] seconds.')"
   ]
  },
  {
   "cell_type": "code",
   "execution_count": 41,
   "metadata": {},
   "outputs": [
    {
     "name": "stdout",
     "output_type": "stream",
     "text": [
      "RandomForestClassifier(bootstrap=True, class_weight=None, criterion='gini',\n",
      "            max_depth=None, max_features='auto', max_leaf_nodes=None,\n",
      "            min_impurity_split=1e-07, min_samples_leaf=1,\n",
      "            min_samples_split=2, min_weight_fraction_leaf=0.0,\n",
      "            n_estimators=25, n_jobs=1, oob_score=False, random_state=None,\n",
      "            verbose=0, warm_start=False)\n",
      "{'n_estimators': 25, 'criterion': 'gini'}\n"
     ]
    },
    {
     "data": {
      "text/plain": [
       "[mean: 0.96794, std: 0.00106, params: {'n_estimators': 10, 'criterion': 'gini'},\n",
       " mean: 0.97418, std: 0.00112, params: {'n_estimators': 25, 'criterion': 'gini'},\n",
       " mean: 0.96757, std: 0.00062, params: {'n_estimators': 10, 'criterion': 'entropy'},\n",
       " mean: 0.97369, std: 0.00087, params: {'n_estimators': 25, 'criterion': 'entropy'}]"
      ]
     },
     "execution_count": 41,
     "metadata": {},
     "output_type": "execute_result"
    }
   ],
   "source": [
    "print(bestModel)\n",
    "print(bestParameters)\n",
    "gridScores"
   ]
  },
  {
   "cell_type": "markdown",
   "metadata": {},
   "source": [
    "###### Model selection\n",
    "- Best model and parameters from above are used to train the final model on entire training set\n",
    "- 10- fold Cross validation is performed to find the overall error"
   ]
  },
  {
   "cell_type": "code",
   "execution_count": 42,
   "metadata": {},
   "outputs": [
    {
     "name": "stdout",
     "output_type": "stream",
     "text": [
      "Mean cross validation score is: 0.974501126167\n",
      "Random forest training and testing with PCs took [ 0:37:48.068291 ] seconds.\n"
     ]
    }
   ],
   "source": [
    "startTimeRF = datetime.now()\n",
    "rf = RandomForestClassifier(n_estimators = bestParameters.get('n_estimators'), \n",
    "#                            min_samples_split=bestParameters.get('min_samples_split'),\n",
    "#                           min_samples_leaf = bestParameters.get('min_samples_leaf'),\n",
    "#                           max_features = bestParameters.get('max_features'),\n",
    "                           criterion = bestParameters.get('criterion'))\n",
    "cv = cross_validation.KFold(len(x_train), n_folds=10, shuffle=True, random_state=2)\n",
    "cvScores = cross_val_score(rf, x_train, y_train, cv=cv)\n",
    "print ('Mean cross validation score is: ' + str(np.mean(cvScores)))\n",
    "rf.fit(x_train, y_train)\n",
    "print('Random forest training and testing with PCs took [', datetime.now() - startTimeRF, '] seconds.')"
   ]
  },
  {
   "cell_type": "markdown",
   "metadata": {},
   "source": [
    "###### Performance evaluation\n",
    "- Prediction is done on the hold out test set to evaluate performance\n",
    "- Confusion matrix, Accuracy and Recall are computed\n",
    "- ROC curve is also plotted to pictorically depict 'Area under curve (AUC)' as 'Accuracy' "
   ]
  },
  {
   "cell_type": "code",
   "execution_count": 43,
   "metadata": {},
   "outputs": [
    {
     "name": "stdout",
     "output_type": "stream",
     "text": [
      "Accuracy: 97.5%\n",
      "Recall: 95.95%\n",
      "Confusion matrix:\n",
      "[[156839   1481]\n",
      " [  6455 153093]]\n",
      "Area under the ROC curve: 0.0249062579649\n"
     ]
    },
    {
     "data": {
      "image/png": "[encoded data removed]",
      "text/plain": [
       "<matplotlib.figure.Figure at 0x2470dd3ebe0>"
      ]
     },
     "metadata": {},
     "output_type": "display_data"
    }
   ],
   "source": [
    "y_rf_pred = rf.predict(x_test)\n",
    "\n",
    "labels = [0, 1]\n",
    "cm = confusion_matrix(y_test, y_rf_pred,labels)\n",
    "\n",
    "print('Accuracy: ' + str(np.round(100*float(cm[0][0]+cm[1][1])/float((cm[0][0]+cm[1][1] + cm[1][0] + cm[0][1])),2))+'%')\n",
    "print('Recall: ' + str(np.round(100*float((cm[1][1]))/float((cm[1][0]+cm[1][1])),2))+'%')\n",
    "print('Confusion matrix:')\n",
    "print(cm)\n",
    "\n",
    "fpr, tpr, _ = roc_curve(y_test, y_rf_pred)\n",
    "auc = np.trapz(fpr,tpr)\n",
    "print('Area under the ROC curve: ' + str(auc))\n",
    "\n",
    "fig = plt.figure(figsize=(20, 5))\n",
    "\n",
    "plt.subplot2grid((2, 2), (1, 0), colspan=1)\n",
    "#plt.subplot(1,2,1)\n",
    "plt.plot(fpr,tpr,color='green')\n",
    "plt.xlabel('False positive rate (FPR)')\n",
    "plt.ylabel('True positive rate (TPR)')\n",
    "plt.title('Receiver operating characteristic (ROC)')\n",
    "\n",
    "ax1 = plt.subplot2grid((2, 2), (1, 1))\n",
    "#ax = fig.add_subplot(122)\n",
    "cax = ax1.matshow(cm)\n",
    "plt.title('Confusion matrix for Random Forest classifier with PCs')\n",
    "fig.colorbar(cax)\n",
    "ax1.set_xticklabels([''] + labels)\n",
    "ax1.set_yticklabels([''] + labels)\n",
    "plt.xlabel('Predicted')\n",
    "plt.ylabel('True')\n",
    "plt.show()"
   ]
  },
  {
   "cell_type": "markdown",
   "metadata": {},
   "source": [
    "### Inferences:\n",
    "- Random forest on PCs always demonstrated slightly better performance, but this was marginal (1-2%).\n",
    "- It is inferred that dimension reduction with PCA is not really required for Random forest as it is already a modeling method that inherently handles variance in data through bagging, random splitting and voting.\n",
    "- It may however be a delightful approach if one wants to reduce dimension by avoiding the hassle of removing collinear variables. A PCA can capture all the variation easily and be fed straight to random forest thus enabling quicker modeling. \n",
    "    "
   ]
  },
  {
   "cell_type": "markdown",
   "metadata": {},
   "source": [
    "### Future Work:\n",
    "- As performance was observed to be improving with more data, it is strongly suggested to train on more data which is easily available from DOT website.\n",
    "- This will improve Recall and give better prediction for 'Delayed' flights which is the problem in hand.\n",
    "- It is also recommended that an initial coarser search followed by finer grid search can help in identifying optimal model parameters that can enable prediction with higher performance.\n",
    "- Sampling of data to avoid class imbalance resulted in discarding a lot of data. I am not much concerned about this due to availability of huge amounts of data in DOT website. But, this may need to be addressed elsewhere by exploring imputation. In this problem, regression imputation is suggested as mean and zero imputation did not provide good results.\n",
    "- Feature transformation could have been explored by deriving new features from existing data. Examples can be Airport delay, Airline delay etc from taxi duration, wheels on, wheels off etc. This would have provided much more intuitive analysis results.\n",
    "- Lastly and more importantly, grid search with more trees in Random Forest is essential and is highly likely to give improved results."
   ]
  },
  {
   "cell_type": "markdown",
   "metadata": {},
   "source": [
    "### References:\n",
    "- Kaggle.com\n",
    "- stats.stackexchange.com\n",
    "- fivethirtyeight.com"
   ]
  },
  {
   "cell_type": "code",
   "execution_count": 44,
   "metadata": {},
   "outputs": [
    {
     "name": "stdout",
     "output_type": "stream",
     "text": [
      "Overall execution took [ 4:17:09.190782 ] seconds.\n"
     ]
    }
   ],
   "source": [
    "print('Overall execution took [', datetime.now() - startTime, '] seconds.')"
   ]
  }
 ],
 "metadata": {
  "anaconda-cloud": {},
  "kernelspec": {
   "display_name": "Python 3",
   "language": "python",
   "name": "python3"
  },
  "language_info": {
   "codemirror_mode": {
    "name": "ipython",
    "version": 3
   },
   "file_extension": ".py",
   "mimetype": "text/x-python",
   "name": "python",
   "nbconvert_exporter": "python",
   "pygments_lexer": "ipython3",
   "version": "3.9.7"
  }
 },
 "nbformat": 4,
 "nbformat_minor": 1
}
